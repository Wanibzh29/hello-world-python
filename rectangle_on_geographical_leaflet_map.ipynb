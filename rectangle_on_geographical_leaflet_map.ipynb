{
 "cells": [
  {
   "cell_type": "code",
   "execution_count": 3,
   "metadata": {},
   "outputs": [
    {
     "name": "stdout",
     "output_type": "stream",
     "text": [
      "perimeter: long_min>=-3.500000, long_max<=-3.400000, lat_min>=48.700000, lat_max<=48.800000\n"
     ]
    },
    {
     "data": {
      "application/vnd.jupyter.widget-view+json": {
       "model_id": "a606cef1797e4dbd855d07e99793ab82",
       "version_major": 2,
       "version_minor": 0
      },
      "text/html": [
       "<p>Failed to display Jupyter Widget of type <code>Map</code>.</p>\n",
       "<p>\n",
       "  If you're reading this message in the Jupyter Notebook or JupyterLab Notebook, it may mean\n",
       "  that the widgets JavaScript is still loading. If this message persists, it\n",
       "  likely means that the widgets JavaScript library is either not installed or\n",
       "  not enabled. See the <a href=\"https://ipywidgets.readthedocs.io/en/stable/user_install.html\">Jupyter\n",
       "  Widgets Documentation</a> for setup instructions.\n",
       "</p>\n",
       "<p>\n",
       "  If you're reading this message in another frontend (for example, a static\n",
       "  rendering on GitHub or <a href=\"https://nbviewer.jupyter.org/\">NBViewer</a>),\n",
       "  it may mean that your frontend doesn't currently support widgets.\n",
       "</p>\n"
      ],
      "text/plain": [
       "Map(basemap={'max_zoom': 19, 'attribution': 'Map data (c) <a href=\"https://openstreetmap.org\">OpenStreetMap</a> contributors', 'url': 'https://{s}.tile.openstreetmap.org/{z}/{x}/{y}.png'}, center=[48.75, -3.45], default_tiles=TileLayer(base=True, max_zoom=19, min_zoom=1, options=['tile_size', 'min_zoom', 'attribution', 'detect_retina', 'max_zoom']), layers=(TileLayer(base=True, max_zoom=19, min_zoom=1, options=['tile_size', 'min_zoom', 'attribution', 'detect_retina', 'max_zoom']), GeoJSON(data={'geometry': {'coordinates': [[[-3.5, 48.7], [-3.5, 48.8], [-3.4, 48.8], [-3.4, 48.7], [-3.5, 48.7]]], 'type': 'Polygon'}, 'type': 'Feature'}, style={'weight': 1, 'stroke-dasharray': '5, 10', 'opacity': 0.5, 'fillOpacity': 0, 'color': 'black', 'fillColor': 'grey'})), layout=Layout(align_self='stretch', height='400px'), options=['inertia', 'min_zoom', 'zoom_start', 'box_zoom', 'keyboard_zoom_offset', 'keyboard', 'max_zoom', 'bounce_at_zoom_limits', 'zoom_animation_threshold', 'basemap', 'inertia_max_speed', 'attribution_control', 'dragging', 'zoom_control', 'touch_zoom', 'tap', 'tap_tolerance', 'double_click_zoom', 'keyboard_pan_offset', 'zoom', 'world_copy_jump', 'scroll_wheel_zoom', 'inertia_deceleration', 'center', 'close_popup_on_click'], zoom=11)"
      ]
     },
     "metadata": {},
     "output_type": "display_data"
    }
   ],
   "source": [
    "%matplotlib inline\n",
    "\n",
    "#from __future__ import print_function\n",
    "from ipyleaflet import (\n",
    "    Map,\n",
    "    Marker,\n",
    "    TileLayer, ImageOverlay,\n",
    "    Polyline, Polygon, Rectangle, Circle, CircleMarker,\n",
    "    GeoJSON,\n",
    "    DrawControl\n",
    ")\n",
    "\n",
    "\n",
    "def add_rectangle_perimeter(m,  long_min, long_max, lat_min, lat_max):\n",
    "    \n",
    "    print(\"perimeter: long_min>=%f, long_max<=%f, lat_min>=%f, lat_max<=%f\" % (long_min, long_max, lat_min, lat_max))  \n",
    "    \n",
    "    rectangle = {\"type\": \"Feature\", \\\n",
    "            #\"properties\": {\"operator\": operateur}, \\\n",
    "            \"geometry\": { \"type\" : \"Polygon\", \\\n",
    "            \"coordinates\": [[[long_min, lat_min],[long_min, lat_max],[long_max, lat_max],[long_max, lat_min],[long_min, lat_min]]]\n",
    "        } }\n",
    "\n",
    "    my_style = {\n",
    "        \"color\": 'black', # color of the polygone outline\n",
    "        \"weight\": 1, # weight of the polygone outline\n",
    "        \"opacity\": 0.5, # opacity of the polygone outline       \n",
    "        \"fillColor\": 'grey', # color inside the polygon\n",
    "        \"fillOpacity\": 0, # opacity inside the polygon\n",
    "        \"stroke-dasharray\":'5, 10'\n",
    "    };\n",
    "    g = GeoJSON(data=rectangle, style=my_style)\n",
    "    m.add_layer(g)\n",
    "\n",
    "\n",
    "# draw a rectangle around Lannion (well... more or less)\n",
    "# https://tools.wmflabs.org/geohack/geohack.php?pagename=Lannion&params=48.7333_N_3.4542_W_type:city(19733)_region:FR-BRE    \n",
    "# 48.7333, -3.4542\n",
    "long_min = -3.5\n",
    "long_max = -3.4\n",
    "lat_min = 48.7\n",
    "lat_max = 48.8\n",
    "\n",
    "zoom = 11\n",
    "\n",
    "map_center = [(lat_max + lat_min)/2, (long_min + long_max)/2 ]\n",
    "\n",
    "m = Map(center=map_center, zoom=zoom)\n",
    "\n",
    "add_rectangle_perimeter(m,  long_min, long_max, lat_min, lat_max)\n",
    "m\n",
    "\n"
   ]
  },
  {
   "cell_type": "code",
   "execution_count": null,
   "metadata": {},
   "outputs": [],
   "source": []
  }
 ],
 "metadata": {
  "kernelspec": {
   "display_name": "Python 3",
   "language": "python",
   "name": "python3"
  },
  "language_info": {
   "codemirror_mode": {
    "name": "ipython",
    "version": 3
   },
   "file_extension": ".py",
   "mimetype": "text/x-python",
   "name": "python",
   "nbconvert_exporter": "python",
   "pygments_lexer": "ipython3",
   "version": "3.5.2"
  }
 },
 "nbformat": 4,
 "nbformat_minor": 2
}
