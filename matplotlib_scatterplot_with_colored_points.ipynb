{
 "cells": [
  {
   "cell_type": "code",
   "execution_count": 1,
   "metadata": {},
   "outputs": [
    {
     "data": {
      "text/plain": [
       "[None, None]"
      ]
     },
     "execution_count": 1,
     "metadata": {},
     "output_type": "execute_result"
    },
    {
     "data": {
      "image/png": "[encoded data removed]",
      "text/plain": [
       "<Figure size 432x288 with 1 Axes>"
      ]
     },
     "metadata": {},
     "output_type": "display_data"
    }
   ],
   "source": [
    "import pandas\n",
    "from  matplotlib import pyplot\n",
    "import seaborn as sns\n",
    "%matplotlib inline\n",
    "\n",
    "df = pandas.DataFrame({\n",
    "    'Year': [2010, 2011, 2010, 2011, 2012],\n",
    "    'Event': ['A', 'A', 'B', 'B', 'B']\n",
    "})\n",
    "\n",
    "fig, ax = pyplot.subplots()\n",
    "pal = sns.color_palette(\"deep\", 50)\n",
    "sns.stripplot(x=\"Year\", y=\"Event\", ax=ax, data=df, palette=pal);\n",
    "[label.set_color(pal[i]) for i, label in enumerate(ax.get_yticklabels())]"
   ]
  }
 ],
 "metadata": {
  "kernelspec": {
   "display_name": "Python 3",
   "language": "python",
   "name": "python3"
  },
  "language_info": {
   "codemirror_mode": {
    "name": "ipython",
    "version": 3
   },
   "file_extension": ".py",
   "mimetype": "text/x-python",
   "name": "python",
   "nbconvert_exporter": "python",
   "pygments_lexer": "ipython3",
   "version": "3.5.2"
  }
 },
 "nbformat": 4,
 "nbformat_minor": 2
}
