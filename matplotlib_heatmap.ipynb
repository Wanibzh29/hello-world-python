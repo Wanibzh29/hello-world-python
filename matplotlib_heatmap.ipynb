{
 "cells": [
  {
   "cell_type": "code",
   "execution_count": 1,
   "metadata": {},
   "outputs": [],
   "source": [
    "import numpy as np \n",
    "from pandas import DataFrame\n",
    "import matplotlib.pyplot as plt\n",
    "%matplotlib inline"
   ]
  },
  {
   "cell_type": "code",
   "execution_count": 2,
   "metadata": {},
   "outputs": [
    {
     "name": "stdout",
     "output_type": "stream",
     "text": [
      "            A         B         C         D\n",
      "I    0.903771  0.962999  0.179340  0.338481\n",
      "II   0.434929  1.311034  1.244440  1.645272\n",
      "III  1.889214  1.167433  0.268880  1.406674\n",
      "IV   0.829250  0.372528  1.037216  0.306052\n",
      "V    1.100880  1.142810  1.465272  0.001998\n"
     ]
    }
   ],
   "source": [
    "# create a heatmap (i.e. \"colorized\" data table)\n",
    "indexes = ['I', 'II', 'III', 'IV', 'V']\n",
    "columns = ['A', 'B', 'C', 'D']\n",
    "\n",
    "df = DataFrame(abs(np.random.randn(5, 4)), index=indexes, columns=columns)\n",
    "print(df)"
   ]
  },
  {
   "cell_type": "code",
   "execution_count": 3,
   "metadata": {},
   "outputs": [
    {
     "data": {
      "image/png": "[encoded data removed]",
      "text/plain": [
       "<Figure size 432x288 with 1 Axes>"
      ]
     },
     "metadata": {},
     "output_type": "display_data"
    }
   ],
   "source": [
    "# display the heatmap with a red color palette\n",
    "plt.pcolor(df, cmap=plt.cm.Reds)\n",
    "plt.yticks(np.arange(0.5, len(df.index), 1), df.index)\n",
    "plt.xticks(np.arange(0.5, len(df.columns), 1), df.columns)\n",
    "plt.show()"
   ]
  }
 ],
 "metadata": {
  "kernelspec": {
   "display_name": "Python 3",
   "language": "python",
   "name": "python3"
  },
  "language_info": {
   "codemirror_mode": {
    "name": "ipython",
    "version": 3
   },
   "file_extension": ".py",
   "mimetype": "text/x-python",
   "name": "python",
   "nbconvert_exporter": "python",
   "pygments_lexer": "ipython3",
   "version": "3.5.2"
  }
 },
 "nbformat": 4,
 "nbformat_minor": 2
}
