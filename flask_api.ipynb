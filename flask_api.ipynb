{
 "cells": [
  {
   "cell_type": "code",
   "execution_count": 1,
   "metadata": {},
   "outputs": [],
   "source": [
    "from flask import Flask\n",
    "import socket\n",
    "\n",
    "# get local IP address\n",
    "s = socket.socket(socket.AF_INET, socket.SOCK_DGRAM)\n",
    "s.connect((\"8.8.8.8\", 8080))\n",
    "local_ip = s.getsockname()[0]\n",
    "\n",
    "# start Flask process\n",
    "app = Flask(__name__)\n",
    "\n",
    "# add code for handling ‘hello/my_name=foo' HTTP request\n",
    "@app.route('/hello/my_name=<string:my_name>')\n",
    "def hello(my_name):\n",
    "    return \"Hello \"+my_name\n",
    "\n",
    "# Start an HTTP process servin Flas API from the local IP address\n",
    "if __name__ == '__main__':\n",
    "    app.run(host=local_ip, port=8080)\n",
    "\n",
    "#app.route('/hello2/my_name=<string:my_name>&my_age=<int:my_age>')\n",
    "#def hello2(my_name, my_age):\n",
    "#   return 'Hello <font color=\"red\">'+my_name+'</font>, here is your age:'+str(my_age)"
   ]
  }
 ],
 "metadata": {
  "kernelspec": {
   "display_name": "Python 3",
   "language": "python",
   "name": "python3"
  },
  "language_info": {
   "codemirror_mode": {
    "name": "ipython",
    "version": 3
   },
   "file_extension": ".py",
   "mimetype": "text/x-python",
   "name": "python",
   "nbconvert_exporter": "python",
   "pygments_lexer": "ipython3",
   "version": "3.5.2"
  }
 },
 "nbformat": 4,
 "nbformat_minor": 2
}
