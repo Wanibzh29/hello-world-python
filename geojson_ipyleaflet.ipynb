{
 "cells": [
  {
   "cell_type": "code",
   "execution_count": 2,
   "metadata": {},
   "outputs": [
    {
     "data": {
      "application/vnd.jupyter.widget-view+json": {
       "model_id": "f4fd872558ba444b96d82fd19aaab9b2",
       "version_major": 2,
       "version_minor": 0
      },
      "text/plain": [
       "Map(basemap={'url': 'https://{s}.tile.openstreetmap.org/{z}/{x}/{y}.png', 'max_zoom': 19, 'attribution': 'Map …"
      ]
     },
     "metadata": {},
     "output_type": "display_data"
    }
   ],
   "source": [
    "#from __future__ import print_function\n",
    "import ipyleaflet\n",
    "from ipyleaflet import (\n",
    "    Map,\n",
    "    Marker,\n",
    "    TileLayer, ImageOverlay,\n",
    "    Polyline, Polygon, Rectangle, Circle, CircleMarker,\n",
    "    GeoJSON,\n",
    "    DrawControl\n",
    ")\n",
    "\n",
    "\n",
    "my_geojson_shape = {\"type\": \"Feature\", \\\n",
    "                    \"properties\": {\"operator\": 'XXX'}, \\\n",
    "                    \"geometry\": { \"type\" : \"Polygon\", \\\n",
    "                                  \"coordinates\": [[[0, 40],[1, 40],[1, 41],[0, 41],[0, 40]]]\n",
    "                                } \n",
    "                    }\n",
    "    \n",
    "my_map_data = {\"type\": \"FeatureCollection\", \n",
    "                 \"features\": [my_geojson_shape ],\n",
    "                 \"marker-color\": \"#fff\"}\n",
    "\n",
    "for feature in my_map_data['features']:\n",
    "    feature['properties']['style'] = {\n",
    "        \"color\": 'black', # color of the polygone outline\n",
    "        \"weight\": 2, # weight of the polygone outline\n",
    "        \"opacity\": 0.3, # opacity of the polygone outline       \n",
    "        \"fillColor\": \"orange\", # color inside the polygon\n",
    "        \"fillOpacity\": 0.3, # opacity inside the polygon\n",
    "    }\n",
    "    \n",
    "m = Map(center=(40.5,0.5), zoom=8)\n",
    "g = GeoJSON(data=my_map_data, hover_style={'fillColor': 'red'}, name='My Rectangle')\n",
    "m.add_layer(g)\n",
    "m"
   ]
  },
  {
   "cell_type": "code",
   "execution_count": null,
   "metadata": {},
   "outputs": [],
   "source": []
  }
 ],
 "metadata": {
  "kernelspec": {
   "display_name": "Python 3",
   "language": "python",
   "name": "python3"
  },
  "language_info": {
   "codemirror_mode": {
    "name": "ipython",
    "version": 3
   },
   "file_extension": ".py",
   "mimetype": "text/x-python",
   "name": "python",
   "nbconvert_exporter": "python",
   "pygments_lexer": "ipython3",
   "version": "3.6.8"
  }
 },
 "nbformat": 4,
 "nbformat_minor": 2
}
