{
 "cells": [
  {
   "cell_type": "code",
   "execution_count": 8,
   "metadata": {},
   "outputs": [],
   "source": [
    "#from __future__ import print_function\n",
    "import ipyleaflet\n",
    "from ipyleaflet import (\n",
    "    Map,\n",
    "    Marker,\n",
    "    TileLayer, ImageOverlay,\n",
    "    Polyline, Polygon, Rectangle, Circle, CircleMarker,\n",
    "    GeoJSON,\n",
    "    DrawControl\n",
    ")"
   ]
  },
  {
   "cell_type": "code",
   "execution_count": 2,
   "metadata": {},
   "outputs": [],
   "source": [
    "%load_ext watermark"
   ]
  },
  {
   "cell_type": "code",
   "execution_count": 7,
   "metadata": {},
   "outputs": [
    {
     "name": "stdout",
     "output_type": "stream",
     "text": [
      "CPython 3.6.8\n",
      "IPython 7.2.0\n",
      "\n",
      "watermark 1.8.1\n",
      "ipyleaflet 0.9.2\n",
      "\n",
      "compiler   : GCC 5.4.0 20160609\n",
      "system     : Linux\n",
      "release    : 4.4.0-133-generic\n",
      "machine    : x86_64\n",
      "processor  : x86_64\n",
      "CPU cores  : 8\n",
      "interpreter: 64bit\n"
     ]
    }
   ],
   "source": [
    "%watermark -v -m -p watermark,ipyleaflet"
   ]
  },
  {
   "cell_type": "code",
   "execution_count": 5,
   "metadata": {},
   "outputs": [
    {
     "data": {
      "application/vnd.jupyter.widget-view+json": {
       "model_id": "9373ba9e2bf2402daa84f9c9e3b49c92",
       "version_major": 2,
       "version_minor": 0
      },
      "text/plain": [
       "Map(basemap={'url': 'https://{s}.tile.openstreetmap.org/{z}/{x}/{y}.png', 'max_zoom': 19, 'attribution': 'Map …"
      ]
     },
     "metadata": {},
     "output_type": "display_data"
    }
   ],
   "source": [
    "lg = 0.0\n",
    "lt= 40.0\n",
    "lg2 = lg + 1\n",
    "lt2 = lt + 1\n",
    "\n",
    "my_geojson_shape = {\"type\": \"Feature\", \\\n",
    "                    \"properties\": {\"operator\": 'XXX'}, \\\n",
    "                    \"geometry\": { \"type\" : \"Polygon\", \\\n",
    "                                  \"coordinates\": [[[lg, lt],[lg2, lt],[lg2, lt2],[lg, lt2],[lg, lt]]]\n",
    "                                } \n",
    "                    }\n",
    "    \n",
    "my_map_data = {\"type\": \"FeatureCollection\", \n",
    "                 \"features\": [my_geojson_shape ],\n",
    "                 \"marker-color\": \"#fff\"}\n",
    "\n",
    "for feature in my_map_data['features']:\n",
    "    feature['properties']['style'] = {\n",
    "        \"color\": 'black', # color of the polygone outline\n",
    "        \"weight\": 2, # weight of the polygone outline\n",
    "        \"opacity\": 0.3, # opacity of the polygone outline       \n",
    "        \"fillColor\": \"orange\", # color inside the polygon\n",
    "        \"fillOpacity\": 0.3, # opacity inside the polygon\n",
    "    }\n",
    "    \n",
    "m = Map(center=(40.5,0.5), zoom=8)\n",
    "g = GeoJSON(data=my_map_data, hover_style={'fillColor': 'red'}, name='My Rectangle')\n",
    "m.add_layer(g)\n",
    "m"
   ]
  },
  {
   "cell_type": "code",
   "execution_count": null,
   "metadata": {},
   "outputs": [],
   "source": []
  }
 ],
 "metadata": {
  "kernelspec": {
   "display_name": "Python 3",
   "language": "python",
   "name": "python3"
  },
  "language_info": {
   "codemirror_mode": {
    "name": "ipython",
    "version": 3
   },
   "file_extension": ".py",
   "mimetype": "text/x-python",
   "name": "python",
   "nbconvert_exporter": "python",
   "pygments_lexer": "ipython3",
   "version": "3.6.8"
  }
 },
 "nbformat": 4,
 "nbformat_minor": 2
}
