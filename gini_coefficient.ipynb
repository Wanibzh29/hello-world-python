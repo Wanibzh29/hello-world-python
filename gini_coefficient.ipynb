{
 "cells": [
  {
   "cell_type": "markdown",
   "metadata": {},
   "source": [
    "https://en.wikipedia.org/wiki/Gini_coefficient\n",
    "the Gini coefficient can theoretically range from 0 (complete equality) to 1 (complete inequality"
   ]
  },
  {
   "cell_type": "code",
   "execution_count": 1,
   "metadata": {},
   "outputs": [],
   "source": [
    "def get_gini(wealths):\n",
    "    num = 0.0\n",
    "    denum = 0.0\n",
    "    for xi in wealths:\n",
    "        for xj in wealths:\n",
    "            num += abs(xi - xj)\n",
    "            denum += xj\n",
    "    return num / (2 * denum)"
   ]
  },
  {
   "cell_type": "code",
   "execution_count": 2,
   "metadata": {},
   "outputs": [],
   "source": [
    "examples = [\n",
    "    [0.0, 100.0],\n",
    "    [0.0, 100000.0],\n",
    "    [20.0, 30.0, 40.0, 50.0, 60.0],\n",
    "    [50.0, 90.0, 130.0, 170.0, 270.0],\n",
    "    [20.0, 30.0, 40.0, 50.0, 60.0, 70.0, 80.0, 90.0, 120.0, 150.0],\n",
    "]"
   ]
  },
  {
   "cell_type": "code",
   "execution_count": 3,
   "metadata": {},
   "outputs": [
    {
     "name": "stdout",
     "output_type": "stream",
     "text": [
      "wealths=[0.0, 100.0] of 2 persons -> gini_coef=0.500\n",
      "wealths=[0.0, 100000.0] of 2 persons -> gini_coef=0.500\n",
      "wealths=[20.0, 30.0, 40.0, 50.0, 60.0] of 5 persons -> gini_coef=0.200\n",
      "wealths=[50.0, 90.0, 130.0, 170.0, 270.0] of 5 persons -> gini_coef=0.293\n",
      "wealths=[20.0, 30.0, 40.0, 50.0, 60.0, 70.0, 80.0, 90.0, 120.0, 150.0] of 10 persons -> gini_coef=0.303\n"
     ]
    }
   ],
   "source": [
    "for wealth in examples:\n",
    "    gini = get_gini(wealth)\n",
    "    print('wealths=%s of %d persons -> gini_coef=%.3f' % (str(wealth), len(wealth), gini))"
   ]
  }
 ],
 "metadata": {
  "kernelspec": {
   "display_name": "Python 3",
   "language": "python",
   "name": "python3"
  },
  "language_info": {
   "codemirror_mode": {
    "name": "ipython",
    "version": 3
   },
   "file_extension": ".py",
   "mimetype": "text/x-python",
   "name": "python",
   "nbconvert_exporter": "python",
   "pygments_lexer": "ipython3",
   "version": "3.6.8"
  }
 },
 "nbformat": 4,
 "nbformat_minor": 2
}
