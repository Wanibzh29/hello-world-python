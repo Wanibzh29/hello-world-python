{
 "cells": [
  {
   "cell_type": "code",
   "execution_count": 1,
   "metadata": {},
   "outputs": [
    {
     "name": "stdout",
     "output_type": "stream",
     "text": [
      "\u001b[33mThe directory '/home/cloud/.cache/pip/http' or its parent directory is not owned by the current user and the cache has been disabled. Please check the permissions and owner of that directory. If executing pip with sudo, you may want sudo's -H flag.\u001b[0m\n",
      "\u001b[33mThe directory '/home/cloud/.cache/pip' or its parent directory is not owned by the current user and caching wheels has been disabled. check the permissions and owner of that directory. If executing pip with sudo, you may want sudo's -H flag.\u001b[0m\n",
      "Obtaining watermark from git+https://github.com/rasbt/watermark#egg=watermark\n",
      "  Updating ./src/watermark clone\n",
      "Requirement already satisfied: ipython in /usr/local/lib/python3.5/dist-packages (from watermark) (6.2.1)\n",
      "Requirement already satisfied: jedi>=0.10 in /usr/local/lib/python3.5/dist-packages (from ipython->watermark) (0.11.1)\n",
      "Requirement already satisfied: prompt-toolkit<2.0.0,>=1.0.4 in /usr/local/lib/python3.5/dist-packages (from ipython->watermark) (1.0.15)\n",
      "Requirement already satisfied: traitlets>=4.2 in /usr/local/lib/python3.5/dist-packages (from ipython->watermark) (4.3.2)\n",
      "Requirement already satisfied: simplegeneric>0.8 in /usr/local/lib/python3.5/dist-packages (from ipython->watermark) (0.8.1)\n",
      "Requirement already satisfied: pexpect; sys_platform != \"win32\" in /usr/local/lib/python3.5/dist-packages (from ipython->watermark) (4.4.0)\n",
      "Requirement already satisfied: decorator in /usr/local/lib/python3.5/dist-packages (from ipython->watermark) (4.2.1)\n",
      "Requirement already satisfied: pickleshare in /usr/local/lib/python3.5/dist-packages (from ipython->watermark) (0.7.4)\n",
      "Requirement already satisfied: pygments in /usr/local/lib/python3.5/dist-packages (from ipython->watermark) (2.2.0)\n",
      "Requirement already satisfied: setuptools>=18.5 in /usr/local/lib/python3.5/dist-packages (from ipython->watermark) (38.5.1)\n",
      "Requirement already satisfied: parso==0.1.1 in /usr/local/lib/python3.5/dist-packages (from jedi>=0.10->ipython->watermark) (0.1.1)\n",
      "Requirement already satisfied: six>=1.9.0 in /usr/local/lib/python3.5/dist-packages (from prompt-toolkit<2.0.0,>=1.0.4->ipython->watermark) (1.11.0)\n",
      "Requirement already satisfied: wcwidth in /usr/local/lib/python3.5/dist-packages (from prompt-toolkit<2.0.0,>=1.0.4->ipython->watermark) (0.1.7)\n",
      "Requirement already satisfied: ipython-genutils in /usr/local/lib/python3.5/dist-packages (from traitlets>=4.2->ipython->watermark) (0.2.0)\n",
      "Requirement already satisfied: ptyprocess>=0.5 in /usr/local/lib/python3.5/dist-packages (from pexpect; sys_platform != \"win32\"->ipython->watermark) (0.5.2)\n",
      "Installing collected packages: watermark\n",
      "  Found existing installation: watermark 1.8.0\n",
      "    Can't uninstall 'watermark'. No files were found to uninstall.\n",
      "  Running setup.py develop for watermark\n",
      "Successfully installed watermark\n"
     ]
    }
   ],
   "source": [
    "!pip install -e git+https://github.com/rasbt/watermark#egg=watermark"
   ]
  },
  {
   "cell_type": "code",
   "execution_count": 2,
   "metadata": {},
   "outputs": [],
   "source": [
    "%load_ext watermark"
   ]
  },
  {
   "cell_type": "code",
   "execution_count": 3,
   "metadata": {},
   "outputs": [
    {
     "name": "stdout",
     "output_type": "stream",
     "text": [
      "2019-01-03T14:08:11+00:00\n",
      "\n",
      "CPython 3.5.2\n",
      "IPython 6.2.1\n",
      "\n",
      "compiler   : GCC 5.4.0 20160609\n",
      "system     : Linux\n",
      "release    : 4.4.0-133-generic\n",
      "machine    : x86_64\n",
      "processor  : x86_64\n",
      "CPU cores  : 8\n",
      "interpreter: 64bit\n"
     ]
    }
   ],
   "source": [
    "%watermark"
   ]
  },
  {
   "cell_type": "code",
   "execution_count": 4,
   "metadata": {},
   "outputs": [],
   "source": [
    "import pandas\n",
    "import numpy\n",
    "import tensorflow\n",
    "import matplotlib\n",
    "import seaborn"
   ]
  },
  {
   "cell_type": "code",
   "execution_count": 5,
   "metadata": {},
   "outputs": [
    {
     "name": "stdout",
     "output_type": "stream",
     "text": [
      "numpy     1.15.4\n",
      "pandas    0.23.4\n",
      "matplotlib3.0.2\n",
      "seaborn   0.9.0\n",
      "tensorflow1.12.0\n",
      "\n"
     ]
    }
   ],
   "source": [
    "%watermark --iversions"
   ]
  },
  {
   "cell_type": "code",
   "execution_count": null,
   "metadata": {},
   "outputs": [],
   "source": []
  }
 ],
 "metadata": {
  "kernelspec": {
   "display_name": "Python 3",
   "language": "python",
   "name": "python3"
  },
  "language_info": {
   "codemirror_mode": {
    "name": "ipython",
    "version": 3
   },
   "file_extension": ".py",
   "mimetype": "text/x-python",
   "name": "python",
   "nbconvert_exporter": "python",
   "pygments_lexer": "ipython3",
   "version": "3.5.2"
  }
 },
 "nbformat": 4,
 "nbformat_minor": 2
}
