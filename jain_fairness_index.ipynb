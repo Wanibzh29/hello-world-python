{
 "cells": [
  {
   "cell_type": "code",
   "execution_count": 1,
   "metadata": {},
   "outputs": [],
   "source": [
    "examples_of_resources = [\n",
    "    [5, 5, 5],\n",
    "    [5, 10, 5],\n",
    "    [5, 25, 5],\n",
    "    [5, 40, 5],\n",
    "    [0, 250, 0],\n",
    "    [0, 2500, 0],\n",
    "    [0, 25000000, 0],\n",
    "    [0, 25000000, 0, 0],\n",
    "    [0, 25000000, 0, 0, 0, 0, 0, 0, 0, 0],\n",
    "]"
   ]
  },
  {
   "cell_type": "markdown",
   "metadata": {},
   "source": [
    "\\begin{equation*}\n",
    " J(x1,x2,...xn) = \\frac{\\left( \\sum_{i=1}^{n} x_i \\right)^2} {\\left( n \\sum_{i=1}^{n} x_i^2 \\right)}\n",
    "\\end{equation*}"
   ]
  },
  {
   "cell_type": "code",
   "execution_count": 2,
   "metadata": {},
   "outputs": [],
   "source": [
    "def get_jain(resources):\n",
    "    denom = 0\n",
    "    nom = 0\n",
    "    for r in resources:\n",
    "        nom += r\n",
    "        denom += r * r\n",
    "    nom = nom * nom\n",
    "    denom = len(resources) * denom\n",
    "    return nom/denom"
   ]
  },
  {
   "cell_type": "code",
   "execution_count": 3,
   "metadata": {},
   "outputs": [
    {
     "name": "stdout",
     "output_type": "stream",
     "text": [
      "1.0\n",
      "0.8888888888888888\n",
      "0.6049382716049383\n",
      "0.5050505050505051\n",
      "0.3333333333333333\n",
      "0.3333333333333333\n",
      "0.3333333333333333\n",
      "0.25\n",
      "0.1\n"
     ]
    }
   ],
   "source": [
    "for example_of_resources in examples_of_resources :\n",
    "    print(get_jain(example_of_resources))"
   ]
  }
 ],
 "metadata": {
  "kernelspec": {
   "display_name": "Python 3",
   "language": "python",
   "name": "python3"
  },
  "language_info": {
   "codemirror_mode": {
    "name": "ipython",
    "version": 3
   },
   "file_extension": ".py",
   "mimetype": "text/x-python",
   "name": "python",
   "nbconvert_exporter": "python",
   "pygments_lexer": "ipython3",
   "version": "3.5.2"
  }
 },
 "nbformat": 4,
 "nbformat_minor": 2
}
