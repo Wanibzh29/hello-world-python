{
  "nbformat": 4,
  "nbformat_minor": 0,
  "metadata": {
    "colab": {
      "name": "Artificial_Neural_Network_101_TENSORFLOW.ipynb",
      "provenance": [],
      "collapsed_sections": []
    },
    "kernelspec": {
      "name": "python3",
      "display_name": "Python 3"
    }
  },
  "cells": [
    {
      "cell_type": "markdown",
      "metadata": {
        "id": "b2vwlKeSsV33",
        "colab_type": "text"
      },
      "source": [
        "# Introduction\n",
        "\n",
        "* The **goal** of this Artificial Neural Network (ANN) 101 session is twofold:\n",
        "  * To build an ANN model that will be able to predict y value according to x value. \n",
        "    * In other words, we want our ANN model  to perform a regression analysis.\n",
        "  * To observe three important KPI when dealing with ANN: \n",
        "    * The size of the network (called *trainable_params* in our code)\n",
        "    * The duration of the training step (called *training_ duration:* in our code)\n",
        "    * The efficiency of the ANN model (called *evaluated_loss* in our code)\n",
        "  \n",
        "* The data used here are exceptionally simple:\n",
        "  * X represents the interesting feature (i.e. will serve as input X for our ANN).\n",
        "    * Here, each x sample is a one-dimension single scalar value.\n",
        "  * Y represents the target (i.e. will serve as the exected output Y of our ANN).\n",
        "    * Here, each x sample is also a one-dimension single scalar value.\n",
        "\n",
        "\n",
        "* Note that in real life:\n",
        "  * You will never have such godsent clean, un-noisy and simple data. \n",
        "  * You will have more samples, i.e. bigger data (better for statiscally meaningful results).\n",
        "  * You may have more dimensions in your feature and/or target (e.g. space data, temporal data...).\n",
        "  * You may also have more multiple features and even multiple targets.\n",
        "  * Hence your ANN model will be more complex that the one studied here\n",
        "\n",
        "# Work to be done:\n",
        "For exercices A to E, the only lines of code that need to be added or modified are in the  **create_model()** Python function.\n",
        "\n",
        "## Exercice A\n",
        "* Run the whole code, Jupyter cell by Jupyter cell, without modifiying any line of code.\n",
        "* Write down the values for:\n",
        "  * *trainable_params:* \n",
        "  * *training_ duration:* \n",
        "  * *evaluated_loss:* \n",
        "* In the last Jupyter cell, what is the relationship between the predicted x samples and y samples? Try to explain it base on the ANN model? \n",
        "\n",
        "## Exercice B\n",
        "* Add a first hidden layer called \"hidden_layer_1\" containing 8 units in the model of the ANN. \n",
        "* Restart and execute everything again. \n",
        "* Write down the obtained values for:\n",
        "  * *trainable_params:* \n",
        "  * *training_ duration:* \n",
        "  * *evaluated_loss:* \n",
        "* How better is it with regard to Exercice A?\n",
        "  * Worse? Not better? Better? Strongly better?\n",
        "  \n",
        "## Exercice C\n",
        "* Modify the hidden layer called \"hidden_layer_1\" so that it  contains 128 units instead of 8.\n",
        "* Restart and execute everything again.\n",
        "* Write down the obtained values for:\n",
        "  * *trainable_params:* \n",
        "  * *training_ duration:*\n",
        "  * *evaluated_loss:* \n",
        "* How better is it with regard to Exercice B?\n",
        "  * Worse? Not better? Better? Strongly better?\n",
        "  \n",
        "## Exercice D\n",
        "* Add a second hidden layer called \"hidden_layer_2\" containing 32 units in the model of the ANN. \n",
        "* Write down the obtained values for:\n",
        "  * *trainable_params:* \n",
        "  * *training_ duration:* \n",
        "  * *evaluated_loss:* \n",
        "* How better is it with regard to Exercice C?\n",
        "  * Worse? Not better? Better? Strongly better?\n",
        "  \n",
        "## Exercice E\n",
        "* Add a third hidden layer called \"hidden_layer_3\" containing 4 units in the model of the ANN. \n",
        "* Restart and execute everything again.\n",
        "* Look at the graph in the last Jupyter cell. Is it better?\n",
        "* Write down the obtained values for:\n",
        "  * *trainable_params:* \n",
        "  * *training_ duration:* \n",
        "  * *evaluated_loss:* \n",
        "* How better is it with regard to Exercice D?\n",
        "  * Worse? Not better? Better? Strongly better?\n",
        "  \n",
        "## Exercice F\n",
        "* If you still have time, you can also play with the training epochs parameter, the number of training samples (or just exchange the training datasets with the test datasets), the type of runtime hardware (GPU orTPU), and so on...\n"
      ]
    },
    {
      "cell_type": "markdown",
      "metadata": {
        "id": "HTo0jgsCa_Oa",
        "colab_type": "text"
      },
      "source": [
        "# Python Code"
      ]
    },
    {
      "cell_type": "markdown",
      "metadata": {
        "id": "23b-DNvOa9jC",
        "colab_type": "text"
      },
      "source": [
        "## Import the tools"
      ]
    },
    {
      "cell_type": "code",
      "metadata": {
        "id": "hSh9Ly-PmkOu",
        "colab_type": "code",
        "colab": {}
      },
      "source": [
        "# To enable Tensorflow 2 instead of TensorFlow 1.15, uncomment the next 4 lines\n",
        "\n",
        "#try:\n",
        "#  %tensorflow_version 2.x \n",
        "#except Exception: \n",
        "#  pass"
      ],
      "execution_count": 0,
      "outputs": []
    },
    {
      "cell_type": "code",
      "metadata": {
        "id": "pRu_5l-QzZ0y",
        "colab_type": "code",
        "outputId": "cb4edb55-ec9d-418e-9c1e-08723bcc98de",
        "colab": {
          "base_uri": "https://localhost:8080/",
          "height": 65
        }
      },
      "source": [
        "# library to store and manipulate neural-network input and output data\n",
        "import numpy as np\n",
        "\n",
        "# library to graphically display any data\n",
        "import matplotlib.pyplot as plt\n",
        "\n",
        "# library to manipulate neural-network models\n",
        "import tensorflow as tf\n",
        "from tensorflow import keras"
      ],
      "execution_count": 0,
      "outputs": [
        {
          "output_type": "display_data",
          "data": {
            "text/html": [
              "<p style=\"color: red;\">\n",
              "The default version of TensorFlow in Colab will soon switch to TensorFlow 2.x.<br>\n",
              "We recommend you <a href=\"https://www.tensorflow.org/guide/migrate\" target=\"_blank\">upgrade</a> now \n",
              "or ensure your notebook will continue to use TensorFlow 1.x via the <code>%tensorflow_version 1.x</code> magic:\n",
              "<a href=\"https://colab.research.google.com/notebooks/tensorflow_version.ipynb\" target=\"_blank\">more info</a>.</p>\n"
            ],
            "text/plain": [
              "<IPython.core.display.HTML object>"
            ]
          },
          "metadata": {
            "tags": []
          }
        }
      ]
    },
    {
      "cell_type": "code",
      "metadata": {
        "id": "OQHfsGcWze-8",
        "colab_type": "code",
        "outputId": "53ce18ba-90c7-42df-92b4-e1bc7eb13261",
        "colab": {
          "base_uri": "https://localhost:8080/",
          "height": 35
        }
      },
      "source": [
        "# the code is compatible with Tensflow v1.15 and v2, but interesting info anyway\n",
        "print(\"Tensorlow version:\", tf.__version__)\n",
        "\n",
        "# Versions needs to be 1.15.1 or greater (e.g. this code won't work with 1.13.1)"
      ],
      "execution_count": 0,
      "outputs": [
        {
          "output_type": "stream",
          "text": [
            "Tensorlow version: 1.15.0\n"
          ],
          "name": "stdout"
        }
      ]
    },
    {
      "cell_type": "code",
      "metadata": {
        "id": "hALQopq8LiIW",
        "colab_type": "code",
        "colab": {}
      },
      "source": [
        "# To check whether you code will use a GPU or not, uncomment the following two\n",
        "# lines of code. You should either see:\n",
        "# * an \"XLA_GPU\", \n",
        "# * or better a \"K80\" GPU\n",
        "# * or even better a \"T100\" GPU\n",
        "\n",
        "#from tensorflow.python.client import device_lib\n",
        "#device_lib.list_local_devices()"
      ],
      "execution_count": 0,
      "outputs": []
    },
    {
      "cell_type": "code",
      "metadata": {
        "id": "m6DkCttHHu41",
        "colab_type": "code",
        "colab": {}
      },
      "source": [
        "import time\n",
        "\n",
        "# trivial \"debug\" function to display the duration between time_1 and time_2\n",
        "def get_duration(time_1, time_2):\n",
        "  duration_time = time_2 - time_1\n",
        "  m, s = divmod(duration_time, 60)\n",
        "  h, m = divmod(m, 60)\n",
        "  s,m,h = int(round(s, 0)), int(round(m, 0)), int(round(h, 0))\n",
        "  duration = \"duration: \" + \"{0:02d}:{1:02d}:{2:02d}\".format(h, m, s)\n",
        "  return duration"
      ],
      "execution_count": 0,
      "outputs": []
    },
    {
      "cell_type": "markdown",
      "metadata": {
        "id": "d_53UB62hgdW",
        "colab_type": "text"
      },
      "source": [
        "## Get the data"
      ]
    },
    {
      "cell_type": "code",
      "metadata": {
        "id": "FVJTdFgh9GFh",
        "colab_type": "code",
        "colab": {}
      },
      "source": [
        "# DO NOT MODIFY THIS CODE\n",
        "# IT HAS JUST BEEN WRITTEN TO GENERATE THE DATA\n",
        "\n",
        "# library fr generating random number\n",
        "#import random\n",
        "\n",
        "# secret relationship between X data and Y data\n",
        "#def generate_random_output_data_correlated_from_input_data(nb_samples):\n",
        "# generate nb_samples random x between 0 and 1\n",
        "#  X = np.array( [random.random() for i in range(nb_samples)] )\n",
        "# generate nb_samples y correlated with x\n",
        "#  Y = np.tan(np.sin(X) + np.cos(X))\n",
        "#  return X, Y\n",
        "\n",
        "#def get_new_X_Y(nb_samples, debug=False):\n",
        "#  X, Y = generate_random_output_data_correlated_from_input_data(nb_samples)\n",
        "#  if debug:\n",
        "#    print(\"generate %d X and Y samples:\" % nb_samples)\n",
        "#    X_Y = zip(X, Y)\n",
        "#    for i, x_y in enumerate(X_Y):\n",
        "#      print(\"data sample %d: x=%.3f, y=%.3f\" % (i, x_y[0], x_y[1]))\n",
        "#  return X, Y\n",
        "\n",
        "# Number of samples for the training dataset and the test dateset\n",
        "#nb_samples=50\n",
        "# Get some data for training the futture neural-network model\n",
        "#X_train, Y_train = get_new_X_Y(nb_samples)\n",
        "# Get some other data for evaluating the futture neural-network model\n",
        "#X_test, Y_test = get_new_X_Y(nb_samples)\n",
        "# In most cases, it will be necessary to normalize X and Y data with code like:\n",
        "# X_centered -= X.mean(axis=0)\n",
        "# X_normalized /= X_centered.std(axis=0)\n",
        "\n",
        "#def mstr(X):\n",
        "#  my_str ='['\n",
        "#  for x in X:\n",
        "#    my_str += str(float(int(x*1000)/1000)) + ','\n",
        "#  my_str += ']'\n",
        "#  return my_str\n",
        "## Call get_data to have an idead of what is returned by call data\n",
        "\n",
        "#generate_data = False\n",
        "#if generate_data:\n",
        "#  nb_samples = 50\n",
        "#  X_train, Y_train = get_new_X_Y(nb_samples)\n",
        "#  print('X_train = np.array(%s)' % mstr(X_train))\n",
        "#  print('Y_train = np.array(%s)' % mstr(Y_train)) \n",
        "#  X_test, Y_test = get_new_X_Y(nb_samples)\n",
        "#  print('X_test = np.array(%s)' % mstr(X_test))\n",
        "#  print('Y_test = np.array(%s)' % mstr(Y_test))"
      ],
      "execution_count": 0,
      "outputs": []
    },
    {
      "cell_type": "code",
      "metadata": {
        "id": "HdfJ-KKbLWkx",
        "colab_type": "code",
        "colab": {}
      },
      "source": [
        "X_train = np.array([0.765,0.838,0.329,0.277,0.45,0.833,0.44,0.634,0.351,0.784,0.589,0.816,0.352,0.591,0.04,0.38,0.816,0.732,0.32,0.597,0.908,0.146,0.691,0.75,0.568,0.866,0.705,0.027,0.607,0.793,0.864,0.057,0.877,0.164,0.729,0.291,0.324,0.745,0.158,0.098,0.113,0.794,0.452,0.765,0.983,0.001,0.474,0.773,0.155,0.875,])\n",
        "Y_train = np.array([6.322,6.254,3.224,2.87,4.177,6.267,4.088,5.737,3.379,6.334,5.381,6.306,3.389,5.4,1.704,3.602,6.306,6.254,3.157,5.446,5.918,2.147,6.088,6.298,5.204,6.147,6.153,1.653,5.527,6.332,6.156,1.766,6.098,2.236,6.244,2.96,3.183,6.287,2.205,1.934,1.996,6.331,4.188,6.322,5.368,1.561,4.383,6.33,2.192,6.108,])\n",
        "X_test = np.array([0.329,0.528,0.323,0.952,0.868,0.931,0.69,0.112,0.574,0.421,0.972,0.715,0.7,0.58,0.69,0.163,0.093,0.695,0.493,0.243,0.928,0.409,0.619,0.011,0.218,0.647,0.499,0.354,0.064,0.571,0.836,0.068,0.451,0.074,0.158,0.571,0.754,0.259,0.035,0.595,0.245,0.929,0.546,0.901,0.822,0.797,0.089,0.924,0.903,0.334,])\n",
        "Y_test = np.array([3.221,4.858,3.176,5.617,6.141,5.769,6.081,1.995,5.259,3.932,5.458,6.193,6.129,5.305,6.081,2.228,1.912,6.106,4.547,2.665,5.791,3.829,5.619,1.598,2.518,5.826,4.603,3.405,1.794,5.23,6.26,1.81,4.18,1.832,2.208,5.234,6.306,2.759,1.684,5.432,2.673,5.781,5.019,5.965,6.295,6.329,1.894,5.816,5.951,3.258,])\n"
      ],
      "execution_count": 0,
      "outputs": []
    },
    {
      "cell_type": "code",
      "metadata": {
        "id": "fyyY5acYagOB",
        "colab_type": "code",
        "outputId": "54657c13-1356-417d-9829-141c6ba1f36e",
        "colab": {
          "base_uri": "https://localhost:8080/",
          "height": 109
        }
      },
      "source": [
        "print('X_train contains %d samples' % X_train.shape)\n",
        "print('Y_train contains %d samples' % Y_train.shape)\n",
        "print('')\n",
        "print('X_test contains %d samples' % X_test.shape)\n",
        "print('Y_test contains %d samples' % Y_test.shape)"
      ],
      "execution_count": 0,
      "outputs": [
        {
          "output_type": "stream",
          "text": [
            "X_train contains 50 samples\n",
            "Y_train contains 50 samples\n",
            "\n",
            "X_test contains 50 samples\n",
            "Y_test contains 50 samples\n"
          ],
          "name": "stdout"
        }
      ]
    },
    {
      "cell_type": "code",
      "metadata": {
        "id": "L8itA09R9W20",
        "colab_type": "code",
        "outputId": "945d4f2a-d1e5-4b0d-a061-29d192a5b2f3",
        "colab": {
          "base_uri": "https://localhost:8080/",
          "height": 295
        }
      },
      "source": [
        "# Graphically display our training data\n",
        "plt.scatter(X_train, Y_train, color='green', alpha=0.5)\n",
        "plt.title('Scatter plot of the training data')\n",
        "plt.xlabel('x')\n",
        "plt.ylabel('y')\n",
        "plt.show()"
      ],
      "execution_count": 0,
      "outputs": [
        {
          "output_type": "display_data",
          "data": {
            "image/png": "[encoded data removed]",
            "text/plain": [
              "<Figure size 432x288 with 1 Axes>"
            ]
          },
          "metadata": {
            "tags": []
          }
        }
      ]
    },
    {
      "cell_type": "code",
      "metadata": {
        "id": "xoT9UQ_o6KeP",
        "colab_type": "code",
        "outputId": "e3955e0c-d075-4343-c331-9a5f59420454",
        "colab": {
          "base_uri": "https://localhost:8080/",
          "height": 295
        }
      },
      "source": [
        "# Graphically display our test data\n",
        "plt.scatter(X_test, Y_test, color='blue', alpha=0.5)\n",
        "plt.title('Scatter plot of the testing data')\n",
        "plt.xlabel('x')\n",
        "plt.ylabel('y')\n",
        "plt.show()"
      ],
      "execution_count": 0,
      "outputs": [
        {
          "output_type": "display_data",
          "data": {
            "image/png": "[encoded data removed]",
            "text/plain": [
              "<Figure size 432x288 with 1 Axes>"
            ]
          },
          "metadata": {
            "tags": []
          }
        }
      ]
    },
    {
      "cell_type": "markdown",
      "metadata": {
        "id": "1OpOnS6phnec",
        "colab_type": "text"
      },
      "source": [
        "## Build the artificial neural-network"
      ]
    },
    {
      "cell_type": "code",
      "metadata": {
        "id": "8Gw2GGVQOiKH",
        "colab_type": "code",
        "colab": {}
      },
      "source": [
        "# THIS IS THE ONLY CELL WHERE YOU HAVE TO ADD AND/OR MODIFY CODE "
      ],
      "execution_count": 0,
      "outputs": []
    },
    {
      "cell_type": "code",
      "metadata": {
        "id": "B6HcpfOpFbr_",
        "colab_type": "code",
        "colab": {}
      },
      "source": [
        "def create_model():\n",
        "  \n",
        "  # This returns a tensor\n",
        "  model = keras.Sequential([\n",
        "    keras.layers.Input(shape=(1,), name='input_layer'),\n",
        "    keras.layers.Dense(128, activation=tf.nn.relu, name='hidden_layer_1'),    \n",
        "    keras.layers.Dense(32, activation=tf.nn.relu, name='hidden_layer_2'),    \n",
        "    keras.layers.Dense(4, activation=tf.nn.relu, name='hidden_layer_3'),    \n",
        "    keras.layers.Dense(1, name='output_layer')\n",
        "  ])\n",
        "\n",
        "  model.compile(optimizer=tf.keras.optimizers.RMSprop(0.01), \n",
        "                loss='mean_squared_error',\n",
        "                metrics=['mean_absolute_error', 'mean_squared_error'])\n",
        "\n",
        "  return model"
      ],
      "execution_count": 0,
      "outputs": []
    },
    {
      "cell_type": "code",
      "metadata": {
        "id": "PJQ_FoFobbAg",
        "colab_type": "code",
        "colab": {}
      },
      "source": [
        "  # Same model but for Keras 1.13.1\n",
        "  #inputs_data = keras.layers.Input(shape=(1, ), name='input_layer')\n",
        "  #hl_1_out_data = keras.layers.Dense(units=128, activation=tf.nn.relu, name='hidden_layer_1')(inputs_data)\n",
        "  #hl_2_out_data = keras.layers.Dense(units=32, activation=tf.nn.relu, name='hidden_layer_2')(hl_1_out_data)\n",
        "  #hl_3_out_data = keras.layers.Dense(units=4, activation=tf.nn.relu, name='hidden_layer_3')(hl_2_out_data)\n",
        "  #outputs_data = keras.layers.Dense(units=1)(hl_3_out_data)\n",
        "  #model = keras.models.Model(inputs=inputs_data, outputs=outputs_data)  \n"
      ],
      "execution_count": 0,
      "outputs": []
    },
    {
      "cell_type": "code",
      "metadata": {
        "id": "-qXNDkNhCFK4",
        "colab_type": "code",
        "outputId": "3f274a29-3ef5-4eb4-9041-49c24aca020d",
        "colab": {
          "base_uri": "https://localhost:8080/",
          "height": 92
        }
      },
      "source": [
        "ann_model = create_model()"
      ],
      "execution_count": 0,
      "outputs": [
        {
          "output_type": "stream",
          "text": [
            "WARNING:tensorflow:From /tensorflow-1.15.0/python3.6/tensorflow_core/python/ops/resource_variable_ops.py:1630: calling BaseResourceVariable.__init__ (from tensorflow.python.ops.resource_variable_ops) with constraint is deprecated and will be removed in a future version.\n",
            "Instructions for updating:\n",
            "If using Keras pass *_constraint arguments to layers.\n"
          ],
          "name": "stdout"
        }
      ]
    },
    {
      "cell_type": "code",
      "metadata": {
        "id": "3_JSjCbc_qfh",
        "colab_type": "code",
        "outputId": "c9c00b95-eccf-44c0-d091-0f20ebbcbf2f",
        "colab": {
          "base_uri": "https://localhost:8080/",
          "height": 313
        }
      },
      "source": [
        "# Display a textual summary of the newly created model\n",
        "# Pay attention to size (a.k.a. total parameters) of the network\n",
        "ann_model.summary()\n"
      ],
      "execution_count": 0,
      "outputs": [
        {
          "output_type": "stream",
          "text": [
            "Model: \"sequential\"\n",
            "_________________________________________________________________\n",
            "Layer (type)                 Output Shape              Param #   \n",
            "=================================================================\n",
            "hidden_layer_1 (Dense)       (None, 128)               256       \n",
            "_________________________________________________________________\n",
            "hidden_layer_2 (Dense)       (None, 32)                4128      \n",
            "_________________________________________________________________\n",
            "hidden_layer_3 (Dense)       (None, 4)                 132       \n",
            "_________________________________________________________________\n",
            "output_layer (Dense)         (None, 1)                 5         \n",
            "=================================================================\n",
            "Total params: 4,521\n",
            "Trainable params: 4,521\n",
            "Non-trainable params: 0\n",
            "_________________________________________________________________\n"
          ],
          "name": "stdout"
        }
      ]
    },
    {
      "cell_type": "code",
      "metadata": {
        "id": "R-vfOF-sFRLH",
        "colab_type": "code",
        "outputId": "20cd39fe-456f-4eff-b80a-2e6107b3b57c",
        "colab": {
          "base_uri": "https://localhost:8080/",
          "height": 35
        }
      },
      "source": [
        "print('trainable_params:', ann_model.count_params())"
      ],
      "execution_count": 0,
      "outputs": [
        {
          "output_type": "stream",
          "text": [
            "trainable_params: 4521\n"
          ],
          "name": "stdout"
        }
      ]
    },
    {
      "cell_type": "code",
      "metadata": {
        "id": "JG6BGf7r-P33",
        "colab_type": "code",
        "outputId": "f58bd924-a566-4b1c-8c29-0175d5d4a152",
        "colab": {
          "base_uri": "https://localhost:8080/",
          "height": 246
        }
      },
      "source": [
        "%%html\n",
        "As a reminder for understanding, the following ANN unit contains <b>m + 1</b> trainable parameters:<br>\n",
        "<img src='https://www.degruyter.com/view/j/nanoph.2017.6.issue-3/nanoph-2016-0139/graphic/j_nanoph-2016-0139_fig_002.jpg' alt=\"perceptron\" width=\"400\" />"
      ],
      "execution_count": 0,
      "outputs": [
        {
          "output_type": "display_data",
          "data": {
            "text/html": [
              "As a reminder for understanding, the following ANN unit contains <b>m + 1</b> trainable parameters:<br>\n",
              "<img src='https://www.degruyter.com/view/j/nanoph.2017.6.issue-3/nanoph-2016-0139/graphic/j_nanoph-2016-0139_fig_002.jpg' alt=\"perceptron\" width=\"400\" />"
            ],
            "text/plain": [
              "<IPython.core.display.HTML object>"
            ]
          },
          "metadata": {
            "tags": []
          }
        }
      ]
    },
    {
      "cell_type": "markdown",
      "metadata": {
        "id": "Ig8cHpbqjUtm",
        "colab_type": "text"
      },
      "source": [
        "## Train the artificial neural-network model"
      ]
    },
    {
      "cell_type": "code",
      "metadata": {
        "id": "JlMR_KRv-V0e",
        "colab_type": "code",
        "outputId": "166988aa-0e8f-40d1-ad2d-3012f722e309",
        "colab": {
          "base_uri": "https://localhost:8080/",
          "height": 35
        }
      },
      "source": [
        "# Train the model with the input data and the output_values\n",
        "\n",
        "# validation_split=0.2 means that 20% of the X_train samples will be used\n",
        "# for a validation test and that \"only\" 80% will be used for training\n",
        "\n",
        "t0 = time.time()\n",
        "results = ann_model.fit(X_train, Y_train, verbose=False,\n",
        "                        batch_size=1, epochs=500, validation_split=0.2)\n",
        "t1 = time.time()\n",
        "print('training_%s' % get_duration(t0, t1))"
      ],
      "execution_count": 0,
      "outputs": [
        {
          "output_type": "stream",
          "text": [
            "training_duration: 00:00:28\n"
          ],
          "name": "stdout"
        }
      ]
    },
    {
      "cell_type": "code",
      "metadata": {
        "id": "Q_Hqk8Es-dKw",
        "colab_type": "code",
        "outputId": "23bab31c-c598-4122-fa70-648602a2992a",
        "colab": {
          "base_uri": "https://localhost:8080/",
          "height": 265
        }
      },
      "source": [
        "#plt.plot(r.history['mean_squared_error'], label = 'mean_squared_error')\n",
        "plt.plot(results.history['loss'], label = 'train_loss')\n",
        "plt.plot(results.history['val_loss'], label = 'validation_loss')\n",
        "plt.legend()\n",
        "plt.show()"
      ],
      "execution_count": 0,
      "outputs": [
        {
          "output_type": "display_data",
          "data": {
            "image/png": "[encoded data removed]",
            "text/plain": [
              "<Figure size 432x288 with 1 Axes>"
            ]
          },
          "metadata": {
            "tags": []
          }
        }
      ]
    },
    {
      "cell_type": "code",
      "metadata": {
        "id": "kMC6wzE1hTql",
        "colab_type": "code",
        "colab": {}
      },
      "source": [
        "\n",
        "# If you can write a file locally (i.e. If Google Drive available on Colab environnement)\n",
        "# then, you can save your model in a file for future reuse.\n",
        "# (c.f. https://www.tensorflow.org/guide/keras/save_and_serialize)\n",
        "\n",
        "# Only uncomment the following file if you can write a file\n",
        "# model.save('ann_101.h5')\n"
      ],
      "execution_count": 0,
      "outputs": []
    },
    {
      "cell_type": "markdown",
      "metadata": {
        "id": "kpNlaI9--ieU",
        "colab_type": "text"
      },
      "source": [
        "## Evaluate the model"
      ]
    },
    {
      "cell_type": "code",
      "metadata": {
        "id": "ahPvbHaC-mTh",
        "colab_type": "code",
        "outputId": "262d1338-1196-41ab-9892-4cc0366bc476",
        "colab": {
          "base_uri": "https://localhost:8080/",
          "height": 35
        }
      },
      "source": [
        "loss, mean_absolute_error, mean_squared_error = ann_model.evaluate(X_test, Y_test, verbose=True)"
      ],
      "execution_count": 0,
      "outputs": [
        {
          "output_type": "stream",
          "text": [
            "50/50 [==============================] - 0s 105us/sample - loss: 0.0240 - mean_absolute_error: 0.1283 - mean_squared_error: 0.0240\n"
          ],
          "name": "stdout"
        }
      ]
    },
    {
      "cell_type": "markdown",
      "metadata": {
        "id": "Q7Pxkh-6-wdV",
        "colab_type": "text"
      },
      "source": [
        "## Predict new output data"
      ]
    },
    {
      "cell_type": "code",
      "metadata": {
        "id": "1N7C1yOk-zfr",
        "colab_type": "code",
        "colab": {}
      },
      "source": [
        "X_new_values = [0., 0.2, 0.4, 0.6, 0.8, 1.0]\n",
        "Y_predicted_values = ann_model.predict(X_new_values)"
      ],
      "execution_count": 0,
      "outputs": []
    },
    {
      "cell_type": "code",
      "metadata": {
        "id": "N3pZz6yv_Kh8",
        "colab_type": "code",
        "outputId": "f7710a38-e817-460e-f5a0-dbe11ccfd973",
        "colab": {
          "base_uri": "https://localhost:8080/",
          "height": 295
        }
      },
      "source": [
        "# Display training data and predicted data graphically\n",
        "plt.title('Training data (green color) + Predicted data (red color)')\n",
        "\n",
        "# training data in green color\n",
        "plt.scatter(X_train, Y_train, color='green',  alpha=0.5)\n",
        "\n",
        "# training data in green color\n",
        "#plt.scatter(X_test, Y_test, color='blue',  alpha=0.5)\n",
        "\n",
        "# predicted data in blue color\n",
        "plt.scatter(X_new_values, Y_predicted_values, color='red',  alpha=0.5)\n",
        "\n",
        "plt.xlabel('x')\n",
        "plt.ylabel('y')\n",
        "plt.show()"
      ],
      "execution_count": 0,
      "outputs": [
        {
          "output_type": "display_data",
          "data": {
            "image/png": "[encoded data removed]",
            "text/plain": [
              "<Figure size 432x288 with 1 Axes>"
            ]
          },
          "metadata": {
            "tags": []
          }
        }
      ]
    }
  ]
}