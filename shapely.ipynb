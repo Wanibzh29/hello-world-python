{
 "cells": [
  {
   "cell_type": "code",
   "execution_count": 1,
   "metadata": {},
   "outputs": [
    {
     "data": {
      "text/plain": [
       "(2.0, 2.0, 4.0, 4.0)"
      ]
     },
     "execution_count": 1,
     "metadata": {},
     "output_type": "execute_result"
    }
   ],
   "source": [
    "from shapely.geometry import LineString\n",
    "from shapely.geometry import LinearRing\n",
    "from shapely.geometry import Polygon\n",
    "from shapely.geometry import Point\n",
    "\n",
    "\n",
    "#shape = LinearRing([(0, 0), (0, 1), (1, 1), (1, 0)])\n",
    "shape1 = Polygon([(0, 0), (0, 4), (4, 4), (4, 0), (0, 0)])\n",
    "shape2 = Polygon([(2, 2), (2, 6), (6, 6), (6, 2), (2, 2)])\n",
    "\n",
    "x = shape1.intersection(shape2)\n",
    "\n",
    "x.bounds"
   ]
  },
  {
   "cell_type": "code",
   "execution_count": 2,
   "metadata": {},
   "outputs": [
    {
     "data": {
      "image/svg+xml": [
       "<svg xmlns=\"http://www.w3.org/2000/svg\" xmlns:xlink=\"http://www.w3.org/1999/xlink\" width=\"100.0\" height=\"100.0\" viewBox=\"-0.16 -0.16 4.32 4.32\" preserveAspectRatio=\"xMinYMin meet\"><g transform=\"matrix(1,0,0,-1,0,4.0)\"><path fill-rule=\"evenodd\" fill=\"#66cc99\" stroke=\"#555555\" stroke-width=\"0.0864\" opacity=\"0.6\" d=\"M 0.0,0.0 L 0.0,4.0 L 4.0,4.0 L 4.0,0.0 L 0.0,0.0 z\" /></g></svg>"
      ],
      "text/plain": [
       "<shapely.geometry.polygon.Polygon at 0x7f0e26f582e8>"
      ]
     },
     "execution_count": 2,
     "metadata": {},
     "output_type": "execute_result"
    }
   ],
   "source": [
    "shape1"
   ]
  },
  {
   "cell_type": "code",
   "execution_count": 3,
   "metadata": {},
   "outputs": [
    {
     "data": {
      "image/svg+xml": [
       "<svg xmlns=\"http://www.w3.org/2000/svg\" xmlns:xlink=\"http://www.w3.org/1999/xlink\" width=\"100.0\" height=\"100.0\" viewBox=\"1.84 1.84 4.32 4.32\" preserveAspectRatio=\"xMinYMin meet\"><g transform=\"matrix(1,0,0,-1,0,8.0)\"><path fill-rule=\"evenodd\" fill=\"#66cc99\" stroke=\"#555555\" stroke-width=\"0.0864\" opacity=\"0.6\" d=\"M 2.0,2.0 L 2.0,6.0 L 6.0,6.0 L 6.0,2.0 L 2.0,2.0 z\" /></g></svg>"
      ],
      "text/plain": [
       "<shapely.geometry.polygon.Polygon at 0x7f0e26f582b0>"
      ]
     },
     "execution_count": 3,
     "metadata": {},
     "output_type": "execute_result"
    }
   ],
   "source": [
    "shape2"
   ]
  },
  {
   "cell_type": "code",
   "execution_count": 4,
   "metadata": {},
   "outputs": [
    {
     "name": "stdout",
     "output_type": "stream",
     "text": [
      "2\n"
     ]
    }
   ],
   "source": [
    "x = 0 + 2\n",
    "print(x)"
   ]
  },
  {
   "cell_type": "code",
   "execution_count": 5,
   "metadata": {},
   "outputs": [
    {
     "data": {
      "image/svg+xml": [
       "<svg xmlns=\"http://www.w3.org/2000/svg\" xmlns:xlink=\"http://www.w3.org/1999/xlink\" width=\"100.0\" height=\"100.0\" viewBox=\"2.92 2.92 2.16 2.16\" preserveAspectRatio=\"xMinYMin meet\"><g transform=\"matrix(1,0,0,-1,0,8.0)\"><path fill-rule=\"evenodd\" fill=\"#66cc99\" stroke=\"#555555\" stroke-width=\"0.0432\" opacity=\"0.6\" d=\"M 3.0,3.0 L 3.0,5.0 L 5.0,5.0 L 5.0,3.0 L 3.0,3.0 z\" /></g></svg>"
      ],
      "text/plain": [
       "<shapely.geometry.polygon.Polygon at 0x7f0e26f580f0>"
      ]
     },
     "execution_count": 5,
     "metadata": {},
     "output_type": "execute_result"
    }
   ],
   "source": [
    "shape_mini_square = Polygon([(3,3), (3, 5), (5, 5), (5, 3), (3, 3)])\n",
    "shape_mini_square"
   ]
  },
  {
   "cell_type": "code",
   "execution_count": 6,
   "metadata": {},
   "outputs": [
    {
     "name": "stdout",
     "output_type": "stream",
     "text": [
      "POLYGON ((14.4 4.4, 14.35184726672197 3.419828596704395, 14.20785280403231 2.44909677983872, 13.96940335732209 1.497153227455379, 13.63879532511287 0.5731656763491064, 13.21921264348355 -0.3139673682599717, 12.71469612302546 -1.155702330196017, 12.13010453362737 -1.943932841636449, 11.47106781186548 -2.671067811865469, 10.74393284163646 -3.330104533627363, 9.955702330196031 -3.914696123025447, 9.113967368259987 -4.419212643483545, 8.226834323650909 -4.838795325112862, 7.302846772544637 -5.169403357322084, 6.350903220161297 -5.407852804032302, 5.380171403295622 -5.551847266721966, 4.400000000000016 -5.6, 3.419828596704412 -5.551847266721969, 2.449096779838736 -5.407852804032308, 1.497153227455395 -5.169403357322093, 0.573165676349122 -4.838795325112875, -0.3139673682599566 -4.41921264348356, -1.155702330196005 -3.914696123025463, -1.943932841636439 -3.330104533627382, -2.671067811865462 -2.671067811865488, -3.330104533627359 -1.943932841636467, -3.914696123025443 -1.155702330196036, -4.419212643483542 -0.3139673682599895, -4.838795325112862 0.5731656763490891, -5.169403357322084 1.497153227455364, -5.407852804032302 2.449096779838706, -5.551847266721968 3.419828596704383, -5.6 4.399999999999991, -5.551847266721969 5.380171403295598, -5.407852804032306 6.350903220161276, -5.169403357322091 7.302846772544617, -4.838795325112869 8.226834323650893, -4.419212643483553 9.113967368259972, -3.914696123025454 9.95570233019602, -3.33010453362737 10.74393284163645, -2.671067811865477 11.47106781186547, -1.943932841636459 12.13010453362737, -1.155702330196029 12.71469612302545, -0.3139673682599868 13.21921264348355, 0.5731656763490887 13.63879532511286, 1.497153227455359 13.96940335732208, 2.449096779838696 14.2078528040323, 3.419828596704369 14.35184726672197, 4.399999999999972 14.4, 5.380171403295575 14.35184726672197, 6.350903220161248 14.20785280403231, 7.302846772544587 13.9694033573221, 8.226834323650859 13.63879532511288, 9.113967368259937 13.21921264348357, 9.955702330195983 12.71469612302548, 10.74393284163641 12.1301045336274, 11.47106781186544 11.47106781186551, 12.13010453362733 10.7439328416365, 12.71469612302542 9.955702330196075, 13.21921264348352 9.113967368260035, 13.63879532511284 8.226834323650962, 13.96940335732207 7.302846772544693, 14.20785280403229 6.350903220161357, 14.35184726672196 5.380171403295686, 14.4 4.400000000000083, 14.4 4.4))\n"
     ]
    }
   ],
   "source": [
    "# radius of the shaped circle is very important !!!\n",
    "shape_circle = Point(4.4,4.4).buffer(10)\n",
    "print(shape_circle)"
   ]
  },
  {
   "cell_type": "code",
   "execution_count": 7,
   "metadata": {},
   "outputs": [
    {
     "name": "stdout",
     "output_type": "stream",
     "text": [
      "delta is 25 bins\n",
      "nb_matching_bins=625\n"
     ]
    }
   ],
   "source": [
    "#shape_circle = Point(10, 10).buffer(5)\n",
    "center_x = 50\n",
    "center_y = 50\n",
    "\n",
    "# distance to center is 750m... convert it into bin size percentage\n",
    "radius = 750\n",
    "bin_real_size = 30\n",
    "delta_in_bin_distance = int(radius / bin_real_size)\n",
    "delta= delta_in_bin_distance\n",
    "print(\"delta is %d bins\" % delta_in_bin_distance)\n",
    "\n",
    "shape_circle = Polygon([(center_x, center_y), \n",
    "                        (center_x+delta, center_y), \n",
    "                        (center_x+delta, center_y+delta), \n",
    "                        (center_x, center_y+delta)                        \n",
    "                       ])\n",
    "\n",
    "bins =  []\n",
    "\n",
    "nb_lat_bins = 109\n",
    "nb_long_bins = 109\n",
    "\n",
    "for i in range(nb_long_bins):\n",
    "    for j in range(nb_lat_bins):\n",
    "        binn = Polygon([(i,j), (i+1, j), (i+1, j+1), (i, j+1), (i+1, j+1)])\n",
    "        bins.append(binn)\n",
    "        \n",
    "nb_matching_bins = 0\n",
    "for i in range(nb_long_bins):\n",
    "    for j in range(nb_lat_bins):\n",
    "        binn = bins[(i*nb_long_bins)+j]\n",
    "        if binn.within(shape_circle):\n",
    "            #print(\"intersection for %d,%d\" % (i, j))\n",
    "            nb_matching_bins += 1\n",
    "print(\"nb_matching_bins=%d\" % nb_matching_bins)\n",
    "\n"
   ]
  },
  {
   "cell_type": "code",
   "execution_count": 8,
   "metadata": {},
   "outputs": [
    {
     "data": {
      "text/plain": [
       "750"
      ]
     },
     "execution_count": 8,
     "metadata": {},
     "output_type": "execute_result"
    }
   ],
   "source": [
    "25*30"
   ]
  },
  {
   "cell_type": "code",
   "execution_count": 9,
   "metadata": {},
   "outputs": [
    {
     "data": {
      "text/plain": [
       "640"
      ]
     },
     "execution_count": 9,
     "metadata": {},
     "output_type": "execute_result"
    }
   ],
   "source": [
    "10*16*4"
   ]
  },
  {
   "cell_type": "code",
   "execution_count": 10,
   "metadata": {},
   "outputs": [
    {
     "data": {
      "text/plain": [
       "16.0"
      ]
     },
     "execution_count": 10,
     "metadata": {},
     "output_type": "execute_result"
    }
   ],
   "source": [
    "10000/625"
   ]
  },
  {
   "cell_type": "code",
   "execution_count": 11,
   "metadata": {},
   "outputs": [
    {
     "data": {
      "image/svg+xml": [
       "<svg xmlns=\"http://www.w3.org/2000/svg\" xmlns:xlink=\"http://www.w3.org/1999/xlink\" />"
      ],
      "text/plain": [
       "<shapely.geometry.collection.GeometryCollection at 0x7f0e04c397f0>"
      ]
     },
     "execution_count": 11,
     "metadata": {},
     "output_type": "execute_result"
    }
   ],
   "source": [
    "intersect = shape_mini_square.intersection(shape_circle)\n",
    "intersect"
   ]
  },
  {
   "cell_type": "code",
   "execution_count": 12,
   "metadata": {},
   "outputs": [],
   "source": [
    "if intersect == shape_mini_square:\n",
    "    print(\"shape_mini_square is entirely contained in the circle\")\n",
    "\n",
    "if shape_mini_square.within(intersect):\n",
    "    print(\"no surpise, shape_mini_square is definitely entirely contained in the circle\")"
   ]
  },
  {
   "cell_type": "code",
   "execution_count": 13,
   "metadata": {},
   "outputs": [
    {
     "data": {
      "text/plain": [
       "True"
      ]
     },
     "execution_count": 13,
     "metadata": {},
     "output_type": "execute_result"
    }
   ],
   "source": [
    "# check if a Polygon shape2 is located within shape1\n",
    "shape1 = Polygon([(0, 0), (0, 4), (4, 4), (4, 0), (0, 0)])\n",
    "shape2 = Polygon([(1, 1), (1, 3), (3, 3), (3, 1), (1, 1)])\n",
    "x2 = shape2.within(shape1)\n",
    "x2"
   ]
  },
  {
   "cell_type": "code",
   "execution_count": 14,
   "metadata": {},
   "outputs": [
    {
     "data": {
      "text/plain": [
       "16.0"
      ]
     },
     "execution_count": 14,
     "metadata": {},
     "output_type": "execute_result"
    }
   ],
   "source": [
    "shape1.length"
   ]
  },
  {
   "cell_type": "code",
   "execution_count": 15,
   "metadata": {},
   "outputs": [
    {
     "data": {
      "text/plain": [
       "8.0"
      ]
     },
     "execution_count": 15,
     "metadata": {},
     "output_type": "execute_result"
    }
   ],
   "source": [
    "shape2.length"
   ]
  },
  {
   "cell_type": "code",
   "execution_count": 16,
   "metadata": {},
   "outputs": [],
   "source": [
    "import pyproj as proj\n",
    "# setup your projections\n",
    "crs_wgs = proj.Proj(init='epsg:4326') # assuming you're using WGS84 geographic\n",
    "crs_bng = proj.Proj(init='epsg:27700') # use a locally appropriate projected CRS\n",
    "\n"
   ]
  },
  {
   "cell_type": "code",
   "execution_count": 17,
   "metadata": {},
   "outputs": [],
   "source": [
    "# then cast your geographic coordinate pair to the projected system\n",
    "x, y = proj.transform(crs_wgs, crs_bng, 2.359820, 48.828770)"
   ]
  },
  {
   "cell_type": "code",
   "execution_count": 18,
   "metadata": {},
   "outputs": [
    {
     "data": {
      "text/plain": [
       "720043.71260879"
      ]
     },
     "execution_count": 18,
     "metadata": {},
     "output_type": "execute_result"
    }
   ],
   "source": [
    "x"
   ]
  },
  {
   "cell_type": "code",
   "execution_count": 19,
   "metadata": {},
   "outputs": [
    {
     "data": {
      "text/plain": [
       "-109950.60209063608"
      ]
     },
     "execution_count": 19,
     "metadata": {},
     "output_type": "execute_result"
    }
   ],
   "source": [
    "y"
   ]
  },
  {
   "cell_type": "code",
   "execution_count": 20,
   "metadata": {},
   "outputs": [
    {
     "name": "stdout",
     "output_type": "stream",
     "text": [
      "big rectangle: distance West side is 1813.78m\n",
      "big rectangle: distance East side is 1813.78m\n",
      "big rectangle: distance North side is 3447.53m\n",
      "big rectangle: distance South side is 3448.65m\n",
      "bin: vertical size for 65 bins: 27.9\n",
      "bin: horizontal size for 109 bins: 31.6 \n"
     ]
    }
   ],
   "source": [
    "from geographiclib.geodesic import Geodesic\n",
    "\n",
    "p1_lat, p1_lon = 48.828770, 2.319820\n",
    "p2_lat, p2_lon = 48.845080, 2.319820\n",
    "p3_lat, p3_lon = 48.845080, 2.366790\n",
    "p4_lat, p4_lon = 48.828770, 2.366790\n",
    "\n",
    "geod = Geodesic.WGS84\n",
    "\n",
    "# note the Inverse method expects latitude then longitude\n",
    "d_lat_W = geod.Inverse(p1_lat, p1_lon, p2_lat, p2_lon)\n",
    "print(\"big rectangle: distance West side is {:.2f}m\".format(d_lat_W['s12']))\n",
    "\n",
    "# note the Inverse method expects latitude then longitude\n",
    "d_lat_E = geod.Inverse(p3_lat, p3_lon, p4_lat, p4_lon)\n",
    "print(\"big rectangle: distance East side is {:.2f}m\".format(d_lat_E['s12']))\n",
    "\n",
    "# note the Inverse method expects latitude then longitude\n",
    "d_long_N = geod.Inverse(p2_lat, p2_lon, p3_lat, p3_lon)\n",
    "print(\"big rectangle: distance North side is {:.2f}m\".format(d_long_N['s12']))\n",
    "\n",
    "# note the Inverse method expects latitude then longitude\n",
    "d_long_S = geod.Inverse(p1_lat, p1_lon, p4_lat, p4_lon)\n",
    "print(\"big rectangle: distance South side is {:.2f}m\".format(d_long_S['s12']))\n",
    "\n",
    "bin_W = d_lat_W['s12'] / 65\n",
    "print(\"bin: vertical size for 65 bins: %.1f\" % bin_W)\n",
    "\n",
    "bin_H = d_long_N['s12'] / 109\n",
    "print(\"bin: horizontal size for 109 bins: %.1f \" % bin_H)"
   ]
  },
  {
   "cell_type": "code",
   "execution_count": 21,
   "metadata": {},
   "outputs": [
    {
     "data": {
      "text/plain": [
       "48.829020923076925"
      ]
     },
     "execution_count": 21,
     "metadata": {},
     "output_type": "execute_result"
    }
   ],
   "source": [
    "p12_lat, p12_lon = p1_lat + ((p2_lat - p1_lat)/65), p1_lon + ((p2_lon - p1_lon)/109)\n",
    "p12_lat"
   ]
  },
  {
   "cell_type": "code",
   "execution_count": 22,
   "metadata": {},
   "outputs": [
    {
     "data": {
      "text/plain": [
       "2.31982"
      ]
     },
     "execution_count": 22,
     "metadata": {},
     "output_type": "execute_result"
    }
   ],
   "source": [
    "p12_lon"
   ]
  },
  {
   "cell_type": "code",
   "execution_count": 23,
   "metadata": {},
   "outputs": [
    {
     "name": "stdout",
     "output_type": "stream",
     "text": [
      "distance is 27.90m\n"
     ]
    }
   ],
   "source": [
    "d = geod.Inverse(p1_lat, p1_lon, p12_lat, p12_lon)\n",
    "print(\"distance is {:.2f}m\".format(d['s12']))"
   ]
  },
  {
   "cell_type": "code",
   "execution_count": 24,
   "metadata": {},
   "outputs": [
    {
     "name": "stdout",
     "output_type": "stream",
     "text": [
      "{'a12': 0.006747195413190025, 'lon1': 2.31982, 'lat2': 48.83378957474298, 'azi1': 45.0, 'lat1': 48.829020923076925, 'azi2': 45.005437851879385, 'lon2': 2.327043733258348, 's12': 750}\n",
      "{'a12': 0.006747196005996936, 'lon1': 2.31982, 'lat2': 48.8307660317695, 'azi1': 75.0, 'lat1': 48.829020923076925, 'azi2': 75.0074276254774, 'lon2': 2.3296872094120196, 's12': 750}\n",
      "{'a12': 0.006747196690488945, 'lon1': 2.31982, 'lat2': 48.827274969388085, 'azi1': 105.0, 'lat1': 48.829020923076925, 'azi2': 105.00742691162968, 'lon2': 2.3296865239739817, 's12': 750}\n",
      "{'a12': 0.006747197283257009, 'lon1': 2.31982, 'lat2': 48.82425181489817, 'azi1': 135.0, 'lat1': 48.829020923076925, 'azi2': 135.0054364241839, 'lon2': 2.3270423623822416, 's12': 750}\n",
      "{'a12': 0.006747197625483596, 'lon1': 2.31982, 'lat2': 48.82250647790907, 'azi1': 165.0, 'lat1': 48.829020923076925, 'azi2': 165.00198977375217, 'lon2': 2.3224634763087066, 's12': 750}\n",
      "{'a12': 0.006747197625483596, 'lon1': 2.31982, 'lat2': 48.82250647790907, 'azi1': -165.0, 'lat1': 48.829020923076925, 'azi2': -165.00198977375217, 'lon2': 2.3171765236912933, 's12': 750}\n",
      "{'a12': 0.006747197283257009, 'lon1': 2.31982, 'lat2': 48.82425181489817, 'azi1': -135.0, 'lat1': 48.829020923076925, 'azi2': -135.0054364241839, 'lon2': 2.3125976376177584, 's12': 750}\n",
      "{'a12': 0.006747196690488945, 'lon1': 2.31982, 'lat2': 48.827274969388085, 'azi1': -105.0, 'lat1': 48.829020923076925, 'azi2': -105.00742691162968, 'lon2': 2.3099534760260183, 's12': 750}\n",
      "{'a12': 0.006747196005996936, 'lon1': 2.31982, 'lat2': 48.8307660317695, 'azi1': -75.0, 'lat1': 48.829020923076925, 'azi2': -75.0074276254774, 'lon2': 2.3099527905879804, 's12': 750}\n",
      "{'a12': 0.006747195413190025, 'lon1': 2.31982, 'lat2': 48.83378957474298, 'azi1': -45.0, 'lat1': 48.829020923076925, 'azi2': -45.00543785187938, 'lon2': 2.312596266741648, 's12': 750}\n",
      "{'a12': 0.0067471950709245875, 'lon1': 2.31982, 'lat2': 48.83553530021565, 'azi1': -15.0, 'lat1': 48.829020923076925, 'azi2': -15.001990487599919, 'lon2': 2.3171758382532266, 's12': 750}\n",
      "{'a12': 0.0067471950709245875, 'lon1': 2.31982, 'lat2': 48.83553530021565, 'azi1': 15.0, 'lat1': 48.829020923076925, 'azi2': 15.001990487599919, 'lon2': 2.3224641617467734, 's12': 750}\n"
     ]
    },
    {
     "data": {
      "image/svg+xml": [
       "<svg xmlns=\"http://www.w3.org/2000/svg\" xmlns:xlink=\"http://www.w3.org/1999/xlink\" width=\"100.0\" height=\"100.0\" viewBox=\"48.82171710115611 2.309163413835019 0.014607575812505047 0.021313172329961994\" preserveAspectRatio=\"xMinYMin meet\"><g transform=\"matrix(1,0,0,-1,0,4.63964)\"><path fill-rule=\"evenodd\" fill=\"#66cc99\" stroke=\"#555555\" stroke-width=\"0.00042626344659923987\" opacity=\"0.6\" d=\"M 48.83378957474298,2.327043733258348 L 48.8307660317695,2.3296872094120196 L 48.827274969388085,2.3296865239739817 L 48.82425181489817,2.3270423623822416 L 48.82250647790907,2.3224634763087066 L 48.82250647790907,2.3171765236912933 L 48.82425181489817,2.3125976376177584 L 48.827274969388085,2.3099534760260183 L 48.8307660317695,2.3099527905879804 L 48.83378957474298,2.312596266741648 L 48.83553530021565,2.3171758382532266 L 48.83553530021565,2.3224641617467734 L 48.83378957474298,2.327043733258348 z\" /></g></svg>"
      ],
      "text/plain": [
       "<shapely.geometry.polygon.Polygon at 0x7f0e04a42358>"
      ]
     },
     "execution_count": 24,
     "metadata": {},
     "output_type": "execute_result"
    }
   ],
   "source": [
    "# create an approximated circle thanks to a polygon of 12 points\n",
    "c = []\n",
    "nb_points = 12\n",
    "for az in range(nb_points):\n",
    "    point = geod.Direct(p12_lat, p12_lon, 45 + (az*360/nb_points), 750)\n",
    "    print(point)\n",
    "    c.append((point['lat2'],point['lon2']))\n",
    "shape_cercle = Polygon(c)\n",
    "shape_cercle"
   ]
  },
  {
   "cell_type": "code",
   "execution_count": null,
   "metadata": {},
   "outputs": [],
   "source": []
  }
 ],
 "metadata": {
  "kernelspec": {
   "display_name": "Python 3",
   "language": "python",
   "name": "python3"
  },
  "language_info": {
   "codemirror_mode": {
    "name": "ipython",
    "version": 3
   },
   "file_extension": ".py",
   "mimetype": "text/x-python",
   "name": "python",
   "nbconvert_exporter": "python",
   "pygments_lexer": "ipython3",
   "version": "3.5.2"
  }
 },
 "nbformat": 4,
 "nbformat_minor": 2
}
