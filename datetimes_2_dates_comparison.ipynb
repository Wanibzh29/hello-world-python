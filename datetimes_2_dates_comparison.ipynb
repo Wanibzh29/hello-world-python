{
 "cells": [
  {
   "cell_type": "code",
   "execution_count": 1,
   "metadata": {},
   "outputs": [],
   "source": [
    "from datetime import datetime, timedelta"
   ]
  },
  {
   "cell_type": "code",
   "execution_count": 2,
   "metadata": {},
   "outputs": [],
   "source": [
    "d0 = datetime.now() - timedelta(days=7)\n",
    "d2 = datetime.now() + timedelta(days=7)\n",
    "\n",
    "#d_ = datetime.strptime('2018-12-28',\"%Y-%m-%d\")\n",
    "d_ = datetime.now()"
   ]
  },
  {
   "cell_type": "code",
   "execution_count": 3,
   "metadata": {},
   "outputs": [
    {
     "name": "stdout",
     "output_type": "stream",
     "text": [
      "d0=2018-12-21 15:15:03.640937\n",
      "d2=2019-01-04 15:15:03.641012\n",
      "d_=2018-12-28 15:15:03.641046\n"
     ]
    }
   ],
   "source": [
    "print('d0=%s' % d0)\n",
    "print('d2=%s' % d2)\n",
    "\n",
    "print('d_=%s' % d_)"
   ]
  },
  {
   "cell_type": "code",
   "execution_count": 4,
   "metadata": {},
   "outputs": [
    {
     "name": "stdout",
     "output_type": "stream",
     "text": [
      "d0 <= d_\n"
     ]
    }
   ],
   "source": [
    "if d0 <= d_:\n",
    "    print('%s <= %s' % ('d0', 'd_'))\n",
    "else:\n",
    "    print('%s > %s' % ('d0', 'd_'))"
   ]
  },
  {
   "cell_type": "code",
   "execution_count": 5,
   "metadata": {},
   "outputs": [
    {
     "name": "stdout",
     "output_type": "stream",
     "text": [
      "d_ < d2\n"
     ]
    }
   ],
   "source": [
    "if d_ < d2:\n",
    "    print('%s < %s' % ('d_', 'd2'))\n",
    "else:\n",
    "    print('%s >= %s' % ('d_', 'd2'))"
   ]
  }
 ],
 "metadata": {
  "kernelspec": {
   "display_name": "Python 3",
   "language": "python",
   "name": "python3"
  },
  "language_info": {
   "codemirror_mode": {
    "name": "ipython",
    "version": 3
   },
   "file_extension": ".py",
   "mimetype": "text/x-python",
   "name": "python",
   "nbconvert_exporter": "python",
   "pygments_lexer": "ipython3",
   "version": "3.5.2"
  }
 },
 "nbformat": 4,
 "nbformat_minor": 2
}
