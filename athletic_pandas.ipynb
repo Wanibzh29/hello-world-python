{
  "nbformat": 4,
  "nbformat_minor": 0,
  "metadata": {
    "kernelspec": {
      "display_name": "Python 3",
      "language": "python",
      "name": "python3"
    },
    "language_info": {
      "codemirror_mode": {
        "name": "ipython",
        "version": 3
      },
      "file_extension": ".py",
      "mimetype": "text/x-python",
      "name": "python",
      "nbconvert_exporter": "python",
      "pygments_lexer": "ipython3",
      "version": "3.6.9"
    },
    "colab": {
      "name": "athletic_pandas.ipynb",
      "provenance": [],
      "collapsed_sections": []
    }
  },
  "cells": [
    {
      "cell_type": "markdown",
      "metadata": {
        "id": "DXr8EeXbaAIf",
        "colab_type": "text"
      },
      "source": [
        "# Hands on Python athletic_pandas Library\n",
        "\n",
        "* Goal: use https://github.com/AartGoossens/athletic_pandas \n",
        "* This library is also used and discussed here https://medium.com/critical-powers/comparison-of-wbalance-algorithms-8838173e2c15\n",
        "* The CSV file is a Gutai cycling workout saved on Garmin Connect https://connect.garmin.com/modern/activity/3557595814\n",
        "* Litterature: https://www.ncbi.nlm.nih.gov/pubmed/22382171 \"The primary purpose of the present investigation was to develop a dynamic model that tracks the discharge and recharge of the W′ during severe intermittent exercise.\"*"
      ]
    },
    {
      "cell_type": "code",
      "metadata": {
        "id": "MA8j_TWIaAIg",
        "colab_type": "code",
        "colab": {}
      },
      "source": [
        "# quietly (-q) install or check the needed librairies for this notebook\n",
        "!pip -q install lmfit\n",
        "!pip -q install athletic_pandas\n",
        "!pip -q install pandas\n",
        "!pip -q install matplotlib"
      ],
      "execution_count": 0,
      "outputs": []
    },
    {
      "cell_type": "code",
      "metadata": {
        "id": "nVrjyrARaAIl",
        "colab_type": "code",
        "colab": {}
      },
      "source": [
        "# import needed librairies\n",
        "from datetime import datetime, timedelta\n",
        "import pandas as pd\n",
        "import matplotlib.pyplot\n",
        "from athletic_pandas.models import WorkoutDataFrame\n",
        "from athletic_pandas.models import Athlete\n",
        "from athletic_pandas.algorithms import w_prime_balance"
      ],
      "execution_count": 0,
      "outputs": []
    },
    {
      "cell_type": "code",
      "metadata": {
        "id": "FcduK-qAaAIp",
        "colab_type": "code",
        "outputId": "154719ab-b535-4a39-d32f-01c7b7f5f5f3",
        "colab": {
          "base_uri": "https://localhost:8080/",
          "height": 208
        }
      },
      "source": [
        "# Unfortunately Garmin Connect does not make it possible to download an activity as a CSV file\n",
        "# I thus downloaded a G.C. TCX file (3557595814.tcx) and transformed it into a CSV file with Microsoft Excel\n",
        "# I then uploaded the resulting CSV file on a web server\n",
        "# You can use Linux wget command to download it (as pandas does not cope with TLS certificates having IDNA)\n",
        "!wget -N https://fonétik.fr/3557595814.csv\n",
        "\n",
        "# open a Gutai workout as a pandas dataframe\n",
        "df = WorkoutDataFrame(pd.read_csv('3557595814.csv', sep=';'))"
      ],
      "execution_count": 0,
      "outputs": [
        {
          "output_type": "stream",
          "text": [
            "--2020-03-31 13:47:46--  https://xn--fontik-dva.fr/3557595814.csv\n",
            "Resolving xn--fontik-dva.fr (xn--fontik-dva.fr)... 213.186.33.4\n",
            "Connecting to xn--fontik-dva.fr (xn--fontik-dva.fr)|213.186.33.4|:443... connected.\n",
            "HTTP request sent, awaiting response... 200 OK\n",
            "Length: 1079039 (1.0M) [text/csv]\n",
            "Saving to: ‘3557595814.csv’\n",
            "\n",
            "3557595814.csv      100%[===================>]   1.03M   693KB/s    in 1.5s    \n",
            "\n",
            "2020-03-31 13:47:49 (693 KB/s) - ‘3557595814.csv’ saved [1079039/1079039]\n",
            "\n"
          ],
          "name": "stdout"
        }
      ]
    },
    {
      "cell_type": "code",
      "metadata": {
        "id": "irQuk_XiaAIs",
        "colab_type": "code",
        "outputId": "bdfd99b4-8a1a-4a6a-8c4a-4b0f2ee86533",
        "colab": {
          "base_uri": "https://localhost:8080/",
          "height": 34
        }
      },
      "source": [
        "# display the number of lines and columns in the dataframe\n",
        "# 1 line = 1 sample \n",
        "# (1 sample per second in a Garmin Workout file)\n",
        "df.shape"
      ],
      "execution_count": 0,
      "outputs": [
        {
          "output_type": "execute_result",
          "data": {
            "text/plain": [
              "(3927, 37)"
            ]
          },
          "metadata": {
            "tags": []
          },
          "execution_count": 7
        }
      ]
    },
    {
      "cell_type": "code",
      "metadata": {
        "id": "TKB0h-mJa7Lz",
        "colab_type": "code",
        "colab": {}
      },
      "source": [
        "def human_time(n_secs):\n",
        "  d = datetime(1,1,1) + timedelta(seconds=n_secs)\n",
        "  if d.day <= 1:\n",
        "    string = \"%d seconds (i.e. %02d:%02d:%02d) \" % (n_secs, d.hour, d.minute, d.second)\n",
        "  else:\n",
        "    string = \"%d seconds (i.e. %d-%02d:%02d:%02d) \" % (n_secs, d.day, d.hour, d.minute, d.second)\n",
        "  return string"
      ],
      "execution_count": 0,
      "outputs": []
    },
    {
      "cell_type": "code",
      "metadata": {
        "id": "3uuAqg1ijFhT",
        "colab_type": "code",
        "outputId": "228c7d2f-2713-4929-c2a8-8816f22bea1b",
        "colab": {
          "base_uri": "https://localhost:8080/",
          "height": 34
        }
      },
      "source": [
        "# assumption is that there is 1 sample (i.e. 1 line per second!\n",
        "print('activity duration: %s' % human_time(df.shape[0]))"
      ],
      "execution_count": 0,
      "outputs": [
        {
          "output_type": "stream",
          "text": [
            "activity duration: 3927 seconds (i.e. 01:05:27) \n"
          ],
          "name": "stdout"
        }
      ]
    },
    {
      "cell_type": "code",
      "metadata": {
        "id": "R6iq3Q6waAIv",
        "colab_type": "code",
        "outputId": "389a8839-22eb-4eac-9a6d-5c5e9c162a52",
        "colab": {
          "base_uri": "https://localhost:8080/",
          "height": 208
        }
      },
      "source": [
        "# Display all available columns in the Garmin Connect CSV file\n",
        "df.columns.values"
      ],
      "execution_count": 0,
      "outputs": [
        {
          "output_type": "execute_result",
          "data": {
            "text/plain": [
              "array(['Sport', 'ns1:Id', 'StartTime', 'ns1:TotalTimeSeconds',\n",
              "       'ns1:DistanceMeters', 'ns1:MaximumSpeed', 'ns1:Calories',\n",
              "       'ns1:Value', 'ns1:Value2', 'ns1:Intensity', 'ns1:Cadence',\n",
              "       'ns1:TriggerMethod', 'ns1:Time', 'ns1:DistanceMeters3',\n",
              "       'ns1:Value4', 'ns1:Cadence5', 'ns2:Speed', 'ns2:Watts',\n",
              "       'ns2:AvgSpeed', 'ns2:MaxBikeCadence', 'ns2:Steps', 'ns2:AvgWatts',\n",
              "       'ns2:MaxWatts', 'ns1:Name', 'ns1:UnitId', 'ns1:ProductID',\n",
              "       'ns1:VersionMajor', 'ns1:VersionMinor', 'ns1:BuildMajor',\n",
              "       'ns1:BuildMinor', 'ns1:Name6', 'ns1:VersionMajor7',\n",
              "       'ns1:VersionMinor8', 'ns1:BuildMajor9', 'ns1:BuildMinor10',\n",
              "       'ns1:LangID', 'ns1:PartNumber'], dtype=object)"
            ]
          },
          "metadata": {
            "tags": []
          },
          "execution_count": 10
        }
      ]
    },
    {
      "cell_type": "code",
      "metadata": {
        "id": "pObgcjEtaAIy",
        "colab_type": "code",
        "colab": {}
      },
      "source": [
        "#sample = 0 # first second of the workout (89bpm, 75w, 64rpm)\n",
        "#sample = 20 * 60 # 20th minute of the workout (150bpm, 244w, 92rpm)\n",
        "#sample = 3927 - 1 # latest second of the workout (116bpm, 121w, 75rpm)\n",
        "#df_sample= df.loc[[sample]]\n",
        "#for column in df_sample:\n",
        "#    print(df_sample[column])"
      ],
      "execution_count": 0,
      "outputs": []
    },
    {
      "cell_type": "code",
      "metadata": {
        "id": "c_nvoG3WaAI1",
        "colab_type": "code",
        "colab": {}
      },
      "source": [
        "# Create a 'time' column wich is equal to the index of the row\n",
        "df['time'] = df.index + 1"
      ],
      "execution_count": 0,
      "outputs": []
    },
    {
      "cell_type": "code",
      "metadata": {
        "id": "g1uEGLaMaAI4",
        "colab_type": "code",
        "colab": {}
      },
      "source": [
        "# Filter the dataframe by keeping only 4 columns\n",
        "# 'ns1:Cadence' is not needed in this notebook, keep it anyway\n",
        "df = df[['time', 'ns1:Value4', 'ns2:Watts', 'ns1:Cadence']]"
      ],
      "execution_count": 0,
      "outputs": []
    },
    {
      "cell_type": "code",
      "metadata": {
        "id": "rIhyj6x2aAI7",
        "colab_type": "code",
        "colab": {}
      },
      "source": [
        "# Rename the columns names\n",
        "df = df.rename(columns= {'ns1:Value4':'heartrate', \n",
        "                         'ns2:Watts':'power',\n",
        "                         'ns1:Cadence':'cadence'})"
      ],
      "execution_count": 0,
      "outputs": []
    },
    {
      "cell_type": "code",
      "metadata": {
        "id": "C8ZNVt3QaAI9",
        "colab_type": "code",
        "colab": {}
      },
      "source": [
        "# Replace all NaN values with 0 (there are such values in the 'power' column)\n",
        "df = df.fillna(0)"
      ],
      "execution_count": 0,
      "outputs": []
    },
    {
      "cell_type": "code",
      "metadata": {
        "id": "QFq4ZowGaAI_",
        "colab_type": "code",
        "outputId": "ecf08798-3ea4-46fb-f4c6-3143bd35d3a8",
        "colab": {
          "base_uri": "https://localhost:8080/",
          "height": 143
        }
      },
      "source": [
        "# Display first 3 lines of the dataframe\n",
        "df.head(3)"
      ],
      "execution_count": 0,
      "outputs": [
        {
          "output_type": "execute_result",
          "data": {
            "text/html": [
              "<div>\n",
              "<style scoped>\n",
              "    .dataframe tbody tr th:only-of-type {\n",
              "        vertical-align: middle;\n",
              "    }\n",
              "\n",
              "    .dataframe tbody tr th {\n",
              "        vertical-align: top;\n",
              "    }\n",
              "\n",
              "    .dataframe thead th {\n",
              "        text-align: right;\n",
              "    }\n",
              "</style>\n",
              "<table border=\"1\" class=\"dataframe\">\n",
              "  <thead>\n",
              "    <tr style=\"text-align: right;\">\n",
              "      <th></th>\n",
              "      <th>time</th>\n",
              "      <th>heartrate</th>\n",
              "      <th>power</th>\n",
              "      <th>cadence</th>\n",
              "    </tr>\n",
              "  </thead>\n",
              "  <tbody>\n",
              "    <tr>\n",
              "      <th>0</th>\n",
              "      <td>1</td>\n",
              "      <td>78</td>\n",
              "      <td>47.0</td>\n",
              "      <td>83</td>\n",
              "    </tr>\n",
              "    <tr>\n",
              "      <th>1</th>\n",
              "      <td>2</td>\n",
              "      <td>78</td>\n",
              "      <td>52.0</td>\n",
              "      <td>83</td>\n",
              "    </tr>\n",
              "    <tr>\n",
              "      <th>2</th>\n",
              "      <td>3</td>\n",
              "      <td>78</td>\n",
              "      <td>58.0</td>\n",
              "      <td>83</td>\n",
              "    </tr>\n",
              "  </tbody>\n",
              "</table>\n",
              "</div>"
            ],
            "text/plain": [
              "   time  heartrate  power  cadence\n",
              "0     1         78   47.0       83\n",
              "1     2         78   52.0       83\n",
              "2     3         78   58.0       83"
            ]
          },
          "metadata": {
            "tags": []
          },
          "execution_count": 16
        }
      ]
    },
    {
      "cell_type": "code",
      "metadata": {
        "id": "cT0A-NaDaAJB",
        "colab_type": "code",
        "outputId": "af2bcef5-4bbf-4b98-fb7e-e635ce938627",
        "colab": {
          "base_uri": "https://localhost:8080/",
          "height": 143
        }
      },
      "source": [
        "# Display last 3 lines of the dataframe\n",
        "df.tail(3)"
      ],
      "execution_count": 0,
      "outputs": [
        {
          "output_type": "execute_result",
          "data": {
            "text/html": [
              "<div>\n",
              "<style scoped>\n",
              "    .dataframe tbody tr th:only-of-type {\n",
              "        vertical-align: middle;\n",
              "    }\n",
              "\n",
              "    .dataframe tbody tr th {\n",
              "        vertical-align: top;\n",
              "    }\n",
              "\n",
              "    .dataframe thead th {\n",
              "        text-align: right;\n",
              "    }\n",
              "</style>\n",
              "<table border=\"1\" class=\"dataframe\">\n",
              "  <thead>\n",
              "    <tr style=\"text-align: right;\">\n",
              "      <th></th>\n",
              "      <th>time</th>\n",
              "      <th>heartrate</th>\n",
              "      <th>power</th>\n",
              "      <th>cadence</th>\n",
              "    </tr>\n",
              "  </thead>\n",
              "  <tbody>\n",
              "    <tr>\n",
              "      <th>3924</th>\n",
              "      <td>3925</td>\n",
              "      <td>116</td>\n",
              "      <td>121.0</td>\n",
              "      <td>76</td>\n",
              "    </tr>\n",
              "    <tr>\n",
              "      <th>3925</th>\n",
              "      <td>3926</td>\n",
              "      <td>116</td>\n",
              "      <td>121.0</td>\n",
              "      <td>76</td>\n",
              "    </tr>\n",
              "    <tr>\n",
              "      <th>3926</th>\n",
              "      <td>3927</td>\n",
              "      <td>116</td>\n",
              "      <td>121.0</td>\n",
              "      <td>76</td>\n",
              "    </tr>\n",
              "  </tbody>\n",
              "</table>\n",
              "</div>"
            ],
            "text/plain": [
              "      time  heartrate  power  cadence\n",
              "3924  3925        116  121.0       76\n",
              "3925  3926        116  121.0       76\n",
              "3926  3927        116  121.0       76"
            ]
          },
          "metadata": {
            "tags": []
          },
          "execution_count": 17
        }
      ]
    },
    {
      "cell_type": "code",
      "metadata": {
        "id": "RQ50EXGmaAJD",
        "colab_type": "code",
        "outputId": "3ccf565e-2a01-4cb2-adb0-9848f4e2962c",
        "colab": {
          "base_uri": "https://localhost:8080/",
          "height": 173
        }
      },
      "source": [
        "# Describe the distribution of 'heartrate' values (should be similar to Garmin Connect display)\n",
        "df['heartrate'].describe()"
      ],
      "execution_count": 0,
      "outputs": [
        {
          "output_type": "execute_result",
          "data": {
            "text/plain": [
              "count    3927.000000\n",
              "mean      134.015279\n",
              "std        21.528980\n",
              "min        78.000000\n",
              "25%       118.000000\n",
              "50%       136.000000\n",
              "75%       154.000000\n",
              "max       166.000000\n",
              "Name: heartrate, dtype: float64"
            ]
          },
          "metadata": {
            "tags": []
          },
          "execution_count": 18
        }
      ]
    },
    {
      "cell_type": "code",
      "metadata": {
        "id": "X-_50y9GaAJF",
        "colab_type": "code",
        "outputId": "bce508af-d7e2-4022-ca8f-d4929eefb8da",
        "colab": {
          "base_uri": "https://localhost:8080/",
          "height": 173
        }
      },
      "source": [
        "# Describe the distribution of 'power' values (should be similar to Garmin Connect display)\n",
        "df['power'].describe()"
      ],
      "execution_count": 0,
      "outputs": [
        {
          "output_type": "execute_result",
          "data": {
            "text/plain": [
              "count    3927.000000\n",
              "mean      180.850267\n",
              "std        59.649323\n",
              "min         0.000000\n",
              "25%       133.000000\n",
              "50%       191.000000\n",
              "75%       234.000000\n",
              "max       314.000000\n",
              "Name: power, dtype: float64"
            ]
          },
          "metadata": {
            "tags": []
          },
          "execution_count": 19
        }
      ]
    },
    {
      "cell_type": "code",
      "metadata": {
        "id": "c3FMk6GnaAJI",
        "colab_type": "code",
        "outputId": "3a8ba930-1d8d-4354-f146-095d49134eb4",
        "colab": {
          "base_uri": "https://localhost:8080/",
          "height": 296
        }
      },
      "source": [
        "# Display 'power' (in watt) against 'time' (in sec)\n",
        "df.plot(x='time', y='power', marker='.')"
      ],
      "execution_count": 0,
      "outputs": [
        {
          "output_type": "execute_result",
          "data": {
            "text/plain": [
              "<matplotlib.axes._subplots.AxesSubplot at 0x7f36ce03f390>"
            ]
          },
          "metadata": {
            "tags": []
          },
          "execution_count": 20
        },
        {
          "output_type": "display_data",
          "data": {
            "image/png": "iVBORw0KGgoAAAANSUhEUgAAAXcAAAEGCAYAAACevtWaAAAABHNCSVQICAgIfAhkiAAAAAlwSFlz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\nw2QgLNwZhmEyEBbuDMMwGcj/B0hro6vlxKSbAAAAAElFTkSuQmCC\n",
            "text/plain": [
              "<Figure size 432x288 with 1 Axes>"
            ]
          },
          "metadata": {
            "tags": []
          }
        }
      ]
    },
    {
      "cell_type": "code",
      "metadata": {
        "id": "yS4oCOZNaAJJ",
        "colab_type": "code",
        "outputId": "56304fce-4572-4bb7-f66c-b7f73f4619ff",
        "colab": {
          "base_uri": "https://localhost:8080/",
          "height": 34
        }
      },
      "source": [
        "# Create an athlete's profile an put it in the dataframe\n",
        "#df.athlete = Athlete(name='Mister X', cp=300, w_prime=21600)\n",
        "df.athlete = Athlete(name='Mister X', cp=220, w_prime=15000)\n",
        "df.athlete"
      ],
      "execution_count": 0,
      "outputs": [
        {
          "output_type": "execute_result",
          "data": {
            "text/plain": [
              "<athletic_pandas.models.Athlete at 0x7f36cdf633c8>"
            ]
          },
          "metadata": {
            "tags": []
          },
          "execution_count": 21
        }
      ]
    },
    {
      "cell_type": "markdown",
      "metadata": {
        "id": "PUc-kjXRwCGW",
        "colab_type": "text"
      },
      "source": [
        "* The possibility to use another algorithm than the default one (waterworth) for calculating w_prime values is documented in the code itself: https://github.com/AartGoossens/athletic_pandas/blob/master/athletic_pandas/algorithms/w_prime_balance.py.\n",
        "* There are three possible algorithms:\n",
        "  * **waterworth**(power, cp, w_prime, tau_dynamic*=False*, tau_value*=None*)\n",
        "    * tau_dynamic is optional (equal to *False* by default);\n",
        "    * tau_value is optional (equal to None by default).\n",
        "  * **skiba**(power, cp, w_prime, tau_dynamic*=False*, tau_value*=None*)\n",
        "    * tau_dynamic is optional (equal to *False* by default);\n",
        "    * tau_value is optional (equal to *None* by default).\n",
        "  * **froncioni-skiba-clarke**(power, cp, w_prime)\n",
        "* If no algorithm is indicated, the **waterworth** algorithm is used by the library.
      ]
    },
    {
      "cell_type": "code",
      "metadata": {
        "id": "5Hw1B45kaAJL",
        "colab_type": "code",
        "colab": {}
      },
      "source": [
        "# Calculate different w_prime_balances according to different \n",
        "# the possible algorithms implemented in the athletic_pandas library, \n",
        "# and add results as a new column in the dataframe\n",
        "df['w_prime_balance_waterworth']=df.compute_w_prime_balance(algorithm='waterworth')\n",
        "df['w_prime_balance_waterworth_tau_542']=df.compute_w_prime_balance(algorithm='waterworth',tau_value=542)\n",
        "df['w_prime_balance_waterworth_tau_dyn']=df.compute_w_prime_balance(algorithm='waterworth',tau_dynamic=True)\n",
        "df['w_prime_balance_froncioni']=df.compute_w_prime_balance(algorithm='froncioni-skiba-clarke')\n",
        "df['w_prime_balance_skiba']=df.compute_w_prime_balance(algorithm='skiba') # this algo is very slow!"
      ],
      "execution_count": 0,
      "outputs": []
    },
    {
      "cell_type": "code",
      "metadata": {
        "id": "iWRmsGmwGeRm",
        "colab_type": "code",
        "colab": {}
      },
      "source": [
        "# Set the 'w_prime_balance' column with the default algorithm (waterworth) \n",
        "# and its default tau parameters (tau_dynamic=False and tau_value=None).\n",
        "# This column will be used in the calculations of the next cells\n",
        "df['w_prime_balance']=df.compute_w_prime_balance()"
      ],
      "execution_count": 0,
      "outputs": []
    },
    {
      "cell_type": "code",
      "metadata": {
        "id": "IQJB-xWEGiq_",
        "colab_type": "code",
        "outputId": "9f25d2ef-2934-48c0-c424-224ae54052fa",
        "colab": {
          "base_uri": "https://localhost:8080/",
          "height": 101
        }
      },
      "source": [
        "# display line(s) where 'w_prime_balance' has its. minimum value\n",
        "df[df.w_prime_balance == df.w_prime_balance.min()]"
      ],
      "execution_count": 0,
      "outputs": [
        {
          "output_type": "execute_result",
          "data": {
            "text/html": [
              "<div>\n",
              "<style scoped>\n",
              "    .dataframe tbody tr th:only-of-type {\n",
              "        vertical-align: middle;\n",
              "    }\n",
              "\n",
              "    .dataframe tbody tr th {\n",
              "        vertical-align: top;\n",
              "    }\n",
              "\n",
              "    .dataframe thead th {\n",
              "        text-align: right;\n",
              "    }\n",
              "</style>\n",
              "<table border=\"1\" class=\"dataframe\">\n",
              "  <thead>\n",
              "    <tr style=\"text-align: right;\">\n",
              "      <th></th>\n",
              "      <th>time</th>\n",
              "      <th>heartrate</th>\n",
              "      <th>power</th>\n",
              "      <th>cadence</th>\n",
              "      <th>w_prime_balance_waterworth</th>\n",
              "      <th>w_prime_balance_waterworth_tau_542</th>\n",
              "      <th>w_prime_balance_waterworth_tau_dyn</th>\n",
              "      <th>w_prime_balance_froncioni</th>\n",
              "      <th>w_prime_balance_skiba</th>\n",
              "      <th>w_prime_balance</th>\n",
              "    </tr>\n",
              "  </thead>\n",
              "  <tbody>\n",
              "    <tr>\n",
              "      <th>3553</th>\n",
              "      <td>3554</td>\n",
              "      <td>166</td>\n",
              "      <td>310.0</td>\n",
              "      <td>103</td>\n",
              "      <td>5899.131295</td>\n",
              "      <td>5969.773475</td>\n",
              "      <td>5682.393129</td>\n",
              "      <td>2239.189068</td>\n",
              "      <td>5899.131295</td>\n",
              "      <td>5899.131295</td>\n",
              "    </tr>\n",
              "  </tbody>\n",
              "</table>\n",
              "</div>"
            ],
            "text/plain": [
              "      time  heartrate  ...  w_prime_balance_skiba  w_prime_balance\n",
              "3553  3554        166  ...            5899.131295      5899.131295\n",
              "\n",
              "[1 rows x 10 columns]"
            ]
          },
          "metadata": {
            "tags": []
          },
          "execution_count": 38
        }
      ]
    },
    {
      "cell_type": "code",
      "metadata": {
        "id": "z8G2178QjdrP",
        "colab_type": "code",
        "outputId": "c9a2a298-4a14-4900-a7a7-c30e43a3e0ea",
        "colab": {
          "base_uri": "https://localhost:8080/",
          "height": 34
        }
      },
      "source": [
        "first_time_min = int(df[df.w_prime_balance == df.w_prime_balance.min()].time.values[0])\n",
        "print('w_prime_balance min=%.0f at %s' % (df.w_prime_balance.min(), human_time(first_time_min)))"
      ],
      "execution_count": 0,
      "outputs": [
        {
          "output_type": "stream",
          "text": [
            "w_prime_balance min=5899 at 3554 seconds (i.e. 00:59:14) \n"
          ],
          "name": "stdout"
        }
      ]
    },
    {
      "cell_type": "code",
      "metadata": {
        "id": "E3Z8cnnWaAJO",
        "colab_type": "code",
        "outputId": "df6eba36-aae2-42c2-958b-b06497704ef8",
        "colab": {
          "base_uri": "https://localhost:8080/",
          "height": 132
        }
      },
      "source": [
        "# display last 2 lines \n",
        "df.tail(2)"
      ],
      "execution_count": 0,
      "outputs": [
        {
          "output_type": "execute_result",
          "data": {
            "text/html": [
              "<div>\n",
              "<style scoped>\n",
              "    .dataframe tbody tr th:only-of-type {\n",
              "        vertical-align: middle;\n",
              "    }\n",
              "\n",
              "    .dataframe tbody tr th {\n",
              "        vertical-align: top;\n",
              "    }\n",
              "\n",
              "    .dataframe thead th {\n",
              "        text-align: right;\n",
              "    }\n",
              "</style>\n",
              "<table border=\"1\" class=\"dataframe\">\n",
              "  <thead>\n",
              "    <tr style=\"text-align: right;\">\n",
              "      <th></th>\n",
              "      <th>time</th>\n",
              "      <th>heartrate</th>\n",
              "      <th>power</th>\n",
              "      <th>cadence</th>\n",
              "      <th>w_prime_balance_waterworth</th>\n",
              "      <th>w_prime_balance_waterworth_tau_542</th>\n",
              "      <th>w_prime_balance_waterworth_tau_dyn</th>\n",
              "      <th>w_prime_balance_froncioni</th>\n",
              "      <th>w_prime_balance_skiba</th>\n",
              "      <th>w_prime_balance</th>\n",
              "    </tr>\n",
              "  </thead>\n",
              "  <tbody>\n",
              "    <tr>\n",
              "      <th>3925</th>\n",
              "      <td>3926</td>\n",
              "      <td>116</td>\n",
              "      <td>121.0</td>\n",
              "      <td>76</td>\n",
              "      <td>10376.089420</td>\n",
              "      <td>10454.077900</td>\n",
              "      <td>11191.796157</td>\n",
              "      <td>14403.485929</td>\n",
              "      <td>10376.089420</td>\n",
              "      <td>10376.089420</td>\n",
              "    </tr>\n",
              "    <tr>\n",
              "      <th>3926</th>\n",
              "      <td>3927</td>\n",
              "      <td>116</td>\n",
              "      <td>121.0</td>\n",
              "      <td>76</td>\n",
              "      <td>10384.498389</td>\n",
              "      <td>10462.457477</td>\n",
              "      <td>11199.469768</td>\n",
              "      <td>14407.422922</td>\n",
              "      <td>10384.498389</td>\n",
              "      <td>10384.498389</td>\n",
              "    </tr>\n",
              "  </tbody>\n",
              "</table>\n",
              "</div>"
            ],
            "text/plain": [
              "      time  heartrate  ...  w_prime_balance_skiba  w_prime_balance\n",
              "3925  3926        116  ...           10376.089420     10376.089420\n",
              "3926  3927        116  ...           10384.498389     10384.498389\n",
              "\n",
              "[2 rows x 10 columns]"
            ]
          },
          "metadata": {
            "tags": []
          },
          "execution_count": 26
        }
      ]
    },
    {
      "cell_type": "code",
      "metadata": {
        "scrolled": true,
        "id": "N1q6V99naAJQ",
        "colab_type": "code",
        "outputId": "15a5ebf8-b3e5-449b-b2b4-cea11e5a0b58",
        "colab": {
          "base_uri": "https://localhost:8080/",
          "height": 296
        }
      },
      "source": [
        "# Display the 'w_prime_balance' accorfing to different algos\n",
        "#df.w_prime_balance.plot()\n",
        "df.plot(x='time', y=['w_prime_balance_waterworth',\n",
        "                     'w_prime_balance_waterworth_tau_542',\n",
        "                     'w_prime_balance_waterworth_tau_dyn',\n",
        "                     'w_prime_balance_froncioni',\n",
        "                     'w_prime_balance_skiba']\n",
        "        )"
      ],
      "execution_count": 0,
      "outputs": [
        {
          "output_type": "execute_result",
          "data": {
            "text/plain": [
              "<matplotlib.axes._subplots.AxesSubplot at 0x7f36cdf521d0>"
            ]
          },
          "metadata": {
            "tags": []
          },
          "execution_count": 27
        },
        {
          "output_type": "display_data",
          "data": {
            "image/png": "iVBORw0KGgoAAAANSUhEUgAAAYMAAAEGCAYAAACHGfl5AAAABHNCSVQICAgIfAhkiAAAAAlwSFlz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\nRqPRAP8PP0+l3Iy6SyAAAAAASUVORK5CYII=\n",
            "text/plain": [
              "<Figure size 432x288 with 1 Axes>"
            ]
          },
          "metadata": {
            "tags": []
          }
        }
      ]
    },
    {
      "cell_type": "code",
      "metadata": {
        "id": "dqrhwkTghljZ",
        "colab_type": "code",
        "outputId": "598325fa-19a5-42d1-ea6f-1993b6fa23f4",
        "colab": {
          "base_uri": "https://localhost:8080/",
          "height": 173
        }
      },
      "source": [
        "# Describe the 'w_prime_balance'\n",
        "df.w_prime_balance.describe()"
      ],
      "execution_count": 0,
      "outputs": [
        {
          "output_type": "execute_result",
          "data": {
            "text/plain": [
              "count     3927.000000\n",
              "mean     11441.558207\n",
              "std       2376.787597\n",
              "min       5899.131295\n",
              "25%      10093.303009\n",
              "50%      10883.593711\n",
              "75%      14016.149326\n",
              "max      15000.000000\n",
              "Name: w_prime_balance, dtype: float64"
            ]
          },
          "metadata": {
            "tags": []
          },
          "execution_count": 28
        }
      ]
    },
    {
      "cell_type": "code",
      "metadata": {
        "id": "WbMqxKc1aAJR",
        "colab_type": "code",
        "outputId": "f9c02108-a949-4608-bd83-594eddff6429",
        "colab": {
          "base_uri": "https://localhost:8080/",
          "height": 173
        }
      },
      "source": [
        "# Calculate and describe the 'mean_max_power' for each row (aka sample) of the dataframe\n",
        "df.compute_mean_max_power().describe()"
      ],
      "execution_count": 0,
      "outputs": [
        {
          "output_type": "execute_result",
          "data": {
            "text/plain": [
              "count    3927.000000\n",
              "mean      210.429408\n",
              "std        18.419828\n",
              "min       180.850267\n",
              "25%       203.767994\n",
              "50%       206.841055\n",
              "75%       212.229605\n",
              "max       314.000000\n",
              "dtype: float64"
            ]
          },
          "metadata": {
            "tags": []
          },
          "execution_count": 29
        }
      ]
    },
    {
      "cell_type": "code",
      "metadata": {
        "id": "dAvqvSVaaAJS",
        "colab_type": "code",
        "outputId": "94494eef-931b-46cb-c632-a4553a658467",
        "colab": {
          "base_uri": "https://localhost:8080/",
          "height": 34
        }
      },
      "source": [
        "# Calculate the weighted average power du fichier CSV\n",
        "df.compute_weighted_average_power()"
      ],
      "execution_count": 0,
      "outputs": [
        {
          "output_type": "execute_result",
          "data": {
            "text/plain": [
              "202.3027470910252"
            ]
          },
          "metadata": {
            "tags": []
          },
          "execution_count": 30
        }
      ]
    },
    {
      "cell_type": "code",
      "metadata": {
        "id": "rgOn8fVSaAJU",
        "colab_type": "code",
        "colab": {}
      },
      "source": [
        "# Calculate the model and the predictions\n",
        "model, predictions = df.compute_heartrate_model()"
      ],
      "execution_count": 0,
      "outputs": []
    },
    {
      "cell_type": "code",
      "metadata": {
        "id": "HKfFsg5CaAJV",
        "colab_type": "code",
        "outputId": "953eb334-1379-4d68-d97e-724e0a8b16a4",
        "colab": {
          "base_uri": "https://localhost:8080/",
          "height": 34
        }
      },
      "source": [
        "# Display model variables names (model is an lmfit object\n",
        "# for a Least-Squares Minimization routine\n",
        "model.var_names"
      ],
      "execution_count": 0,
      "outputs": [
        {
          "output_type": "execute_result",
          "data": {
            "text/plain": [
              "['hr_rest', 'hr_max', 'dhr', 'tau_rise', 'tau_fall', 'hr_drift']"
            ]
          },
          "metadata": {
            "tags": []
          },
          "execution_count": 32
        }
      ]
    },
    {
      "cell_type": "code",
      "metadata": {
        "id": "I-QSSLIpaAJW",
        "colab_type": "code",
        "outputId": "f94889a8-8173-441c-8d70-69c55c6f49a4",
        "colab": {
          "base_uri": "https://localhost:8080/",
          "height": 436
        }
      },
      "source": [
        "# display the resulting model\n",
        "model"
      ],
      "execution_count": 0,
      "outputs": [
        {
          "output_type": "execute_result",
          "data": {
            "text/html": [
              "<h2>Fit Statistics</h2><table><tr><td>fitting method</td><td>Nelder-Mead</td><td></td></tr><tr><td># function evals</td><td>664</td><td></td></tr><tr><td># data points</td><td>3927</td><td></td></tr><tr><td># variables</td><td>6</td><td></td></tr><tr><td>chi-square</td><td> 73859.2276</td><td></td></tr><tr><td>reduced chi-square</td><td> 18.8368344</td><td></td></tr><tr><td>Akaike info crit.</td><td> 11534.9379</td><td></td></tr><tr><td>Bayesian info crit.</td><td> 11572.5917</td><td></td></tr></table><h2>Variables</h2><table><tr><th> name </th><th> value </th><th> initial value </th><th> min </th><th> max </th><th> vary </th></tr><tr><td> hr_rest </td><td>  59.3075453 </td><td> 75 </td><td>        -inf </td><td>         inf </td><td> True </td></tr><tr><td> hr_max </td><td>  160.220191 </td><td> 200 </td><td>        -inf </td><td>         inf </td><td> True </td></tr><tr><td> dhr </td><td>  0.36753986 </td><td> 0.3 </td><td>        -inf </td><td>         inf </td><td> True </td></tr><tr><td> tau_rise </td><td>  34.7791772 </td><td> 24 </td><td>        -inf </td><td>         inf </td><td> True </td></tr><tr><td> tau_fall </td><td>  57.3189104 </td><td> 30 </td><td>        -inf </td><td>         inf </td><td> True </td></tr><tr><td> hr_drift </td><td>  7.1918e-05 </td><td> 3.0000000000000004e-05 </td><td>        -inf </td><td>         inf </td><td> True </td></tr></table>"
            ],
            "text/plain": [
              "<lmfit.minimizer.MinimizerResult at 0x7f36cd74bb38>"
            ]
          },
          "metadata": {
            "tags": []
          },
          "execution_count": 33
        }
      ]
    },
    {
      "cell_type": "code",
      "metadata": {
        "id": "ggrhtLfEaAJX",
        "colab_type": "code",
        "outputId": "560174e4-2702-4741-bdbf-e6d0513b98da",
        "colab": {
          "base_uri": "https://localhost:8080/",
          "height": 34
        }
      },
      "source": [
        "# dispay the number of resulting predictions\n",
        "len(predictions)"
      ],
      "execution_count": 0,
      "outputs": [
        {
          "output_type": "execute_result",
          "data": {
            "text/plain": [
              "3927"
            ]
          },
          "metadata": {
            "tags": []
          },
          "execution_count": 34
        }
      ]
    },
    {
      "cell_type": "code",
      "metadata": {
        "id": "aWUe5n2vaAJZ",
        "colab_type": "code",
        "outputId": "79a2a10d-43d5-45df-b54f-ee98bea5a561",
        "colab": {
          "base_uri": "https://localhost:8080/",
          "height": 34
        }
      },
      "source": [
        "# Display the first 3 resulting predictions\n",
        "predictions[0:3]"
      ],
      "execution_count": 0,
      "outputs": [
        {
          "output_type": "execute_result",
          "data": {
            "text/plain": [
              "[59.60894002850913, 60.14987562915507, 60.73870875977769]"
            ]
          },
          "metadata": {
            "tags": []
          },
          "execution_count": 35
        }
      ]
    },
    {
      "cell_type": "code",
      "metadata": {
        "id": "VDP5-kD_aAJa",
        "colab_type": "code",
        "outputId": "2593bf16-ecea-42fc-cb3d-d937297b5e7b",
        "colab": {
          "base_uri": "https://localhost:8080/",
          "height": 121
        }
      },
      "source": [
        "# TAUs (values to be checked)\n",
        "for seconds in [1, 1000, 1600, 3000, first_time_min, df.shape[0]]:\n",
        "  tau = w_prime_balance.tau_w_prime_balance(df.power, cp=220, untill=seconds)\n",
        "  print(\"time:%4ds, tau:%.0f\" % (seconds, tau))"
      ],
      "execution_count": 0,
      "outputs": [
        {
          "output_type": "stream",
          "text": [
            "time:   1s, tau:413\n",
            "time:1000s, tau:551\n",
            "time:1600s, tau:555\n",
            "time:3000s, tau:568\n",
            "time:3554s, tau:569\n",
            "time:3927s, tau:549\n"
          ],
          "name": "stdout"
        }
      ]
    },
    {
      "cell_type": "markdown",
      "metadata": {
        "id": "Jg97ErO4qhpP",
        "colab_type": "text"
      },
      "source": [
        "## Comparison with GoldenCheetah.\n",
        "* For information, a screenshot of the same csv file processed and displayed by GoldenCheetah.\n",
        "* It uses a similar algorithm:\n",
        "  * cf. https://github.com/GoldenCheetah/GoldenCheetah/blob/master/src/Metrics/WPrime.cpp \n",
        "* Ideally, I would translate here in Python to examine the (presumably minor) differences.\n",
        "\n",
        "![GoldenCheetah Screenshot](gc.png)"
      ]
    }
  ]
}
