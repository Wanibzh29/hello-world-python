{
 "cells": [
  {
   "cell_type": "code",
   "execution_count": 1,
   "metadata": {
    "colab": {
     "base_uri": "https://localhost:8080/",
     "height": 34
    },
    "colab_type": "code",
    "id": "rbM2tC3zmPAn",
    "outputId": "18ecf2b8-2e4f-40ad-8c0a-1df22a427a87"
   },
   "outputs": [],
   "source": [
    "# Python ≥3.5 is required\n",
    "import sys\n",
    "assert sys.version_info >= (3, 5)\n",
    "\n",
    "# TensorFlow ≥2.0 is required\n",
    "import tensorflow as tf\n",
    "assert tf.__version__ >= \"2.0\"\n",
    "\n",
    "if not tf.config.list_physical_devices('GPU'):\n",
    "    print(\"No GPU was detected. LSTMs and CNNs can be very slow without a GPU.\")"
   ]
  },
  {
   "cell_type": "code",
   "execution_count": 2,
   "metadata": {
    "colab": {},
    "colab_type": "code",
    "id": "DsM1dJyXluzN"
   },
   "outputs": [],
   "source": [
    "import os\n",
    "import sys\n",
    "import datetime\n",
    "#import pprint\n",
    "from pathlib import Path\n",
    "import seaborn as sns\n",
    "import matplotlib.pyplot as plt\n",
    "import numpy as np\n",
    "from numpy import argmax\n",
    "import pandas as pd\n",
    "import tensorflow as tf\n",
    "from tensorflow import keras\n",
    "from tensorflow.python.keras import backend as K # beware of .python. here\n",
    "from tensorflow.keras.models import Model\n",
    "from tensorflow.keras.layers import (BatchNormalization, Conv1D, Conv2D, Dense, \n",
    "                                     Flatten, Input, TimeDistributed, Activation, \n",
    "                                     Bidirectional, SimpleRNN, GRU, LSTM, Reshape)\n",
    "from tensorflow.keras.layers import Lambda\n",
    "from tensorflow.keras.optimizers import Adam\n",
    "from tensorflow.keras.callbacks import EarlyStopping"
   ]
  },
  {
   "cell_type": "code",
   "execution_count": 3,
   "metadata": {},
   "outputs": [
    {
     "name": "stdout",
     "output_type": "stream",
     "text": [
      "watermark        1.8.1\n",
      "tensorflow.keras 2.2.4-tf\n",
      "pandas           0.25.1\n",
      "tensorflow       2.2.0-dev20200331\n",
      "numpy            1.17.4\n",
      "matplotlib       3.0.3\n",
      "seaborn          0.9.0\n",
      "\n"
     ]
    }
   ],
   "source": [
    "!pip -q install watermark\n",
    "import watermark\n",
    "%load_ext watermark\n",
    "%watermark --iversions"
   ]
  },
  {
   "cell_type": "code",
   "execution_count": 4,
   "metadata": {},
   "outputs": [
    {
     "data": {
      "text/html": [
       "<div>\n",
       "<style scoped>\n",
       "    .dataframe tbody tr th:only-of-type {\n",
       "        vertical-align: middle;\n",
       "    }\n",
       "\n",
       "    .dataframe tbody tr th {\n",
       "        vertical-align: top;\n",
       "    }\n",
       "\n",
       "    .dataframe thead th {\n",
       "        text-align: right;\n",
       "    }\n",
       "</style>\n",
       "<table border=\"1\" class=\"dataframe\">\n",
       "  <thead>\n",
       "    <tr style=\"text-align: right;\">\n",
       "      <th></th>\n",
       "      <th>Mot</th>\n",
       "      <th>Prononciation</th>\n",
       "      <th>H_aspiré</th>\n",
       "      <th>Type</th>\n",
       "      <th>Audio</th>\n",
       "      <th>Pré_valide</th>\n",
       "      <th>Warn_code</th>\n",
       "      <th>Warn_label</th>\n",
       "    </tr>\n",
       "  </thead>\n",
       "  <tbody>\n",
       "    <tr>\n",
       "      <td>39093</td>\n",
       "      <td>a</td>\n",
       "      <td>a</td>\n",
       "      <td>False</td>\n",
       "      <td>pronom personnel</td>\n",
       "      <td>[]</td>\n",
       "      <td>True</td>\n",
       "      <td>-</td>\n",
       "      <td>-</td>\n",
       "    </tr>\n",
       "    <tr>\n",
       "      <td>39094</td>\n",
       "      <td>a</td>\n",
       "      <td>a</td>\n",
       "      <td>False</td>\n",
       "      <td>lettre</td>\n",
       "      <td>[]</td>\n",
       "      <td>True</td>\n",
       "      <td>-</td>\n",
       "      <td>-</td>\n",
       "    </tr>\n",
       "    <tr>\n",
       "      <td>39095</td>\n",
       "      <td>a</td>\n",
       "      <td>ɑ</td>\n",
       "      <td>False</td>\n",
       "      <td>lettre</td>\n",
       "      <td>[]</td>\n",
       "      <td>True</td>\n",
       "      <td>-</td>\n",
       "      <td>-</td>\n",
       "    </tr>\n",
       "    <tr>\n",
       "      <td>39096</td>\n",
       "      <td>a</td>\n",
       "      <td>a</td>\n",
       "      <td>False</td>\n",
       "      <td>verbe_flexion</td>\n",
       "      <td>[]</td>\n",
       "      <td>True</td>\n",
       "      <td>-</td>\n",
       "      <td>-</td>\n",
       "    </tr>\n",
       "    <tr>\n",
       "      <td>39097</td>\n",
       "      <td>a beau mentir qui vient de loin</td>\n",
       "      <td>a bo mɑ̃.tiʁ ki vjɛ̃ də lwɛ̃</td>\n",
       "      <td>False</td>\n",
       "      <td>locution-phrase</td>\n",
       "      <td>[]</td>\n",
       "      <td>False</td>\n",
       "      <td>err_too_many_spaces</td>\n",
       "      <td>6_spaces</td>\n",
       "    </tr>\n",
       "  </tbody>\n",
       "</table>\n",
       "</div>"
      ],
      "text/plain": [
       "                                   Mot                 Prononciation  \\\n",
       "39093                                a                             a   \n",
       "39094                                a                             a   \n",
       "39095                                a                             ɑ   \n",
       "39096                                a                             a   \n",
       "39097  a beau mentir qui vient de loin  a bo mɑ̃.tiʁ ki vjɛ̃ də lwɛ̃   \n",
       "\n",
       "       H_aspiré              Type Audio  Pré_valide            Warn_code  \\\n",
       "39093     False  pronom personnel    []        True                    -   \n",
       "39094     False            lettre    []        True                    -   \n",
       "39095     False            lettre    []        True                    -   \n",
       "39096     False     verbe_flexion    []        True                    -   \n",
       "39097     False   locution-phrase    []       False  err_too_many_spaces   \n",
       "\n",
       "      Warn_label  \n",
       "39093          -  \n",
       "39094          -  \n",
       "39095          -  \n",
       "39096          -  \n",
       "39097   6_spaces  "
      ]
     },
     "execution_count": 4,
     "metadata": {},
     "output_type": "execute_result"
    }
   ],
   "source": [
    "df = pd.read_csv('fr_wiktionary_full.csv', sep='\\t')\n",
    "df = df[df.Audio != '-']\n",
    "df[df.Mot.str.startswith('a')].head()"
   ]
  },
  {
   "cell_type": "code",
   "execution_count": 5,
   "metadata": {},
   "outputs": [
    {
     "data": {
      "text/plain": [
       "(1503707, 8)"
      ]
     },
     "execution_count": 5,
     "metadata": {},
     "output_type": "execute_result"
    }
   ],
   "source": [
    "df.shape"
   ]
  },
  {
   "cell_type": "code",
   "execution_count": 6,
   "metadata": {},
   "outputs": [],
   "source": [
    "PHONEMES = [\n",
    "        # Voyelles\n",
    "        'i','e','ɛ','a','ɑ','ɔ','o','u','y','ø','œ','ə','ɛ̃','ɑ̃','ɔ̃','œ̃',\n",
    "        # Semi-consonnes\n",
    "        'j','w','ɥ', \n",
    "        # Consonnes\n",
    "        'p','t','k','b','d','ɡ','f','s','ʃ','v','z','ʒ','l','ʁ','m','n','ɲ','ŋ',\n",
    "    ]\n",
    "    \n",
    "def print_phonemes():\n",
    "    i = 0 \n",
    "    for i in range(len(PHONEMES) + 2):\n",
    "        if i == 0:\n",
    "            print(\"' 0\")\n",
    "        elif i == 1:\n",
    "            print('<SPACE> 1')\n",
    "        else:\n",
    "            print('%s %d' % (PHONEMES[i-2], i))"
   ]
  },
  {
   "cell_type": "code",
   "execution_count": 7,
   "metadata": {},
   "outputs": [],
   "source": [
    "# Skip samples whose pronunciation contains unknown phonemes\n",
    "df = df[~df['Prononciation'].isin(PHONEMES)]"
   ]
  },
  {
   "cell_type": "code",
   "execution_count": 8,
   "metadata": {},
   "outputs": [
    {
     "data": {
      "text/plain": [
       "(1503422, 8)"
      ]
     },
     "execution_count": 8,
     "metadata": {},
     "output_type": "execute_result"
    }
   ],
   "source": [
    "df.shape"
   ]
  },
  {
   "cell_type": "code",
   "execution_count": 9,
   "metadata": {},
   "outputs": [
    {
     "data": {
      "text/plain": [
       "120.0"
      ]
     },
     "execution_count": 9,
     "metadata": {},
     "output_type": "execute_result"
    }
   ],
   "source": [
    "df.Prononciation.str.len().max()"
   ]
  },
  {
   "cell_type": "code",
   "execution_count": 10,
   "metadata": {},
   "outputs": [
    {
     "data": {
      "text/html": [
       "<div>\n",
       "<style scoped>\n",
       "    .dataframe tbody tr th:only-of-type {\n",
       "        vertical-align: middle;\n",
       "    }\n",
       "\n",
       "    .dataframe tbody tr th {\n",
       "        vertical-align: top;\n",
       "    }\n",
       "\n",
       "    .dataframe thead th {\n",
       "        text-align: right;\n",
       "    }\n",
       "</style>\n",
       "<table border=\"1\" class=\"dataframe\">\n",
       "  <thead>\n",
       "    <tr style=\"text-align: right;\">\n",
       "      <th></th>\n",
       "      <th>Mot</th>\n",
       "      <th>Prononciation</th>\n",
       "      <th>H_aspiré</th>\n",
       "      <th>Type</th>\n",
       "      <th>Audio</th>\n",
       "      <th>Pré_valide</th>\n",
       "      <th>Warn_code</th>\n",
       "      <th>Warn_label</th>\n",
       "    </tr>\n",
       "  </thead>\n",
       "  <tbody>\n",
       "    <tr>\n",
       "      <td>1391761</td>\n",
       "      <td>tonton</td>\n",
       "      <td>tɔ̃.tɔ̃</td>\n",
       "      <td>False</td>\n",
       "      <td>nom</td>\n",
       "      <td>[]</td>\n",
       "      <td>True</td>\n",
       "      <td>-</td>\n",
       "      <td>-</td>\n",
       "    </tr>\n",
       "  </tbody>\n",
       "</table>\n",
       "</div>"
      ],
      "text/plain": [
       "            Mot Prononciation  H_aspiré Type Audio  Pré_valide Warn_code  \\\n",
       "1391761  tonton       tɔ̃.tɔ̃     False  nom    []        True         -   \n",
       "\n",
       "        Warn_label  \n",
       "1391761          -  "
      ]
     },
     "execution_count": 10,
     "metadata": {},
     "output_type": "execute_result"
    }
   ],
   "source": [
    "df[df.Mot=='tonton']"
   ]
  },
  {
   "cell_type": "code",
   "execution_count": 11,
   "metadata": {},
   "outputs": [],
   "source": [
    "char_map_str = \"\"\"\n",
    "' 0\n",
    "<SPACE> 1\n",
    "i 2\n",
    "e 3\n",
    "ɛ 4\n",
    "a 5\n",
    "ɑ 6\n",
    "ɔ 7\n",
    "o 8\n",
    "u 9\n",
    "y 10\n",
    "ø 11\n",
    "œ 12\n",
    "ə 13\n",
    "ɛ̃ 14\n",
    "ɑ̃ 15\n",
    "ɔ̃ 16\n",
    "œ̃ 17\n",
    "j 18\n",
    "w 19\n",
    "ɥ 20\n",
    "p 21\n",
    "t 22\n",
    "k 23\n",
    "b 24\n",
    "d 25\n",
    "ɡ 26\n",
    "f 27\n",
    "s 28\n",
    "ʃ 29\n",
    "v 30\n",
    "z 31\n",
    "ʒ 32\n",
    "l 33\n",
    "ʁ 34\n",
    "m 35\n",
    "n 36\n",
    "ɲ 37\n",
    "ŋ 38\n",
    "\"\"\"\n",
    "\n",
    "char_map = {}\n",
    "index_map = {}\n",
    "for line in char_map_str.strip().split('\\n'):\n",
    "    ch, index = line.split()\n",
    "    char_map[ch] = int(index)\n",
    "    index_map[int(index)+1] = ch\n",
    "index_map[2] = ' '"
   ]
  },
  {
   "cell_type": "code",
   "execution_count": 12,
   "metadata": {},
   "outputs": [],
   "source": [
    "def get_phonemes(pronunciation):\n",
    "    \n",
    "    phonemes = []\n",
    "    for i in range(len(pronunciation)):\n",
    "        if i < len(pronunciation) - 1:\n",
    "            if pronunciation[i]=='̃':\n",
    "                continue\n",
    "            if pronunciation[i+1]=='̃':\n",
    "                if pronunciation[i] == 'ɑ':\n",
    "                    phoneme = 'ɑ̃'\n",
    "                elif pronunciation[i] == 'ɔ':\n",
    "                    phoneme = 'ɔ̃'\n",
    "                elif pronunciation[i] == 'œ':\n",
    "                    phoneme = 'œ̃'\n",
    "                elif pronunciation[i] == 'ɛ':\n",
    "                    phoneme = 'ɛ̃'\n",
    "                else:\n",
    "                    print('can not happen c=%s' % c)\n",
    "            else:\n",
    "                phoneme = pronunciation[i]\n",
    "        else:\n",
    "            if pronunciation[i]=='̃':\n",
    "                continue\n",
    "            else: \n",
    "                phoneme = pronunciation[i]\n",
    "        phonemes.append(phoneme)\n",
    "    return phonemes\n",
    "\n",
    "def get_padded_phonemes(pronunciation, str_len_max):\n",
    "    \n",
    "    padded_phonemes = get_phonemes(pronunciation)    \n",
    "    # pad list of phonemes\n",
    "    for i in range(len(padded_phonemes), str_len_max):\n",
    "        padded_phonemes.append(\"'\")\n",
    "    return padded_phonemes\n",
    "\n",
    "def get_tk_padded_phonemes(pronunciation, str_len_max):\n",
    "    \n",
    "    padded_phonemes = get_padded_phonemes(pronunciation, str_len_max)\n",
    "    tk_padded_phonemes = []\n",
    "    # tokenize each phoneme\n",
    "    for phoneme in padded_phonemes:\n",
    "        tk_padded_phonemes.append(char_map[phoneme])\n",
    "    \n",
    "    nb = len(padded_phonemes)\n",
    "    np_array = np.array(tk_padded_phonemes).reshape(1, nb)\n",
    "    \n",
    "    return np_array\n",
    "    \n",
    "assert get_phonemes('tɛ̃bʁ') == ['t', 'ɛ̃', 'b', 'ʁ']\n",
    "assert get_phonemes('tɔ̃tɔ̃') == ['t', 'ɔ̃', 't', 'ɔ̃']\n",
    "assert get_padded_phonemes('tɛ̃bʁ', 6) == ['t', 'ɛ̃', 'b', 'ʁ', \"'\", \"'\"]\n",
    "assert np.array_equal(get_tk_padded_phonemes('tɛ̃bʁ', 6), np.array([[22, 14, 24, 34,  0,  0]]))\n",
    "\n",
    "def get_prononciation(padded_phonemes):\n",
    "    \n",
    "    prononciation = ''\n",
    "    for padded_phoneme in padded_phonemes:\n",
    "        if padded_phoneme == \"'\":\n",
    "            break\n",
    "        else:\n",
    "            prononciation += padded_phoneme\n",
    "\n",
    "    return prononciation\n",
    "assert get_prononciation(['t', 'ɛ̃', 'b', 'ʁ', \"'\", \"'\"]) == 'tɛ̃bʁ', 6"
   ]
  },
  {
   "cell_type": "code",
   "execution_count": 13,
   "metadata": {},
   "outputs": [],
   "source": [
    "def get_string_to_numpy(string, nb_max_chars):\n",
    "    \n",
    "    if nb_max_chars < len(string):\n",
    "        raise ValueError('must not happen: nb_max_chars:%d too smal for string:%s (%d letters)'\n",
    "             % (nb_max_chars, string, len(string)))\n",
    "        return ''\n",
    "    \n",
    "    np_string = np.zeros((nb_max_chars))\n",
    "    for i in range(len(string)):\n",
    "        np_string[i] = ord(string[i])\n",
    "        \n",
    "    return np_string\n",
    "\n",
    "def get_string_from_numpy(np_string):\n",
    "    \n",
    "    string=''\n",
    "    for i in range(np_string.shape[0]):\n",
    "        code = int(np_string[i])\n",
    "        if code == 0:\n",
    "            break\n",
    "        else:\n",
    "            string += chr(code)\n",
    "    return string\n",
    "\n",
    "\n",
    "assert get_string_from_numpy(get_string_to_numpy(\"tɛ̃bʁ\", 6)) == \"tɛ̃bʁ\""
   ]
  },
  {
   "cell_type": "code",
   "execution_count": 14,
   "metadata": {},
   "outputs": [],
   "source": [
    "def get_audio_files_names(audio_files_str, locuteurs=[], verbose=False):\n",
    "    if verbose:\n",
    "        print('audio_files=*%s*' % audio_files_str)\n",
    "    if audio_files_str == '[]':\n",
    "        if verbose:\n",
    "            print('empty list')\n",
    "        audio_file_names = []\n",
    "    else:\n",
    "        if audio_files_str.startswith('['):\n",
    "            files_string = audio_files_str[2:-2]\n",
    "        else:\n",
    "            files_string = audio_files_str\n",
    "        files_string += '\\', \\''\n",
    "        audio_file_names = files_string.split('\\', \\'')\n",
    "        audio_file_names = audio_file_names[:-1]\n",
    "        audio_file_names2 = []\n",
    "        for audio_file_name in audio_file_names:\n",
    "            if len(locuteurs) == 0:\n",
    "                audio_file_names2.append(audio_file_name)\n",
    "            else:\n",
    "                for locuteur in locuteurs:         \n",
    "                    if locuteur in audio_file_name:\n",
    "                        audio_file_names2.append(audio_file_name)\n",
    "        audio_file_names = audio_file_names2        \n",
    "        if verbose:\n",
    "            for f in audio_file_names:\n",
    "                print('file=%s' % f)\n",
    "    return audio_file_names\n",
    "\n",
    "assert get_audio_files_names(\"[]\") == []\n",
    "assert get_audio_files_names(\"['a.wav']\") == ['a.wav']\n",
    "assert get_audio_files_names(\"LL-Q150 (fra)-LoquaxFR-&amp;.wav\") == ['LL-Q150 (fra)-LoquaxFR-&amp;.wav']\n",
    "assert get_audio_files_names(\"['a.wav', 'b.wav', 'c.wav']\") == ['a.wav', 'b.wav', 'c.wav']\n",
    "assert get_audio_files_names(\"['-foo-a.wav', '-bar-b.wav', '-car-c.wav', '-foo-d.wav']\", ['foo']) == ['-foo-a.wav', '-foo-d.wav']\n",
    "assert get_audio_files_names(\"['-foo-a.wav', '-bar-b.wav', '-car-c.wav', '-foo-d.wav']\", ['bar']) == ['-bar-b.wav']\n",
    "assert get_audio_files_names(\"['-foo-a.wav', '-bar-b.wav', '-car-c.wav', '-foo-d.wav']\", ['bar', 'foo']) == ['-foo-a.wav', '-bar-b.wav', '-foo-d.wav']"
   ]
  },
  {
   "cell_type": "code",
   "execution_count": 15,
   "metadata": {
    "colab": {},
    "colab_type": "code",
    "id": "WPHJLbfPnD2m"
   },
   "outputs": [],
   "source": [
    "AUDIO_DIR = 'audio/'\n",
    "TIME_MAX = 2.0\n",
    "MFCC_DIR = 'mfcc_' + str(TIME_MAX) + '/'\n",
    "\n",
    "allowed_IPA_letters = [\n",
    "            'a', 'b', 'd', 'e', 'f', 'i', 'j', 'k', 'l', \n",
    "            'm', 'n', 'o','p', 's', 't', 'u', 'v', 'w', 'y', \n",
    "            'z', 'ø', 'ŋ', 'œ', 'ɑ', 'ɔ', 'ə', 'ɛ', 'ɡ', 'ɥ',\n",
    "            'ɲ', 'ʁ', 'ʃ', 'ʒ', '̃'   \n",
    "]\n",
    "\n",
    "''' Retrieve the dataset \n",
    "'''\n",
    "def get_data(df, n_max=sys.maxsize, n_max_phonemes=sys.maxsize, locuteurs=[],\n",
    "             verbose=False, order=True, check_phonemes=True):    \n",
    "    \n",
    "    df = pd.read_csv('fr_wiktionary_waves.csv', sep='\\t')\n",
    "    df = df[df.Audio != '-']\n",
    "    \n",
    "    df = df[df.Prononciation.str.len() <= n_max_phonemes]\n",
    "    print('df.shape:%d (with len(prononciation)<=%d)' % (df.shape[0], n_max_phonemes))\n",
    "    \n",
    "    # filter out samples from selected locuteurs, if any\n",
    "    df0 = pd.DataFrame(columns=df.columns)\n",
    "    for locuteur in locuteurs:\n",
    "        df0 = pd.concat([df0, df[df['Audio'].str.contains(locuteur)]])\n",
    "    df = df0\n",
    "    \n",
    "    # reindex the dataframe by the Pronunciation column lenght\n",
    "    if order:\n",
    "        s = df.Prononciation.str.len().sort_values(ascending=True).index\n",
    "        df = df.reindex(s)\n",
    "        df = df.sample(frac=1).reset_index(drop=True)\n",
    "    \n",
    "    # clean pronunciation\n",
    "    # rows having a pronnuciation with \"bad\" caracter will be dropped from the df\n",
    "    if check_phonemes:\n",
    "        indexes_to_drop = []\n",
    "        bad_letters = {}   \n",
    "        for index, row in df.iterrows():\n",
    "            prononciation = row['Prononciation']\n",
    "            prononciation = prononciation.replace('(','').replace(')','').replace('‿','').\\\n",
    "            replace('.','').replace(' ','').replace('͡','').replace('-','').replace('ˈ','').\\\n",
    "            replace('ː','').replace('r', 'ʁ')\n",
    "            #prononciation = merge_nasals(prononciation)\n",
    "            for phoneme in prononciation:            \n",
    "                if phoneme not in allowed_IPA_letters:\n",
    "                    if phoneme not in bad_letters.keys():\n",
    "                        bad_letters[phoneme] = 0\n",
    "                    bad_letters[phoneme] += 1\n",
    "                    if verbose:\n",
    "                        print('bad phoneme %s in [%s] /%s/' % (phoneme, row['Mot'], row['Prononciation']))\n",
    "                    indexes_to_drop.append(index)\n",
    "                    break\n",
    "            df.at[index, 'Prononciation'] = prononciation            \n",
    "        print('bad_letters=', bad_letters)\n",
    "        df = df.drop(indexes_to_drop)\n",
    "    \n",
    "    # read 1 mfcc file to learn the maximum shape of the samples in the directory\n",
    "    mfcc_shape_t = 0 #87\n",
    "    mfcc_shape_d = 0 #40\n",
    "    \n",
    "    for index, row in df[df.Audio != '-'].iterrows():\n",
    "       \n",
    "        mfcc_file = ''\n",
    "        wav_files = get_audio_files_names(row['Audio'])\n",
    "        if verbose:\n",
    "            print('Audio=*%s*' % row['Audio'])\n",
    "        for wav_file in wav_files:\n",
    "            if verbose:\n",
    "                print('wav_file=*%s*' % wav_file)\n",
    "            mfcc_file = wav_file.replace('.wav','.npy').replace(' ','_') \n",
    "            mfcc_filename = MFCC_DIR + mfcc_file\n",
    "            if os.path.exists(mfcc_filename):\n",
    "                mfcc = np.load(mfcc_filename)\n",
    "                mfcc_shape_t = max(mfcc_shape_t, mfcc.shape[1])\n",
    "                mfcc_shape_d = mfcc.shape[0]\n",
    "                break\n",
    "            else:\n",
    "                if verbose:\n",
    "                    print('mfcc_file=*%s* not found !!!' % mfcc_file)\n",
    "    if mfcc_shape_t == 0:\n",
    "        print('mfcc_shape_t not found !!!' % mfcc_file)\n",
    "        return 0\n",
    "    \n",
    "    # mfcc_shape_t=87 # if time==2.0\n",
    "    # mfcc_shape_d=40 #\n",
    "    print('mfcc_shape_t:%d', mfcc_shape_t)\n",
    "    print('mfcc_shape_d:%d', mfcc_shape_d)\n",
    "    \n",
    "    n_max = df.shape[0]\n",
    "    n_ok=0\n",
    "    n_ko=0\n",
    "    \n",
    "    # numpy shapes to be ready to be used as inputs and targets\n",
    "    mfccs = np.zeros((n_max, mfcc_shape_t, mfcc_shape_d))\n",
    "    phonemess = np.zeros((n_max, n_max_phonemes))\n",
    "    CHAR_MAX = 50\n",
    "    motss = np.zeros((n_max, CHAR_MAX))\n",
    "    prononciationss = np.zeros((n_max, CHAR_MAX))\n",
    "    #mots = []\n",
    "    #prononciations = []\n",
    "    \n",
    "    for index, row in df.sample(n_max).iterrows(): # sample() is used to shuffle data           \n",
    "    #for index, row in df.iterrows(): # sample() is used to shuffle data           \n",
    "        \n",
    "        mfcc_file = ''\n",
    "        wav_files = get_audio_files_names(row['Audio'], locuteurs=locuteurs)\n",
    "        # so far, take only first file (to be enhanced!!!)\n",
    "        mfcc_file = wav_files[0].replace('.wav','.npy').replace(' ','_')\n",
    "        \n",
    "        if mfcc_file == '':\n",
    "            continue\n",
    "        \n",
    "        mfcc_filename = MFCC_DIR + mfcc_file\n",
    "        if os.path.exists(mfcc_filename):\n",
    "            mfcc = np.load(mfcc_filename)\n",
    "            if verbose:            \n",
    "                print('mfcc.shape:', mfcc.shape)\n",
    "            \n",
    "            if mfcc[-1][-1] != 0.0:\n",
    "                try:\n",
    "                    if verbose:\n",
    "                        print('pb for %s' % row['Mot'])\n",
    "                except:\n",
    "                    print('#')\n",
    "                continue\n",
    "            \n",
    "            # add the mfcc in the mfccs table\n",
    "            mfccs[n_ok,:,:] = mfcc.transpose()[:,:]\n",
    "        \n",
    "            # fetch the prononciation\n",
    "            mot = row['Mot']\n",
    "            prononciation = row['Prononciation']\n",
    "            prononciation = prononciation.replace('(','').replace(')','').replace('‿','').\\\n",
    "            replace('.','').replace(' ','').replace('͡','').replace('-','').replace('ˈ','').\\\n",
    "            replace('ː','').replace('r', 'ʁ')\n",
    "            \n",
    "            phonemes = get_tk_padded_phonemes(prononciation, n_max_phonemes)\n",
    "            \n",
    "            # add the mfcc in the mfccs table\n",
    "            phonemess[n_ok,:] = phonemes\n",
    "            motss[n_ok:] = get_string_to_numpy(mot, CHAR_MAX)\n",
    "            #mots.append(mot)\n",
    "            #prononciations.append(prononciation)\n",
    "            prononciationss[n_ok:] = get_string_to_numpy(prononciation, CHAR_MAX)\n",
    "            n_ok += 1\n",
    "            if n_ok > n_max - 1:\n",
    "                break\n",
    "        else:\n",
    "            if verbose:\n",
    "                print('file ko:', mfcc_file)\n",
    "            n_ko += 1\n",
    "            \n",
    "    print('n_ok:',n_ok)\n",
    "    print('n_ko:',n_ko)\n",
    "    \n",
    "    # delete unused rows\n",
    "    mfccs = mfccs[:n_ok,:,:]\n",
    "    phonemess = phonemess[:n_ok]\n",
    "    prononciationss = prononciationss[:n_ok]\n",
    "    motss = motss[:n_ok]\n",
    "    \n",
    "    print('mfccs.shape:', mfccs.shape)\n",
    "    print('phonemess.shape:', phonemess.shape)\n",
    "    print('prononciationss.shape:', prononciationss.shape)\n",
    "    print('motss.shape:', motss.shape)\n",
    "    #print('len(prononciations):', len(prononciations))\n",
    "    #print('len(mots):', len(mots))\n",
    "        \n",
    "    return n_ok, mfccs, phonemess, prononciationss, motss"
   ]
  },
  {
   "cell_type": "code",
   "execution_count": 16,
   "metadata": {},
   "outputs": [
    {
     "name": "stdout",
     "output_type": "stream",
     "text": [
      "df.shape:58761 (with len(prononciation)<=20)\n",
      "bad_letters= {'h': 12, 'ʊ': 1, 'ʔ': 6, '·': 7, '…': 3, 'ɪ': 5, 'ε': 2, 'ˌ': 1, 'ʀ': 1, '/': 1, '̥': 3, '̩': 1, '̯': 2, ',': 2, 'ᵊ': 2, 'ʌ': 1, 'ɒ': 1, 'ʰ': 1, 'x': 1}\n",
      "mfcc_shape_t:%d 87\n",
      "mfcc_shape_d:%d 40\n",
      "n_ok: 34729\n",
      "n_ko: 54\n",
      "mfccs.shape: (34729, 87, 40)\n",
      "phonemess.shape: (34729, 20)\n",
      "prononciationss.shape: (34729, 50)\n",
      "motss.shape: (34729, 50)\n",
      "CPU times: user 54 s, sys: 1.21 s, total: 55.2 s\n",
      "Wall time: 55.2 s\n"
     ]
    }
   ],
   "source": [
    "TARGET_PHONEMES_MAX = 20\n",
    "locuteurs = ['WikiLucas'] # 19545 with TARGET_PHONEMES_MAX = 20\n",
    "locuteurs = ['Lepticed'] #6145\n",
    "locuteurs = ['WikiLucas', 'Lepticed'] # 25690\n",
    "locuteurs = ['Lyokoï'] # 9039\n",
    "locuteurs = ['WikiLucas', 'Lepticed','Lyokoï'] #\n",
    "\n",
    "%time n, mfccs, phonemes, prononciations, mots = get_data(df, n_max=-1, n_max_phonemes=TARGET_PHONEMES_MAX, locuteurs = locuteurs)"
   ]
  },
  {
   "cell_type": "code",
   "execution_count": 17,
   "metadata": {},
   "outputs": [
    {
     "name": "stdout",
     "output_type": "stream",
     "text": [
      "NB_TEST_SAMPLES:1000\n"
     ]
    }
   ],
   "source": [
    "NB_TEST_SAMPLES = 1000\n",
    "print('NB_TEST_SAMPLES:%d' % NB_TEST_SAMPLES)"
   ]
  },
  {
   "cell_type": "code",
   "execution_count": 18,
   "metadata": {},
   "outputs": [
    {
     "data": {
      "text/plain": [
       "(34729, 20)"
      ]
     },
     "execution_count": 18,
     "metadata": {},
     "output_type": "execute_result"
    }
   ],
   "source": [
    "phonemes.shape"
   ]
  },
  {
   "cell_type": "code",
   "execution_count": 19,
   "metadata": {},
   "outputs": [
    {
     "data": {
      "text/plain": [
       "(34729, 87, 40)"
      ]
     },
     "execution_count": 19,
     "metadata": {},
     "output_type": "execute_result"
    }
   ],
   "source": [
    "mfccs.shape"
   ]
  },
  {
   "cell_type": "code",
   "execution_count": 20,
   "metadata": {},
   "outputs": [
    {
     "data": {
      "text/plain": [
       "numpy.float64"
      ]
     },
     "execution_count": 20,
     "metadata": {},
     "output_type": "execute_result"
    }
   ],
   "source": [
    "type(mfccs[0,0,0])"
   ]
  },
  {
   "cell_type": "code",
   "execution_count": 21,
   "metadata": {},
   "outputs": [
    {
     "name": "stdout",
     "output_type": "stream",
     "text": [
      "n_train_ratio:%d 33\n"
     ]
    }
   ],
   "source": [
    "n_wished_test = NB_TEST_SAMPLES\n",
    "n_wished_train = n - n_wished_test\n",
    "n_train_ratio = int(n_wished_train/n_wished_test)\n",
    "print('n_train_ratio:%d',n_train_ratio)\n",
    "\n",
    "# following code is somehow complex \"just\" to have the option to \n",
    "# preserve increased-length order in both the training and\n",
    "# tests data.\n",
    "\n",
    "# delete 1 row every n_train_ratio rows\n",
    "mfccs_train = np.delete(mfccs, list(range(0, mfccs.shape[0], n_train_ratio)), axis=0)\n",
    "phonemes_train = np.delete(phonemes, list(range(0, phonemes.shape[0], n_train_ratio)), axis=0)\n",
    "prononciations_train = np.delete(prononciations, list(range(0, phonemes.shape[0], n_train_ratio)), axis=0)\n",
    "mots_train = np.delete(mots, list(range(0, mots.shape[0], n_train_ratio)), axis=0)\n",
    "X_train = mfccs_train\n",
    "Y_train = phonemes_train\n",
    "\n",
    "# keep 1 row every n_train_ratio\n",
    "mfccs_test = mfccs[0::n_train_ratio]\n",
    "phonemes_test = phonemes[0::n_train_ratio]\n",
    "prononciations_test= prononciations[0::n_train_ratio]\n",
    "mots_test = mots[0::n_train_ratio]\n",
    "X_test = mfccs_test\n",
    "Y_test = phonemes_test"
   ]
  },
  {
   "cell_type": "code",
   "execution_count": 24,
   "metadata": {},
   "outputs": [
    {
     "name": "stdout",
     "output_type": "stream",
     "text": [
      "NB_TRAINING_SAMPLES:33676\n",
      "NB_TEST_SAMPLES:1000\n"
     ]
    }
   ],
   "source": [
    "# get ride of few samples in order to respect the number of\n",
    "# wanted test samples (e.g. decimal \"round\" number like 100)\n",
    "# which will allow for direct estimation of percentages.\n",
    "if mfccs_test.shape[0] - NB_TEST_SAMPLES > 0:\n",
    "    mfccs_test = mfccs_train[0:NB_TEST_SAMPLES]\n",
    "    phonemes_test = phonemes_train[0:NB_TEST_SAMPLES]\n",
    "    mots_test = mots_test[0:NB_TEST_SAMPLES]\n",
    "    X_test = mfccs_test\n",
    "    Y_test = phonemes_test\n",
    "NB_TRAINING_SAMPLES = X_train.shape[0]\n",
    "print('NB_TRAINING_SAMPLES:%d' % NB_TRAINING_SAMPLES)\n",
    "print('NB_TEST_SAMPLES:%d' % NB_TEST_SAMPLES)"
   ]
  },
  {
   "cell_type": "code",
   "execution_count": 25,
   "metadata": {},
   "outputs": [],
   "source": [
    "x_train_mean = X_train.mean()\n",
    "x_train_std = X_train.std()\n",
    "X_train -= x_train_mean\n",
    "X_train /= x_train_std"
   ]
  },
  {
   "cell_type": "code",
   "execution_count": 26,
   "metadata": {},
   "outputs": [],
   "source": [
    "X_test -= x_train_mean\n",
    "X_test /= x_train_std"
   ]
  },
  {
   "cell_type": "code",
   "execution_count": 27,
   "metadata": {},
   "outputs": [],
   "source": [
    "# Actual loss calculation\n",
    "def ctc_lambda_func(args):\n",
    "    y_pred, labels, input_length, label_length = args\n",
    "    # From Keras example image_ocr.py:\n",
    "    # the 2 is critical here since the first couple outputs of the RNN\n",
    "    # tend to be garbage:\n",
    "    #_pred = y_pred[:, 2:, :]\n",
    "    y_pred = y_pred[:, :, :]\n",
    "    #input_length = input_length[:,4:,:]\n",
    "    #print(tf.shape(input_length))\n",
    "    #print(tf.shape(input_length[0]))\n",
    "    return K.ctc_batch_cost(labels, y_pred, input_length, label_length)\n",
    "\n",
    "\n",
    "# Update Input Lenght\n",
    "def uil_lambda_func(args):\n",
    "    \n",
    "    input_length, kernel_size, conv_stride, conv_border_mode, dilation = args\n",
    "    \n",
    "    input_length = tf.dtypes.cast(input_length, tf.int32)\n",
    "    kernel_size =  tf.dtypes.cast(kernel_size, tf.int32)\n",
    "    conv_stride =  tf.dtypes.cast(conv_stride, tf.int32)\n",
    "    \n",
    "    \n",
    "    res = (input_length - kernel_size + 1) // conv_stride\n",
    "  \n",
    "    res = tf.dtypes.cast(res, tf.int32) #+1 if stride bizarr\n",
    "    \n",
    "    return res\n"
   ]
  },
  {
   "cell_type": "code",
   "execution_count": 28,
   "metadata": {},
   "outputs": [
    {
     "data": {
      "text/plain": [
       "19"
      ]
     },
     "execution_count": 28,
     "metadata": {},
     "output_type": "execute_result"
    }
   ],
   "source": [
    "import math\n",
    "\n",
    "def adjust_dimension(input_length, filter_size, stride, border_mode, dilation):\n",
    "\n",
    "    new_dim = (input_length - filter_size + 1) / stride\n",
    "    return int(new_dim)\n",
    "\n",
    "#assert adjust_dimension(input_length=13, filter_size=6, stride=5, border_mode='valid', dilation=0) == 3\n",
    "\n",
    "TD = adjust_dimension(input_length=40, filter_size=3, stride=2, border_mode='valid', dilation=0)\n",
    "TD\n",
    "#TD = adjust_dimension(input_length=TD, filter_size=3, stride=2, border_mode='valid', dilation=0)\n",
    "TD\n",
    "#adjust_dimension(input_length=44, filter_size=5, stride=2, border_mode='valid', dilation=0)\n",
    "#TD = adjust_dimension(input_length=87, filter_size=3, stride=2, border_mode='same', dilation=0)\n",
    "#TD"
   ]
  },
  {
   "cell_type": "code",
   "execution_count": 29,
   "metadata": {},
   "outputs": [],
   "source": [
    "class AsrModel(object):\n",
    "\n",
    "    # CTC Layer implementation using Lambda layer\n",
    "    # (because Keras doesn't support extra params on loss function)\n",
    "    def CTC(self, name, args):\n",
    "        return Lambda(ctc_lambda_func, output_shape=(1,), name=name)(args)\n",
    " \n",
    "    def UIL(self, name, args):\n",
    "        return Lambda(uil_lambda_func, output_shape=(1,), name=name)(args)\n",
    " \n",
    "    def __init__(self, D, max_string_len, C, T, conv = '1D'):\n",
    "        print('D=%d, max_string_len=%d, C=%d' % (D, max_string_len, C))\n",
    "           \n",
    "        filters = 128\n",
    "        units = 512\n",
    "        kernel_size = 3\n",
    "        kernel_size_2d = (kernel_size,kernel_size)\n",
    "        conv_stride = 1 #3\n",
    "        conv_border_mode = 'same'# same or valid\n",
    "        dilation = 0\n",
    "        \n",
    "        if conv == '1D':\n",
    "            self.input_data = Input(name='the_input', shape=(None, D), dtype='float32') #D=40\n",
    "            \n",
    "            self.conv_1d_01 = Conv1D(filters, kernel_size, \n",
    "                                        strides=conv_stride, \n",
    "                                        padding=conv_border_mode,\n",
    "                                        activation='relu',\n",
    "                                        name='conv_1d_01')(self.input_data)\n",
    "\n",
    "            self.bn_01_layer = BatchNormalization(name='bn_01_layer')(self.conv_1d_01)\n",
    "\n",
    "            self.conv_1d_02 = Conv1D(filters*2, kernel_size, \n",
    "                                        strides=conv_stride, \n",
    "                                        padding=conv_border_mode,\n",
    "                                        activation='relu',\n",
    "                                        name='conv_1d_02')(self.bn_01_layer)\n",
    "\n",
    "            self.bn_02_layer = BatchNormalization(name='bn_02_layer')(self.conv_1d_02)\n",
    "\n",
    "        elif conv == '2D':\n",
    "            self.input_data = Input(name='the_input', shape=(T, D, 1), dtype='float32') #D=40\n",
    "        \n",
    "            self.conv_2d_00 = Conv2D(units, kernel_size_2d, \n",
    "                                        strides=conv_stride, \n",
    "                                        padding=conv_border_mode,\n",
    "                                        activation='relu',\n",
    "                                        name='conv_2d_00')(self.input_data)\n",
    "            \n",
    "            self.bn_00_layer = BatchNormalization(name='bn_00_layer')(self.conv_2d_00)\n",
    "            \n",
    "            self.conv_2d_01 = Conv2D(units*2, kernel_size_2d, \n",
    "                                        strides=conv_stride, \n",
    "                                        padding=conv_border_mode,\n",
    "                                        activation='relu',\n",
    "                                        name='conv_2d_01')(self.bn_00_layer)\n",
    "\n",
    "            self.bn_01_layer = BatchNormalization(name='bn_01_layer')(self.conv_2d_01)\n",
    "\n",
    "            self.conv_2d_02 = Conv2D(units*4, kernel_size_2d, \n",
    "                                        strides=conv_stride, \n",
    "                                        padding=conv_border_mode,\n",
    "                                        activation='relu',\n",
    "                                        name='conv_2d_02')(self.bn_01_layer)\n",
    "            \n",
    "            self.bn_03_layer = BatchNormalization(name='bn_03_layer')(self.conv_2d_02)\n",
    "\n",
    "            self.bnf_0_layer = Flatten()(self.bn_03_layer)        \n",
    "            self.bnrf_0_layer = Reshape((-1, 3*9))(self.bnf_0_layer)\n",
    "            self.bn_02_layer = TimeDistributed(Dense(3*9), name=\"bn_02_layer\")(self.bnrf_0_layer)\n",
    "            \n",
    "        else:\n",
    "            print('conv_type=%s not supported' % conv_type)\n",
    "            \n",
    "        rnn0 = keras.layers.LSTM(units, return_sequences=True, dropout=0.5, name=\"rnn\")\n",
    "        self.bidir_rnn1 = Bidirectional(rnn0, name='bidir_rnn_1_layer')(self.bn_02_layer)\n",
    "        \n",
    "        self.bn_1 = BatchNormalization(name='bn_1_layer')(self.bidir_rnn1)\n",
    "        \n",
    "        rnn = keras.layers.LSTM(units, return_sequences=True, dropout=0.5, name=\"rnn2\")\n",
    "        self.bidir_rnn2 = Bidirectional(rnn, name='bidir_rnn_2_layer')(self.bn_1)\n",
    "        \n",
    "        self.bn_2 = BatchNormalization(name='bn_2_layer')(self.bidir_rnn2)\n",
    "        \n",
    "        self.outputs = TimeDistributed(Dense(C), name=\"td\")(self.bn_2)\n",
    "        \n",
    "        self.y_pred = Activation('softmax', name='softmax')(self.outputs)\n",
    "\n",
    "        self.labels = Input(name='the_labels', shape=[max_string_len], dtype='float32')\n",
    "        self.input_length = Input(name='input_length', shape=[1], dtype='int64')\n",
    "        self.label_length = Input(name='label_length', shape=[1], dtype='int64')\n",
    "        \n",
    "        #self.input_length2 = Input(name='input_length2', shape=[1], dtype='int64')\n",
    "        #self.input_length3 = Input(name='input_length3', shape=[1], dtype='int64')\n",
    "        \n",
    "        \n",
    "        #self.input_length2 = self.UIL('uil', [self.input_length, kernel_size, conv_stride, conv_border_mode, dilation])\n",
    "        #self.input_length3 = self.UIL('uil', [self.input_length2, kernel_size, conv_stride, conv_border_mode, dilation])\n",
    "        \n",
    "        self.loss_out = self.CTC('ctc', [self.y_pred, self.labels, self.input_length, self.label_length])\n",
    "\n",
    "        self.model = Model(inputs=[self.input_data, self.labels, self.input_length, self.label_length], \n",
    "                           outputs=self.loss_out)\n",
    "\n",
    "            \n",
    "        #self.model.ouput_length = lambda x: cnn_output_length(x, kernel_size, conv_border_mode, conv_stride)\n",
    "        \n",
    "        self.model.summary()\n",
    "\n",
    "        #adam = Adam(lr=0.0001, beta_1=0.9, beta_2=0.999, epsilon=1e-08)\n",
    "        adam = Adam()\n",
    "        self.model.compile(loss={'ctc': lambda y_true, y_pred: y_pred}, optimizer=adam)\n",
    "\n",
    "    def fit(self, X_train, Y_train, input_length, label_length, loss, epochs, \n",
    "            batch_size, callbacks, validation_split, verbose):\n",
    "        print(\"input_length=\",input_length)\n",
    "        history = self.model.fit([X_train, Y_train, input_length, label_length], loss, \n",
    "                                 epochs=epochs, batch_size=batch_size, \n",
    "                                 callbacks=callbacks,\n",
    "                                 validation_split=validation_split, verbose=verbose, )\n",
    "        return history \n",
    "      \n",
    "    def predict(self, input_batch):\n",
    "        return self.test_function([input_batch, True])[0]  # the first 0 indicates test\n",
    "\n",
    "    @property\n",
    "    def test_function(self):\n",
    "        # captures output of softmax so we can decode the output during visualization\n",
    "        #return K.function([self.input_data, K.symbolic_learning_phase()], [self.y_pred, K.symbolic_learning_phase()])\n",
    "        return K.function([self.input_data, K.symbolic_learning_phase()], [self.y_pred, K.symbolic_learning_phase()])"
   ]
  },
  {
   "cell_type": "code",
   "execution_count": 30,
   "metadata": {},
   "outputs": [
    {
     "name": "stdout",
     "output_type": "stream",
     "text": [
      "X_train.shape (33676, 87, 40)\n",
      "Y_train.shape (33676, 20)\n",
      "N:%d (Number of samples) 33676\n",
      "T:%d (Time units) 87\n",
      "D:%d (Data units (frequency samples)) 40\n",
      "input_length[0:2]: [87. 87.]\n",
      "input_length.shape (33676,)\n",
      "label_length[0:2]: [20. 20.]\n",
      "loss.shape[0:2] (33676,)\n",
      "C=40 (Classes units (IPA char samples)\n"
     ]
    }
   ],
   "source": [
    "# outputs = {'ctc': np.zeros([size])}  # dummy data for dummy loss function\n",
    "#input_length = X_train.shape[1]\n",
    "#print('input_length', input_length)\n",
    "\n",
    "print('X_train.shape', X_train.shape)\n",
    "print('Y_train.shape', Y_train.shape)\n",
    "      \n",
    "N = NB_TRAINING_SAMPLES\n",
    "print('N:%d (Number of samples)', N)\n",
    "T = mfccs.shape[1]\n",
    "print('T:%d (Time units)', T)\n",
    "D = mfccs.shape[2]\n",
    "print('D:%d (Data units (frequency samples))', D)\n",
    "\n",
    "input_length = np.zeros([N])\n",
    "for i in range(N):\n",
    "    input_length[i] = 87\n",
    "print('input_length[0:2]:', input_length[0:2])\n",
    "print('input_length.shape', input_length.shape)\n",
    "\n",
    "label_length = np.zeros([N])\n",
    "for i in range(N):\n",
    "    label_length[i] = TARGET_PHONEMES_MAX\n",
    "print('label_length[0:2]:', label_length[0:2])\n",
    "\n",
    "#print('input_length.shape', input_length.shape)\n",
    "\n",
    "loss = np.zeros([N])\n",
    "\n",
    "print('loss.shape[0:2]', loss.shape[0:2])\n",
    "\n",
    "\n",
    "C = len(char_map.keys()) + 1\n",
    "print('C=%d (Classes units (IPA char samples)' % C)"
   ]
  },
  {
   "cell_type": "code",
   "execution_count": 31,
   "metadata": {},
   "outputs": [
    {
     "name": "stdout",
     "output_type": "stream",
     "text": [
      "D=40, max_string_len=20, C=40\n",
      "Model: \"model\"\n",
      "__________________________________________________________________________________________________\n",
      "Layer (type)                    Output Shape         Param #     Connected to                     \n",
      "==================================================================================================\n",
      "the_input (InputLayer)          [(None, None, 40)]   0                                            \n",
      "__________________________________________________________________________________________________\n",
      "conv_1d_01 (Conv1D)             (None, None, 128)    15488       the_input[0][0]                  \n",
      "__________________________________________________________________________________________________\n",
      "bn_01_layer (BatchNormalization (None, None, 128)    512         conv_1d_01[0][0]                 \n",
      "__________________________________________________________________________________________________\n",
      "conv_1d_02 (Conv1D)             (None, None, 256)    98560       bn_01_layer[0][0]                \n",
      "__________________________________________________________________________________________________\n",
      "bn_02_layer (BatchNormalization (None, None, 256)    1024        conv_1d_02[0][0]                 \n",
      "__________________________________________________________________________________________________\n",
      "bidir_rnn_1_layer (Bidirectiona (None, None, 1024)   3149824     bn_02_layer[0][0]                \n",
      "__________________________________________________________________________________________________\n",
      "bn_1_layer (BatchNormalization) (None, None, 1024)   4096        bidir_rnn_1_layer[0][0]          \n",
      "__________________________________________________________________________________________________\n",
      "bidir_rnn_2_layer (Bidirectiona (None, None, 1024)   6295552     bn_1_layer[0][0]                 \n",
      "__________________________________________________________________________________________________\n",
      "bn_2_layer (BatchNormalization) (None, None, 1024)   4096        bidir_rnn_2_layer[0][0]          \n",
      "__________________________________________________________________________________________________\n",
      "td (TimeDistributed)            (None, None, 40)     41000       bn_2_layer[0][0]                 \n",
      "__________________________________________________________________________________________________\n",
      "softmax (Activation)            (None, None, 40)     0           td[0][0]                         \n",
      "__________________________________________________________________________________________________\n",
      "the_labels (InputLayer)         [(None, 20)]         0                                            \n",
      "__________________________________________________________________________________________________\n",
      "input_length (InputLayer)       [(None, 1)]          0                                            \n",
      "__________________________________________________________________________________________________\n",
      "label_length (InputLayer)       [(None, 1)]          0                                            \n",
      "__________________________________________________________________________________________________\n",
      "ctc (Lambda)                    (None, 1)            0           softmax[0][0]                    \n",
      "                                                                 the_labels[0][0]                 \n",
      "                                                                 input_length[0][0]               \n",
      "                                                                 label_length[0][0]               \n",
      "==================================================================================================\n",
      "Total params: 9,610,152\n",
      "Trainable params: 9,605,288\n",
      "Non-trainable params: 4,864\n",
      "__________________________________________________________________________________________________\n"
     ]
    }
   ],
   "source": [
    "model = AsrModel(D, TARGET_PHONEMES_MAX, C, T)"
   ]
  },
  {
   "cell_type": "code",
   "execution_count": 32,
   "metadata": {},
   "outputs": [
    {
     "name": "stdout",
     "output_type": "stream",
     "text": [
      "X_train.shape (33676, 87, 40)\n"
     ]
    }
   ],
   "source": [
    "print('X_train.shape', X_train.shape)"
   ]
  },
  {
   "cell_type": "code",
   "execution_count": 33,
   "metadata": {},
   "outputs": [],
   "source": [
    "callbacks_list = [\n",
    "        EarlyStopping(\n",
    "            monitor='val_loss',\n",
    "            mode='min',\n",
    "            patience=10,\n",
    "            restore_best_weights=True,\n",
    "        ),\n",
    "    ]"
   ]
  },
  {
   "cell_type": "code",
   "execution_count": 34,
   "metadata": {},
   "outputs": [
    {
     "name": "stdout",
     "output_type": "stream",
     "text": [
      "input_length= [87. 87. 87. ... 87. 87. 87.]\n",
      "Epoch 1/200\n",
      "948/948 [==============================] - 58s 61ms/step - loss: 20.8568 - val_loss: 11.2357\n",
      "Epoch 2/200\n",
      "948/948 [==============================] - 58s 61ms/step - loss: 9.2314 - val_loss: 7.5170\n",
      "Epoch 3/200\n",
      "948/948 [==============================] - 57s 60ms/step - loss: 6.6034 - val_loss: 5.7577\n",
      "Epoch 4/200\n",
      "948/948 [==============================] - 56s 59ms/step - loss: 4.9613 - val_loss: 4.5509\n",
      "Epoch 5/200\n",
      "948/948 [==============================] - 57s 60ms/step - loss: 4.1630 - val_loss: 4.0528\n",
      "Epoch 6/200\n",
      "948/948 [==============================] - 58s 61ms/step - loss: 3.7708 - val_loss: 4.0172\n",
      "Epoch 7/200\n",
      "948/948 [==============================] - 58s 61ms/step - loss: 3.5262 - val_loss: 3.7502\n",
      "Epoch 8/200\n",
      "948/948 [==============================] - 58s 61ms/step - loss: 3.2711 - val_loss: 3.5273\n",
      "Epoch 9/200\n",
      "948/948 [==============================] - 58s 61ms/step - loss: 3.0642 - val_loss: 3.3410\n",
      "Epoch 10/200\n",
      "948/948 [==============================] - 58s 61ms/step - loss: 2.9511 - val_loss: 3.2950\n",
      "Epoch 11/200\n",
      "948/948 [==============================] - 58s 61ms/step - loss: 2.7684 - val_loss: 3.2395\n",
      "Epoch 12/200\n",
      "948/948 [==============================] - 58s 61ms/step - loss: 2.6169 - val_loss: 3.1588\n",
      "Epoch 13/200\n",
      "948/948 [==============================] - 58s 62ms/step - loss: 2.5588 - val_loss: 3.0372\n",
      "Epoch 14/200\n",
      "948/948 [==============================] - 58s 61ms/step - loss: 2.3942 - val_loss: 2.9339\n",
      "Epoch 15/200\n",
      "948/948 [==============================] - 58s 61ms/step - loss: 2.3188 - val_loss: 2.9334\n",
      "Epoch 16/200\n",
      "948/948 [==============================] - 58s 61ms/step - loss: 2.2123 - val_loss: 2.8882\n",
      "Epoch 17/200\n",
      "948/948 [==============================] - 58s 61ms/step - loss: 2.1711 - val_loss: 2.8754\n",
      "Epoch 18/200\n",
      "948/948 [==============================] - 58s 61ms/step - loss: 2.1456 - val_loss: 2.8427\n",
      "Epoch 19/200\n",
      "948/948 [==============================] - 59s 62ms/step - loss: 2.0641 - val_loss: 2.8606\n",
      "Epoch 20/200\n",
      "948/948 [==============================] - 62s 65ms/step - loss: 2.0693 - val_loss: 2.8772\n",
      "Epoch 21/200\n",
      "948/948 [==============================] - 57s 60ms/step - loss: 1.9339 - val_loss: 2.8421\n",
      "Epoch 22/200\n",
      "948/948 [==============================] - 59s 62ms/step - loss: 1.8700 - val_loss: 3.6553\n",
      "Epoch 23/200\n",
      "948/948 [==============================] - 59s 62ms/step - loss: 1.8907 - val_loss: 2.7691\n",
      "Epoch 24/200\n",
      "948/948 [==============================] - 59s 63ms/step - loss: 1.7968 - val_loss: 2.7797\n",
      "Epoch 25/200\n",
      "948/948 [==============================] - 60s 63ms/step - loss: 1.7771 - val_loss: 2.7670\n",
      "Epoch 26/200\n",
      "948/948 [==============================] - 56s 59ms/step - loss: 1.6972 - val_loss: 2.8691\n",
      "Epoch 27/200\n",
      "948/948 [==============================] - 56s 59ms/step - loss: 1.7019 - val_loss: 2.7592\n",
      "Epoch 28/200\n",
      "948/948 [==============================] - 57s 60ms/step - loss: 1.6180 - val_loss: 2.8597\n",
      "Epoch 29/200\n",
      "948/948 [==============================] - 58s 61ms/step - loss: 1.5595 - val_loss: 2.8833\n",
      "Epoch 30/200\n",
      "948/948 [==============================] - 60s 63ms/step - loss: 1.5667 - val_loss: 2.7771\n",
      "Epoch 31/200\n",
      "948/948 [==============================] - 57s 60ms/step - loss: 1.5224 - val_loss: 2.7912\n",
      "Epoch 32/200\n",
      "948/948 [==============================] - 55s 58ms/step - loss: 1.5450 - val_loss: 2.8961\n",
      "Epoch 33/200\n",
      "948/948 [==============================] - 55s 59ms/step - loss: 1.6132 - val_loss: 2.8317\n",
      "Epoch 34/200\n",
      "948/948 [==============================] - 55s 58ms/step - loss: 1.3980 - val_loss: 2.6973\n",
      "Epoch 35/200\n",
      "948/948 [==============================] - 55s 58ms/step - loss: 1.4403 - val_loss: 2.8151\n",
      "Epoch 36/200\n",
      "948/948 [==============================] - 55s 58ms/step - loss: 1.4052 - val_loss: 2.7609\n",
      "Epoch 37/200\n",
      "948/948 [==============================] - 55s 58ms/step - loss: 1.3622 - val_loss: 2.7118\n",
      "Epoch 38/200\n",
      "948/948 [==============================] - 55s 58ms/step - loss: 1.3088 - val_loss: 2.8085\n",
      "Epoch 39/200\n",
      "948/948 [==============================] - 55s 58ms/step - loss: 1.3490 - val_loss: 2.7865\n",
      "Epoch 40/200\n",
      "948/948 [==============================] - 55s 58ms/step - loss: 1.3697 - val_loss: 2.7936\n",
      "Epoch 41/200\n",
      "948/948 [==============================] - 55s 58ms/step - loss: 1.2827 - val_loss: 2.7808\n",
      "Epoch 42/200\n",
      "948/948 [==============================] - 55s 58ms/step - loss: 1.3048 - val_loss: 3.0095\n",
      "Epoch 43/200\n",
      "948/948 [==============================] - 55s 58ms/step - loss: 1.3082 - val_loss: 2.8201\n",
      "Epoch 44/200\n",
      "948/948 [==============================] - 55s 58ms/step - loss: 1.2485 - val_loss: 2.7800\n"
     ]
    }
   ],
   "source": [
    "history = model.fit(X_train, Y_train, input_length, label_length, loss, \n",
    "                    epochs=200, batch_size=32, callbacks=callbacks_list, \n",
    "                    validation_split=0.1, verbose=True)"
   ]
  },
  {
   "cell_type": "code",
   "execution_count": 35,
   "metadata": {},
   "outputs": [
    {
     "data": {
      "image/png": "[encoded data removed]",
      "text/plain": [
       "<Figure size 432x288 with 1 Axes>"
      ]
     },
     "metadata": {
      "needs_background": "light"
     },
     "output_type": "display_data"
    }
   ],
   "source": [
    "_ = plt.plot(pd.DataFrame(history.history))\n",
    "plt.grid(True)\n",
    "plt.show()"
   ]
  },
  {
   "cell_type": "code",
   "execution_count": 36,
   "metadata": {},
   "outputs": [
    {
     "data": {
      "text/plain": [
       "(1053, 87, 40)"
      ]
     },
     "execution_count": 36,
     "metadata": {},
     "output_type": "execute_result"
    }
   ],
   "source": [
    "X_test.shape"
   ]
  },
  {
   "cell_type": "code",
   "execution_count": 50,
   "metadata": {},
   "outputs": [],
   "source": [
    "# test NB_TEST_SAMPLES samples\n",
    "res = model.predict(X_test[0:NB_TEST_SAMPLES])"
   ]
  },
  {
   "cell_type": "code",
   "execution_count": 51,
   "metadata": {},
   "outputs": [
    {
     "data": {
      "text/plain": [
       "(1000, 87, 40)"
      ]
     },
     "execution_count": 51,
     "metadata": {},
     "output_type": "execute_result"
    }
   ],
   "source": [
    "res.shape"
   ]
  },
  {
   "cell_type": "code",
   "execution_count": 52,
   "metadata": {},
   "outputs": [],
   "source": [
    "s = K.ctc_decode(y_pred=res, input_length=input_length[0:res.shape[0]], greedy=True)\n",
    "#print(s)"
   ]
  },
  {
   "cell_type": "code",
   "execution_count": 53,
   "metadata": {
    "scrolled": false
   },
   "outputs": [
    {
     "data": {
      "text/markdown": [
       "[MOT] /PRONONCIATION WIKTIONNAIRE/ vs /PRONONCIATION PREDITE/<br>[incirconspection] /ɛ̃siʁkɔ̃spɛksjɔ̃/ vs /ɛ̃siʁkɔ̃spɛksjɔ̃/: <span style=\"color: #00ff00\">ok</span><br>[Ville-Mariste] /vilmaʁist/ vs /vilmaʁist/: <span style=\"color: #00ff00\">ok</span><br>[carnipain] /kaʁnipɛ̃/ vs /kaʁnipɛ̃/: <span style=\"color: #00ff00\">ok</span><br>[traînailler] /tʁɛnɑje/ vs /tʁɛnaje/: <span style=\"color: #ff0000\">ko</span><br>[bouillait] /bujɛ/ vs /bujɛ/: <span style=\"color: #00ff00\">ok</span><br>[cryoturbation] /kʁijɔtyʁbasjɔ̃/ vs /kʁiʁʒɔʁpasjɔ̃/: <span style=\"color: #ff0000\">ko</span><br>[cramponnement] /kʁɑ̃pɔnmɑ̃/ vs /kʁɑ̃vɔnmɑ̃/: <span style=\"color: #ff0000\">ko</span><br>[mormonisme] /mɔʁmɔnism/ vs /mɔʁmɔnism/: <span style=\"color: #00ff00\">ok</span><br>[dallasser] /dalase/ vs /dalase/: <span style=\"color: #00ff00\">ok</span><br>[probation] /pʁɔbasjɔ̃/ vs /pʁɔbasjɔ̃/: <span style=\"color: #00ff00\">ok</span><br>[vedettisme] /vədɛtizm/ vs /vədɛtism/: <span style=\"color: #ff0000\">ko</span><br>[précautionneusement] /pʁekɔsjɔnøzmɑ̃/ vs /pʁekɔsjɔnøzmɑ̃/: <span style=\"color: #00ff00\">ok</span><br>[choc thermique] /ʃɔktɛʁmik/ vs /fɔtɛʁmik/: <span style=\"color: #ff0000\">ko</span><br>[mazzinien] /mazinjɛ̃/ vs /madziɲɛ̃/: <span style=\"color: #ff0000\">ko</span><br>[avoir des couilles] /avwaʁdekuj/ vs /avwaʁdekuj/: <span style=\"color: #00ff00\">ok</span><br>[s’esquiver] /sɛskive/ vs /sɛskive/: <span style=\"color: #00ff00\">ok</span><br>[mendélisme] /mɛ̃delism/ vs /mɑ̃delism/: <span style=\"color: #ff0000\">ko</span><br>[dalle] /dal/ vs /dal/: <span style=\"color: #00ff00\">ok</span><br>[empanner] /ɑ̃pane/ vs /ɑ̃pane/: <span style=\"color: #00ff00\">ok</span><br>[NO] /nɔʁwɛst/ vs /nɔʁwɛst/: <span style=\"color: #00ff00\">ok</span><br>[marboulette] /maʁbulɛt/ vs /maʁbulɛt/: <span style=\"color: #00ff00\">ok</span><br>[histogramme] /istoɡʁam/ vs /istɔɡʁam/: <span style=\"color: #ff0000\">ko</span><br>[saumâtriseriez] /somɑtʁizəʁje/ vs /somɑtʁizəʁje/: <span style=\"color: #00ff00\">ok</span><br>[trâlée] /tʁɑle/ vs /tʁale/: <span style=\"color: #ff0000\">ko</span><br>[bavoter] /bavɔte/ vs /bavɔte/: <span style=\"color: #00ff00\">ok</span><br>[sirop de cordum] /siʁodəkoʁdɔm/ vs /siʁɔdəkɔʁdɔm/: <span style=\"color: #ff0000\">ko</span><br>[ne pas fermer l’œil] /nəpafɛʁmelœj/ vs /nəpaʁɛmelœj/: <span style=\"color: #ff0000\">ko</span><br>[présentiste] /pʁezɑ̃tist/ vs /pʁezɑ̃tist/: <span style=\"color: #00ff00\">ok</span><br>[chaououal] /ʃauwal/ vs /ʃawal/: <span style=\"color: #ff0000\">ko</span><br>[olim] /olim/ vs /œlim/: <span style=\"color: #ff0000\">ko</span><br>[voyez-vous ça] /vwajevusa/ vs /vwajevusa/: <span style=\"color: #00ff00\">ok</span><br>[perdre son sang froid] /pɛʁdʁəsɔ̃sɑ̃fʁwa/ vs /pɛʁdʁsɔ̃sɑ̃fʁwa/: <span style=\"color: #ff0000\">ko</span><br>[prosaïser] /pʁɔzaize/ vs /pʁozajize/: <span style=\"color: #ff0000\">ko</span><br>[abolissable] /abɔlisabl/ vs /abɔlisabl/: <span style=\"color: #00ff00\">ok</span><br>[bavasser] /bavase/ vs /bavase/: <span style=\"color: #00ff00\">ok</span><br>[prendre pour une bille] /pʁɑ̃dʁpuʁynbij/ vs /pʁɑ̃dʁəpuʁynbij/: <span style=\"color: #ff0000\">ko</span><br>[écrouler] /ekʁule/ vs /ekʁule/: <span style=\"color: #00ff00\">ok</span><br>[abattit] /abati/ vs /abati/: <span style=\"color: #00ff00\">ok</span><br>[perpétration] /pɛʁpetʁasjɔ̃/ vs /pɛʁtetʁasjɔ̃/: <span style=\"color: #ff0000\">ko</span><br>[avoir tout faux] /avwaʁtufo/ vs /avwaʁtufo/: <span style=\"color: #00ff00\">ok</span><br>[emmotter] /ɑ̃mɔte/ vs /ɑ̃mɔte/: <span style=\"color: #00ff00\">ok</span><br>[blackliste] /blaklist/ vs /blaklist/: <span style=\"color: #00ff00\">ok</span><br>[islamiste] /islamist/ vs /islamist/: <span style=\"color: #00ff00\">ok</span><br>[belgo-allemand] /bɛlɡoalmɑ̃/ vs /bɛlɡɔɛləmɑ̃/: <span style=\"color: #ff0000\">ko</span><br>[rebattre les oreilles] /ʁəbatʁlezɔʁɛj/ vs /ʁəbaʁlezɔʁɛj/: <span style=\"color: #ff0000\">ko</span><br>[abat-carrâmes] /abakaʁam/ vs /abakaʁam/: <span style=\"color: #00ff00\">ok</span><br>[aller à la malle] /alealamal/ vs /alealamal/: <span style=\"color: #00ff00\">ok</span><br>[pare-brise] /paʁbʁiz/ vs /paʁbʁiz/: <span style=\"color: #00ff00\">ok</span><br>[processus léger] /pʁɔsesysleʒe/ vs /pʁɔsesysleʒe/: <span style=\"color: #00ff00\">ok</span><br>[co-tourner] /kotuʁne/ vs /kotuʁne/: <span style=\"color: #00ff00\">ok</span><br>[rerembrayer] /ʁəʁɑ̃bʁeje/ vs /ʁəʁɑ̃ɡʁɛje/: <span style=\"color: #ff0000\">ko</span><br>[caisse claire] /kɛsklɛʁ/ vs /kɛsklɛʁ/: <span style=\"color: #00ff00\">ok</span><br>[encapsulation] /ɑ̃kapsylasjɔ̃/ vs /ɑ̃kapsylasjɔ̃/: <span style=\"color: #00ff00\">ok</span><br>[bucheronner] /byʃʁɔne/ vs /byʃʁɔne/: <span style=\"color: #00ff00\">ok</span><br>[redoubler] /ʁəduble/ vs /ʁəduble/: <span style=\"color: #00ff00\">ok</span><br>[référentiel] /ʁefeʁɑ̃sjɛl/ vs /ʁefeʁɑ̃sjɛl/: <span style=\"color: #00ff00\">ok</span><br>[croître en sagesse] /kʁwatʁɑ̃saʒɛs/ vs /kʁwatʁɑ̃saʒɛs/: <span style=\"color: #00ff00\">ok</span><br>[émouvoir] /emuvwaʁ/ vs /emuvwaʁ/: <span style=\"color: #00ff00\">ok</span><br>[donner à cens] /dɔneasɑ̃s/ vs /dɔneasɑ̃s/: <span style=\"color: #00ff00\">ok</span><br>[lapinisme] /lapinism/ vs /lapinism/: <span style=\"color: #00ff00\">ok</span><br>[ménager le terrain] /menaʒelətɛʁɛ̃/ vs /menaʒelatɛʁɛ̃/: <span style=\"color: #ff0000\">ko</span><br>[hypertaxation] /ipɛʁtaksasjɔ̃/ vs /ipɛʁtɛksasjɔ̃/: <span style=\"color: #ff0000\">ko</span><br>[GDM] /ʒedeɛm/ vs /ʒedeɛm/: <span style=\"color: #00ff00\">ok</span><br>[calcination] /kalsinasjɔ̃/ vs /kalisinasjɔ̃/: <span style=\"color: #ff0000\">ko</span><br>[arc adjacent] /aʁkadʒasɑ̃/ vs /aʁkadʒasɑ̃/: <span style=\"color: #00ff00\">ok</span><br>[longuement] /lɔ̃ɡmɑ̃/ vs /lɔ̃dmɑ̃/: <span style=\"color: #ff0000\">ko</span><br>[carte mère] /kaʁtəmɛʁ/ vs /kaʁtmɛʁ/: <span style=\"color: #ff0000\">ko</span><br>[branduit] /bʁɑ̃dyi/ vs /bʁɑ̃dɥi/: <span style=\"color: #ff0000\">ko</span><br>[bankable] /bɑ̃kabl/ vs /bɑ̃kebl/: <span style=\"color: #ff0000\">ko</span><br>[suavement] /sɥavmɑ̃/ vs /sɥavmɑ̃/: <span style=\"color: #00ff00\">ok</span><br>[ré-établir] /ʁeetabliʁ/ vs /ʁeetabliʁ/: <span style=\"color: #00ff00\">ok</span><br>[purgeuse] /pyʁʒøz/ vs /pyʁʒø/: <span style=\"color: #ff0000\">ko</span><br>[s’emboucaner] /sɑ̃bukane/ vs /sɑ̃bukane/: <span style=\"color: #00ff00\">ok</span><br>[flatteusement] /flatœzəmɑ̃/ vs /latøzmɑ̃/: <span style=\"color: #ff0000\">ko</span><br>[perroqueter] /pɛʁɔkəte/ vs /pɛʁɔkəte/: <span style=\"color: #00ff00\">ok</span><br>[samos] /samos/ vs /samos/: <span style=\"color: #00ff00\">ok</span><br>[prototrophie] /pʁototʁɔfi/ vs /pʁɔpɔtʁɔfi/: <span style=\"color: #ff0000\">ko</span><br>[faire les boutiques] /fɛʁlebutik/ vs /fɛʁlɛbutik/: <span style=\"color: #ff0000\">ko</span><br>[hongrer] /ɔ̃ɡʁe/ vs /ɔ̃ɡʁe/: <span style=\"color: #00ff00\">ok</span><br>[polylogisme] /pɔlilɔʒism/ vs /pɔlilɔʒism/: <span style=\"color: #00ff00\">ok</span><br>[diallèle] /djalɛl/ vs /djalɛl/: <span style=\"color: #00ff00\">ok</span><br>[agis] /aʒi/ vs /aʒi/: <span style=\"color: #00ff00\">ok</span><br>[autoavorter] /otoavɔʁte/ vs /otoavɔʁte/: <span style=\"color: #00ff00\">ok</span><br>[networker] /nɛtwɔʁke/ vs /nɛtwaʁke/: <span style=\"color: #ff0000\">ko</span><br>[rebisquer] /ʁəbiske/ vs /ʁəbiske/: <span style=\"color: #00ff00\">ok</span><br>[difforme] /difɔʁm/ vs /difɔʁm/: <span style=\"color: #00ff00\">ok</span><br>[trousseau] /tʁuso/ vs /tʁbuso/: <span style=\"color: #ff0000\">ko</span><br>[mécatronique] /mekatʁɔnik/ vs /mekatʁɔnik/: <span style=\"color: #00ff00\">ok</span><br>[arraisonner] /aʁɛzɔne/ vs /aʁɛzɔne/: <span style=\"color: #00ff00\">ok</span><br>[anglophile] /ɑ̃ɡlɔfil/ vs /ɑ̃ɡlɔfil/: <span style=\"color: #00ff00\">ok</span><br>[aboutissant] /abutisɑ̃/ vs /abutisɑ̃/: <span style=\"color: #00ff00\">ok</span><br>[faire bisquer] /fɛʁbiske/ vs /fɛʁbiske/: <span style=\"color: #00ff00\">ok</span><br>[décafarad] /dekafaʁad/ vs /dekafaʁad/: <span style=\"color: #00ff00\">ok</span><br>[jusqu’auboutiste] /ʒyskobutist/ vs /ʒyskobutist/: <span style=\"color: #00ff00\">ok</span><br>[créationniste] /kʁeasjɔnist/ vs /kʁeasjɔnist/: <span style=\"color: #00ff00\">ok</span><br>[expiation] /ɛkspjasjɔ̃/ vs /ɛkspliasjɔ̃/: <span style=\"color: #ff0000\">ko</span><br>[place du mort] /plasdymɔʁ/ vs /plasdymɔʁ/: <span style=\"color: #00ff00\">ok</span><br>[lambdatiser] /lɑ̃bdatize/ vs /lɑ̃ddatize/: <span style=\"color: #ff0000\">ko</span><br>[thalidomide] /talidɔmid/ vs /kalidɔmid/: <span style=\"color: #ff0000\">ko</span><br>[frinault] /fʁino/ vs /fʁino/: <span style=\"color: #00ff00\">ok</span><br>"
      ],
      "text/plain": [
       "<IPython.core.display.Markdown object>"
      ]
     },
     "metadata": {},
     "output_type": "display_data"
    },
    {
     "name": "stdout",
     "output_type": "stream",
     "text": [
      "n_tested:100, n_ok:64, n_ko:36\n"
     ]
    }
   ],
   "source": [
    "from IPython.display import Markdown\n",
    "from IPython.core.interactiveshell import InteractiveShell\n",
    "InteractiveShell.ast_node_interactivity = \"all\"\n",
    "\n",
    "n_tested = 0\n",
    "n_ok = 0\n",
    "n_ko = 0\n",
    "results = np.asarray(s[0][0])\n",
    "debug_str = '[MOT] /PRONONCIATION WIKTIONNAIRE/ vs /PRONONCIATION PREDITE/<br>'\n",
    "\n",
    "targets = []\n",
    "predictions = []\n",
    "\n",
    "for i in range(NB_TEST_SAMPLES):\n",
    "    if i%10 != 0:\n",
    "        continue\n",
    "    phonemes = ''\n",
    "    mot = get_string_from_numpy(mots_test[i])\n",
    "    prononciation = get_string_from_numpy(prononciations_test[i])\n",
    "    #prononciation = phonemes_test[i]\n",
    "    \n",
    "    debug_str += '[' + mot + '] /' + prononciation + '/ vs '\n",
    "    for letter in range(results.shape[1]):\n",
    "        val = results[i, letter]\n",
    "        if val == -1:\n",
    "            continue\n",
    "        phoneme = index_map[val+1]\n",
    "        #print('r=',results[n,letter],end=',')\n",
    "        phonemes += phoneme\n",
    "    phonemes = phonemes.replace(\"\\'\",'')\n",
    "    targets.append(prononciation)\n",
    "    predictions.append(phonemes)\n",
    "    debug_str += '/' + phonemes + '/'\n",
    "    n_tested += 1\n",
    "    if phonemes == prononciation:\n",
    "        debug_str += ': <span style=\"color: #00ff00\">ok</span><br>'\n",
    "        n_ok += 1\n",
    "    else:\n",
    "        debug_str += ': <span style=\"color: #ff0000\">ko</span><br>'  \n",
    "        n_ko += 1\n",
    "display (Markdown(debug_str))\n",
    "        \n",
    "print('n_tested:%d, n_ok:%d, n_ko:%d' % (n_tested, n_ok, n_ko))"
   ]
  },
  {
   "cell_type": "code",
   "execution_count": 41,
   "metadata": {},
   "outputs": [
    {
     "data": {
      "text/plain": [
       "<Figure size 1008x720 with 0 Axes>"
      ]
     },
     "execution_count": 41,
     "metadata": {},
     "output_type": "execute_result"
    },
    {
     "data": {
      "text/plain": [
       "<matplotlib.axes._subplots.AxesSubplot at 0x7f3daa2eefd0>"
      ]
     },
     "execution_count": 41,
     "metadata": {},
     "output_type": "execute_result"
    },
    {
     "data": {
      "image/png": "[encoded data removed]",
      "text/plain": [
       "<Figure size 1008x720 with 2 Axes>"
      ]
     },
     "metadata": {
      "needs_background": "light"
     },
     "output_type": "display_data"
    }
   ],
   "source": [
    "# create a copy of char_map without \\' and <SPACE>\n",
    "char_map2 = char_map.copy()\n",
    "del char_map2[\"'\"]\n",
    "del char_map2[\"<SPACE>\"]\n",
    "\n",
    "# fill a confusion matrix \n",
    "confusion_array = np.zeros((len(char_map),len(char_map)))\n",
    "for i in range(len(targets)):\n",
    "    target_phonemes = get_phonemes(targets[i])\n",
    "    prediction_phonemes = get_phonemes(predictions[i])\n",
    "    for j in range(len(target_phonemes)):\n",
    "        letter_targeted = target_phonemes[j]\n",
    "        if j < len(prediction_phonemes):\n",
    "            letter_predicted = prediction_phonemes[j]\n",
    "            letter_targeted_index = char_map[letter_targeted]\n",
    "            letter_predicted_index = char_map[letter_predicted]\n",
    "            try:\n",
    "                confusion_array[letter_targeted_index, letter_predicted_index] += 1\n",
    "            except:\n",
    "                print('error target letter:%s (%s), prediction:%s, predicted letter (in %s)' %\\\n",
    "                (letter_targeted, targets[i], letter_predicted, predictions[i]))\n",
    "\n",
    "for t in range(confusion_array.shape[0]):\n",
    "    sum = 0\n",
    "    for p in range(confusion_array.shape[1]):\n",
    "        sum += confusion_array[t, p]\n",
    "    for p in range(confusion_array.shape[1]):\n",
    "        if sum > 0:\n",
    "            confusion_array[t, p] = int(confusion_array[t, p]/sum*100)\n",
    "            \n",
    "# display the confusion matrix\n",
    "# create a copy of char map without first two chars (' and SPACE)\n",
    "char_map2 = char_map.copy()\n",
    "del char_map2[\"'\"]\n",
    "del char_map2[\"<SPACE>\"]\n",
    "# display the confusion matrix without first 2 rows and first 2 colums\n",
    "df_cm = pd.DataFrame(confusion_array[2:,2:], index = [i for i in char_map2],\n",
    "                  columns = [i for i in char_map2])\n",
    "plt.figure(figsize = (14,10))\n",
    "sns.heatmap(df_cm, annot=True, annot_kws={\"size\": 8}, fmt='g')\n",
    "plt.show()"
   ]
  }
 ],
 "metadata": {
  "accelerator": "GPU",
  "colab": {
   "collapsed_sections": [],
   "name": "write_read_ANNs_v5.ipynb",
   "provenance": []
  },
  "kernelspec": {
   "display_name": "Python 3",
   "language": "python",
   "name": "python3"
  },
  "language_info": {
   "codemirror_mode": {
    "name": "ipython",
    "version": 3
   },
   "file_extension": ".py",
   "mimetype": "text/x-python",
   "name": "python",
   "nbconvert_exporter": "python",
   "pygments_lexer": "ipython3",
   "version": "3.6.9"
  }
 },
 "nbformat": 4,
 "nbformat_minor": 1
}
