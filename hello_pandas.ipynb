{
 "cells": [
  {
   "cell_type": "code",
   "execution_count": 1,
   "metadata": {},
   "outputs": [],
   "source": [
    "# import de la librairie pandas\n",
    "import pandas as pd"
   ]
  },
  {
   "cell_type": "code",
   "execution_count": 2,
   "metadata": {},
   "outputs": [],
   "source": [
    "# ouverture du fichier csv\n",
    "data = pd.read_csv('donnees.csv')"
   ]
  },
  {
   "cell_type": "code",
   "execution_count": 3,
   "metadata": {},
   "outputs": [
    {
     "name": "stdout",
     "output_type": "stream",
     "text": [
      "   Champ1  Champ2\n",
      "0     0.0     0.1\n",
      "1     0.1     0.3\n"
     ]
    }
   ],
   "source": [
    "# affichage de la table des données lue\n",
    "print(data)"
   ]
  },
  {
   "cell_type": "code",
   "execution_count": 4,
   "metadata": {},
   "outputs": [],
   "source": [
    "# opérations sur le fichier (ex: ajout d'une colonne 'Total' et d'une colonne 'Command')\n",
    "data['Total'] = data['Champ1'] + data['Champ2']\n",
    "data['Command'] = data.apply(lambda x:  'METTRE LE CAP A '+str(x.Total), axis=1)"
   ]
  },
  {
   "cell_type": "code",
   "execution_count": 5,
   "metadata": {},
   "outputs": [
    {
     "name": "stdout",
     "output_type": "stream",
     "text": [
      "   Champ1  Champ2  Total              Command\n",
      "0     0.0     0.1    0.1  METTRE LE CAP A 0.1\n",
      "1     0.1     0.3    0.4  METTRE LE CAP A 0.4\n"
     ]
    }
   ],
   "source": [
    "# affichage de la nouvelle table résultante\n",
    "print(data)"
   ]
  },
  {
   "cell_type": "code",
   "execution_count": 6,
   "metadata": {},
   "outputs": [],
   "source": [
    "# extraction de la colonne 'Command' seule et ecriture dans un fichier output\n",
    "data['Command'].to_string('output.txt')"
   ]
  },
  {
   "cell_type": "code",
   "execution_count": null,
   "metadata": {},
   "outputs": [],
   "source": []
  },
  {
   "cell_type": "code",
   "execution_count": 7,
   "metadata": {
    "scrolled": true
   },
   "outputs": [
    {
     "name": "stdout",
     "output_type": "stream",
     "text": [
      "0    METTRE LE CAP A 0.1\r\n",
      "1    METTRE LE CAP A 0.4"
     ]
    }
   ],
   "source": [
    "# ouverture du fichier csv\n",
    "!cat output.txt"
   ]
  }
 ],
 "metadata": {
  "kernelspec": {
   "display_name": "Python 3",
   "language": "python",
   "name": "python3"
  },
  "language_info": {
   "codemirror_mode": {
    "name": "ipython",
    "version": 3
   },
   "file_extension": ".py",
   "mimetype": "text/x-python",
   "name": "python",
   "nbconvert_exporter": "python",
   "pygments_lexer": "ipython3",
   "version": "3.5.2"
  }
 },
 "nbformat": 4,
 "nbformat_minor": 2
}
