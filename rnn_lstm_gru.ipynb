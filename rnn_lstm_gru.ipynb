{
 "cells": [
  {
   "cell_type": "code",
   "execution_count": 1,
   "metadata": {},
   "outputs": [],
   "source": [
    "import tensorflow as tf\n",
    "from tensorflow.keras.models import Model\n",
    "from tensorflow.keras.layers import Input, LSTM, GRU\n",
    "import numpy as np"
   ]
  },
  {
   "cell_type": "code",
   "execution_count": 2,
   "metadata": {},
   "outputs": [
    {
     "name": "stdout",
     "output_type": "stream",
     "text": [
      "2.0.0\n"
     ]
    }
   ],
   "source": [
    "print(tf.__version__)"
   ]
  },
  {
   "cell_type": "code",
   "execution_count": 3,
   "metadata": {},
   "outputs": [],
   "source": [
    "T = 8 # sequence length\n",
    "D = 2 # input dimensionality\n",
    "M = 3 # hidden layer size"
   ]
  },
  {
   "cell_type": "code",
   "execution_count": 4,
   "metadata": {},
   "outputs": [],
   "source": [
    "# random single sentence of (T=8) words (of) vectors (of Dimensionality 2)\n",
    "X = np.random.randn(1, T, D)"
   ]
  },
  {
   "cell_type": "code",
   "execution_count": 5,
   "metadata": {},
   "outputs": [],
   "source": [
    "def lstm(return_sequences):\n",
    "    input_ = Input(shape=(T, D))\n",
    "    rnn = LSTM(M, return_state=True, return_sequences=return_sequences)\n",
    "    x = rnn(input_)\n",
    "    \n",
    "    model = Model(inputs=input_, outputs=x)\n",
    "    o, h, c = model.predict(X)\n",
    "    print(\"o:\", o) # output state\n",
    "    print(\"h:\", h) # hidden state\n",
    "    print(\"c:\", c) # cell state"
   ]
  },
  {
   "cell_type": "code",
   "execution_count": 6,
   "metadata": {},
   "outputs": [],
   "source": [
    "def gru(return_sequences=False):\n",
    "    input_ = Input(shape=(T, D))\n",
    "    rnn = GRU(M, return_state=True, return_sequences=return_sequences)\n",
    "    x = rnn(input_)\n",
    "    \n",
    "    model = Model(inputs=input_, outputs=x)\n",
    "    o, h = model.predict(X)\n",
    "    print(\"o:\", o)\n",
    "    print(\"h:\", h)"
   ]
  },
  {
   "cell_type": "code",
   "execution_count": 7,
   "metadata": {},
   "outputs": [
    {
     "data": {
      "text/plain": [
       "array([[[-1.58101302, -0.50853706],\n",
       "        [ 0.48220456, -0.61128178],\n",
       "        [-1.00432767, -1.36041766],\n",
       "        [-0.48961686, -0.93750145],\n",
       "        [ 1.11000796, -1.00821446],\n",
       "        [ 0.62150429, -0.51635786],\n",
       "        [-0.5338402 , -0.13564563],\n",
       "        [-1.51934683,  0.7882209 ]]])"
      ]
     },
     "execution_count": 7,
     "metadata": {},
     "output_type": "execute_result"
    }
   ],
   "source": [
    "X"
   ]
  },
  {
   "cell_type": "code",
   "execution_count": 8,
   "metadata": {},
   "outputs": [
    {
     "name": "stdout",
     "output_type": "stream",
     "text": [
      "o: [[ 0.05730367 -0.04569765 -0.2714537 ]]\n",
      "h: [[ 0.05730367 -0.04569765 -0.2714537 ]]\n",
      "c: [[ 0.18275177 -0.13815974 -0.5394716 ]]\n"
     ]
    }
   ],
   "source": [
    "lstm(return_sequences=False)\n",
    "# should see that 'h'idden is actually the 'o'utput"
   ]
  },
  {
   "cell_type": "code",
   "execution_count": 9,
   "metadata": {},
   "outputs": [
    {
     "name": "stdout",
     "output_type": "stream",
     "text": [
      "o: [[[-0.09656115  0.19171457  0.07158016]\n",
      "  [ 0.02977696  0.04933275  0.10633902]\n",
      "  [-0.02770934  0.11342802  0.10969745]\n",
      "  [-0.03649454  0.0972841   0.19043373]\n",
      "  [ 0.16736402 -0.11725976  0.23386152]\n",
      "  [ 0.19705722 -0.19162004  0.19689865]\n",
      "  [ 0.06550689 -0.09403286  0.19696847]\n",
      "  [-0.08422926  0.13640538  0.1767208 ]]]\n",
      "h: [[-0.08422926  0.13640538  0.1767208 ]]\n",
      "c: [[-0.17140211  0.32462227  0.5022582 ]]\n"
     ]
    }
   ],
   "source": [
    "lstm(return_sequences=True)\n",
    "# same as before, except that sequence lenght is of asize T (8)\n",
    "# see that 'h' is the same as last element of 'o' \n",
    "# thus, 'h' and 'c' represent the last state of LSTM (ie last timestep)"
   ]
  },
  {
   "cell_type": "code",
   "execution_count": 10,
   "metadata": {},
   "outputs": [
    {
     "name": "stdout",
     "output_type": "stream",
     "text": [
      "o: [[[ 0.1490269   0.06900228  0.56701374]\n",
      "  [-0.03951652  0.2667033   0.43546468]\n",
      "  [-0.103096    0.47720635  0.64681345]\n",
      "  [-0.0856227   0.5200608   0.7124688 ]\n",
      "  [-0.23634195  0.641216    0.5925705 ]\n",
      "  [-0.20280662  0.5694688   0.46542   ]\n",
      "  [ 0.01270336  0.38558966  0.531096  ]\n",
      "  [ 0.34961498  0.13376813  0.54545957]]]\n",
      "h: [[0.34961498 0.13376813 0.54545957]]\n"
     ]
    }
   ],
   "source": [
    "gru(return_sequences=True)"
   ]
  },
  {
   "cell_type": "code",
   "execution_count": 11,
   "metadata": {},
   "outputs": [
    {
     "name": "stdout",
     "output_type": "stream",
     "text": [
      "o: [[[ 0.23264034  0.19821157  0.0483178 ]\n",
      "  [-0.11523146  0.27577135 -0.04154351]\n",
      "  [-0.28109428  0.49534118 -0.03242477]\n",
      "  [-0.3425638   0.43852633 -0.00331145]\n",
      "  [-0.552319    0.39653492 -0.17713967]\n",
      "  [-0.528515    0.2527525  -0.13412812]\n",
      "  [-0.20332986  0.12062275 -0.01676751]\n",
      "  [ 0.26767033 -0.10721889  0.119253  ]]]\n",
      "h: [[ 0.26767033 -0.10721889  0.119253  ]]\n"
     ]
    }
   ],
   "source": [
    "gru(return_sequences=True)"
   ]
  }
 ],
 "metadata": {
  "kernelspec": {
   "display_name": "Python 3",
   "language": "python",
   "name": "python3"
  },
  "language_info": {
   "codemirror_mode": {
    "name": "ipython",
    "version": 3
   },
   "file_extension": ".py",
   "mimetype": "text/x-python",
   "name": "python",
   "nbconvert_exporter": "python",
   "pygments_lexer": "ipython3",
   "version": "3.6.8"
  }
 },
 "nbformat": 4,
 "nbformat_minor": 2
}
