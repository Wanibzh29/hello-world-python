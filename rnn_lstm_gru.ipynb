{
 "cells": [
  {
   "cell_type": "code",
   "execution_count": 1,
   "metadata": {},
   "outputs": [],
   "source": [
    "import tensorflow as tf\n",
    "from tensorflow.keras.models import Model\n",
    "from tensorflow.keras.layers import Input, LSTM, GRU\n",
    "import numpy as np"
   ]
  },
  {
   "cell_type": "code",
   "execution_count": 2,
   "metadata": {},
   "outputs": [
    {
     "name": "stdout",
     "output_type": "stream",
     "text": [
      "2.0.0\n"
     ]
    }
   ],
   "source": [
    "print(tf.__version__)"
   ]
  },
  {
   "cell_type": "code",
   "execution_count": 3,
   "metadata": {},
   "outputs": [],
   "source": [
    "T = 8 # sequence length\n",
    "D = 2 # input dimensionality\n",
    "M = 3 # hidden layer size"
   ]
  },
  {
   "cell_type": "code",
   "execution_count": 4,
   "metadata": {},
   "outputs": [],
   "source": [
    "# random single sentence of (T=8) words (of) vectors (of Dimensionality 2)\n",
    "X = np.random.randn(1, T, D)"
   ]
  },
  {
   "cell_type": "code",
   "execution_count": 5,
   "metadata": {},
   "outputs": [],
   "source": [
    "def lstm(return_sequences):\n",
    "    input_ = Input(shape=(T, D))\n",
    "    rnn = LSTM(M, return_state=True, return_sequences=return_sequences)\n",
    "    x = rnn(input_)\n",
    "    \n",
    "    model = Model(inputs=input_, outputs=x)\n",
    "    o, h, c = model.predict(X)\n",
    "    print(\"o:\", o) # output state\n",
    "    print(\"h:\", h) # hidden state\n",
    "    print(\"c:\", c) # cell state"
   ]
  },
  {
   "cell_type": "code",
   "execution_count": 6,
   "metadata": {},
   "outputs": [],
   "source": [
    "def gru(return_sequences=False):\n",
    "    input_ = Input(shape=(T, D))\n",
    "    rnn = GRU(M, return_state=True, return_sequences=return_sequences)\n",
    "    x = rnn(input_)\n",
    "    \n",
    "    model = Model(inputs=input_, outputs=x)\n",
    "    o, h = model.predict(X)\n",
    "    print(\"o:\", o)\n",
    "    print(\"h:\", h)"
   ]
  },
  {
   "cell_type": "code",
   "execution_count": 7,
   "metadata": {},
   "outputs": [
    {
     "data": {
      "text/plain": [
       "array([[[ 0.42534953, -2.05203147],\n",
       "        [ 0.45866982,  0.2726821 ],\n",
       "        [-1.11217119, -0.45322218],\n",
       "        [ 1.67636628,  0.40574839],\n",
       "        [-0.30272344, -1.54502383],\n",
       "        [ 0.31148515,  0.32733057],\n",
       "        [-0.41662199, -0.63395068],\n",
       "        [-0.93057375,  0.52341877]]])"
      ]
     },
     "execution_count": 7,
     "metadata": {},
     "output_type": "execute_result"
    }
   ],
   "source": [
    "X"
   ]
  },
  {
   "cell_type": "code",
   "execution_count": 8,
   "metadata": {},
   "outputs": [
    {
     "name": "stdout",
     "output_type": "stream",
     "text": [
      "lstm(return_sequences=False)\n",
      "o: [[-0.13610387 -0.03827858  0.01187589]]\n",
      "h: [[-0.13610387 -0.03827858  0.01187589]]\n",
      "c: [[-0.25883973 -0.08570366  0.02630636]]\n"
     ]
    }
   ],
   "source": [
    "print('lstm(return_sequences=False)')\n",
    "lstm(return_sequences=False)\n",
    "# should see that 'h'idden is actually the 'o'utput"
   ]
  },
  {
   "cell_type": "code",
   "execution_count": 9,
   "metadata": {},
   "outputs": [
    {
     "name": "stdout",
     "output_type": "stream",
     "text": [
      "lstm(return_sequences=True)\n",
      "o: [[[ 0.05537746  0.02390799  0.18071148]\n",
      "  [ 0.12642565 -0.01081144  0.14512156]\n",
      "  [ 0.08062249  0.02655875  0.12119054]\n",
      "  [ 0.15234677 -0.06671423  0.11360002]\n",
      "  [ 0.10770918 -0.03812384  0.26930055]\n",
      "  [ 0.17586416 -0.04390792  0.17320353]\n",
      "  [ 0.13328935 -0.0153063   0.19501005]\n",
      "  [ 0.11396513  0.00746261  0.09307939]]]\n",
      "h: [[0.11396513 0.00746261 0.09307939]]\n",
      "c: [[0.19826348 0.01449099 0.14929938]]\n"
     ]
    }
   ],
   "source": [
    "print('lstm(return_sequences=True)')\n",
    "lstm(return_sequences=True)\n",
    "# same as before, except that sequence lenght is of asize T (8)\n",
    "# see that 'h' is the same as last element of 'o' \n",
    "# thus, 'h' and 'c' represent the last state of LSTM (ie last timestep)"
   ]
  },
  {
   "cell_type": "code",
   "execution_count": 10,
   "metadata": {},
   "outputs": [
    {
     "name": "stdout",
     "output_type": "stream",
     "text": [
      "gru(return_sequences=False)\n",
      "o: [[[ 0.3429041   0.46695912  0.19873063]\n",
      "  [ 0.04636335  0.06543563 -0.01808175]\n",
      "  [ 0.54613626  0.3499534   0.12801264]\n",
      "  [ 0.28386107 -0.17762409 -0.29888126]\n",
      "  [ 0.5421966   0.4044663  -0.07630345]\n",
      "  [ 0.12815757  0.02214268 -0.09808372]\n",
      "  [ 0.34162334  0.26588506  0.08139671]\n",
      "  [ 0.3102122   0.15861422  0.03027977]]]\n",
      "h: [[0.3102122  0.15861422 0.03027977]]\n"
     ]
    }
   ],
   "source": [
    "print('gru(return_sequences=False)')\n",
    "gru(return_sequences=True)"
   ]
  },
  {
   "cell_type": "code",
   "execution_count": 11,
   "metadata": {},
   "outputs": [
    {
     "name": "stdout",
     "output_type": "stream",
     "text": [
      "gru(return_sequences=True)\n",
      "o: [[[-0.3739081   0.37828812 -0.06370363]\n",
      "  [ 0.00392233  0.22754148  0.03395929]\n",
      "  [-0.05687128  0.0427503  -0.1035232 ]\n",
      "  [ 0.15019408  0.09942636  0.1825223 ]\n",
      "  [-0.18950835  0.43134612  0.05081913]\n",
      "  [ 0.04437899  0.22612762  0.07575828]\n",
      "  [-0.04645113  0.25450534 -0.03373754]\n",
      "  [ 0.00423348 -0.24768388 -0.08856485]]]\n",
      "h: [[ 0.00423348 -0.24768388 -0.08856485]]\n"
     ]
    }
   ],
   "source": [
    "print('gru(return_sequences=True)')\n",
    "gru(return_sequences=True)"
   ]
  }
 ],
 "metadata": {
  "kernelspec": {
   "display_name": "Python 3",
   "language": "python",
   "name": "python3"
  },
  "language_info": {
   "codemirror_mode": {
    "name": "ipython",
    "version": 3
   },
   "file_extension": ".py",
   "mimetype": "text/x-python",
   "name": "python",
   "nbconvert_exporter": "python",
   "pygments_lexer": "ipython3",
   "version": "3.6.8"
  }
 },
 "nbformat": 4,
 "nbformat_minor": 2
}
