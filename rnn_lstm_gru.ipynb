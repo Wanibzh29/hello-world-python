{
 "cells": [
  {
   "cell_type": "code",
   "execution_count": 1,
   "metadata": {},
   "outputs": [],
   "source": [
    "from __future__ import print_function, division\n",
    "from builtins import range, input\n",
    "import tensorflow as tf\n",
    "from tensorflow.keras.models import Model\n",
    "from tensorflow.keras.layers import Input, LSTM, GRU\n",
    "import numpy as np\n",
    "import matplotlib.pyplot as plt"
   ]
  },
  {
   "cell_type": "code",
   "execution_count": 2,
   "metadata": {},
   "outputs": [
    {
     "name": "stdout",
     "output_type": "stream",
     "text": [
      "2.0.0\n"
     ]
    }
   ],
   "source": [
    "print(tf.__version__)"
   ]
  },
  {
   "cell_type": "code",
   "execution_count": 3,
   "metadata": {},
   "outputs": [],
   "source": [
    "T = 8 # sequence length\n",
    "D = 2 # input dimensionality\n",
    "M = 3 # hidden layer size"
   ]
  },
  {
   "cell_type": "code",
   "execution_count": 4,
   "metadata": {},
   "outputs": [],
   "source": [
    "# random single sentence of (T=8) words (of) vectors (of Dimensionality 2)\n",
    "X = np.random.randn(1, T, D)"
   ]
  },
  {
   "cell_type": "code",
   "execution_count": 5,
   "metadata": {},
   "outputs": [],
   "source": [
    "def lstm(return_sequences):\n",
    "    input_ = Input(shape=(T, D))\n",
    "    rnn = LSTM(M, return_state=True, return_sequences=return_sequences)\n",
    "    x = rnn(input_)\n",
    "    \n",
    "    model = Model(inputs=input_, outputs=x)\n",
    "    o, h, c = model.predict(X)\n",
    "    print(\"o:\", o) # output state\n",
    "    print(\"h:\", h) # hidden state\n",
    "    print(\"c:\", c) # cell state"
   ]
  },
  {
   "cell_type": "code",
   "execution_count": 6,
   "metadata": {},
   "outputs": [],
   "source": [
    "def gru(return_sequences=False):\n",
    "    input_ = Input(shape=(T, D))\n",
    "    rnn = GRU(M, return_state=True, return_sequences=return_sequences)\n",
    "    x = rnn(input_)\n",
    "    \n",
    "    model = Model(inputs=input_, outputs=x)\n",
    "    o, h = model.predict(X)\n",
    "    print(\"o:\", o)\n",
    "    print(\"h:\", h)"
   ]
  },
  {
   "cell_type": "code",
   "execution_count": 7,
   "metadata": {},
   "outputs": [
    {
     "data": {
      "text/plain": [
       "array([[[-1.73394974, -0.71413386],\n",
       "        [ 1.02563316,  1.98625841],\n",
       "        [ 0.81784878, -0.62754348],\n",
       "        [-0.15946988, -0.61045713],\n",
       "        [-1.26686826, -1.13625935],\n",
       "        [ 0.32856318, -1.41968732],\n",
       "        [ 0.41914402, -0.17297239],\n",
       "        [-0.78343575,  0.59002825]]])"
      ]
     },
     "execution_count": 7,
     "metadata": {},
     "output_type": "execute_result"
    }
   ],
   "source": [
    "X"
   ]
  },
  {
   "cell_type": "code",
   "execution_count": 8,
   "metadata": {},
   "outputs": [
    {
     "name": "stdout",
     "output_type": "stream",
     "text": [
      "lstm(return_sequences=False)\n",
      "o: [[-0.14669798 -0.03754031 -0.1142506 ]]\n",
      "h: [[-0.14669798 -0.03754031 -0.1142506 ]]\n",
      "c: [[-0.24777451 -0.07086815 -0.17149094]]\n"
     ]
    }
   ],
   "source": [
    "print('lstm(return_sequences=False)')\n",
    "lstm(return_sequences=False)\n",
    "# should see that 'h'idden is actually the 'o'utput"
   ]
  },
  {
   "cell_type": "code",
   "execution_count": 9,
   "metadata": {},
   "outputs": [
    {
     "name": "stdout",
     "output_type": "stream",
     "text": [
      "lstm(return_sequences=True)\n",
      "o: [[[-0.02360118  0.04548688 -0.09549893]\n",
      "  [-0.05679564  0.16474661  0.07663298]\n",
      "  [ 0.04283164  0.02309753 -0.0168109 ]\n",
      "  [ 0.08899377 -0.04162308 -0.09969093]\n",
      "  [ 0.12392537 -0.08250352 -0.25178382]\n",
      "  [ 0.3021257  -0.16928403 -0.24798277]\n",
      "  [ 0.25735804 -0.16895261 -0.2131155 ]\n",
      "  [ 0.09332512 -0.01386919 -0.10768051]]]\n",
      "h: [[ 0.09332512 -0.01386919 -0.10768051]]\n",
      "c: [[ 0.23692676 -0.02546185 -0.21116292]]\n"
     ]
    }
   ],
   "source": [
    "print('lstm(return_sequences=True)')\n",
    "lstm(return_sequences=True)\n",
    "# same as before, except that sequence lenght is of asize T (8)\n",
    "# see that 'h' is the same as last element of 'o' \n",
    "# thus, 'h' and 'c' represent the last state of LSTM (ie last timestep)"
   ]
  },
  {
   "cell_type": "code",
   "execution_count": 10,
   "metadata": {},
   "outputs": [
    {
     "name": "stdout",
     "output_type": "stream",
     "text": [
      "gru(return_sequences=False)\n",
      "o: [[[-0.25822088 -0.11663557  0.06088384]\n",
      "  [ 0.3210874   0.27232215  0.10672334]\n",
      "  [ 0.14221     0.26673096 -0.15772323]\n",
      "  [-0.02901417  0.12582669 -0.17018807]\n",
      "  [-0.2828023   0.00854827 -0.14201334]\n",
      "  [-0.3624295   0.09569412 -0.3328796 ]\n",
      "  [-0.14104734  0.12406164 -0.2657905 ]\n",
      "  [-0.01471875 -0.0693494  -0.03338622]]]\n",
      "h: [[-0.01471875 -0.0693494  -0.03338622]]\n"
     ]
    }
   ],
   "source": [
    "print('gru(return_sequences=False)')\n",
    "gru(return_sequences=True)"
   ]
  },
  {
   "cell_type": "code",
   "execution_count": 11,
   "metadata": {},
   "outputs": [
    {
     "name": "stdout",
     "output_type": "stream",
     "text": [
      "gru(return_sequences=True)\n",
      "o: [[[-0.65682447  0.28109878 -0.19301726]\n",
      "  [-0.56963    -0.39338362  0.46534318]\n",
      "  [-0.15502834 -0.5010007   0.22817338]\n",
      "  [-0.12507793 -0.25302842  0.02947593]\n",
      "  [-0.5473185   0.07235198 -0.18831843]\n",
      "  [ 0.0081118  -0.09516468 -0.3689533 ]\n",
      "  [ 0.1446636  -0.16865529 -0.14482236]\n",
      "  [-0.27880386  0.16408935 -0.09538844]]]\n",
      "h: [[-0.27880386  0.16408935 -0.09538844]]\n"
     ]
    }
   ],
   "source": [
    "print('gru(return_sequences=True)')\n",
    "gru(return_sequences=True)"
   ]
  }
 ],
 "metadata": {
  "kernelspec": {
   "display_name": "Python 3",
   "language": "python",
   "name": "python3"
  },
  "language_info": {
   "codemirror_mode": {
    "name": "ipython",
    "version": 3
   },
   "file_extension": ".py",
   "mimetype": "text/x-python",
   "name": "python",
   "nbconvert_exporter": "python",
   "pygments_lexer": "ipython3",
   "version": "3.6.8"
  }
 },
 "nbformat": 4,
 "nbformat_minor": 2
}
