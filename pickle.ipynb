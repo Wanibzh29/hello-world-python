{
 "cells": [
  {
   "cell_type": "code",
   "execution_count": 1,
   "metadata": {},
   "outputs": [],
   "source": [
    "import pickle"
   ]
  },
  {
   "cell_type": "code",
   "execution_count": 2,
   "metadata": {},
   "outputs": [],
   "source": [
    "class Agent:\n",
    "    \n",
    "    def __init__(self, name, color):\n",
    "        self.name = name\n",
    "        \n",
    "        self.debug = False\n",
    "        self.color = color"
   ]
  },
  {
   "cell_type": "code",
   "execution_count": 3,
   "metadata": {},
   "outputs": [
    {
     "name": "stdout",
     "output_type": "stream",
     "text": [
      "agent: Foo red\n",
      "agent: Bar green\n"
     ]
    }
   ],
   "source": [
    "AGENTS = []\n",
    "agent_a = Agent(\"Foo\",\"red\")\n",
    "AGENTS.append(agent_a)\n",
    "agent_b = Agent(\"Bar\",\"green\")\n",
    "AGENTS.append(agent_b)\n",
    "\n",
    "for agent in AGENTS:\n",
    "    print(\"agent: %s %s\" % (agent.name, agent.color))"
   ]
  },
  {
   "cell_type": "code",
   "execution_count": 4,
   "metadata": {},
   "outputs": [
    {
     "data": {
      "application/javascript": [
       "var kernel = IPython.notebook.kernel;\n",
       "var body = document.body,  \n",
       "    attribs = body.attributes;\n",
       "var command = \"theNotebook = \" + \"'\"+attribs['data-notebook-name'].value+\"'\";\n",
       "kernel.execute(command);\n",
       "\n",
       "filename = 'theNotebook'\n",
       "outfile = open(filename,'wb')\n",
       "pickle.dump(AGENTS,outfile)\n",
       "outfile.close()\n"
      ],
      "text/plain": [
       "<IPython.core.display.Javascript object>"
      ]
     },
     "metadata": {},
     "output_type": "display_data"
    }
   ],
   "source": [
    "%%javascript\n",
    "var kernel = IPython.notebook.kernel;\n",
    "var body = document.body,  \n",
    "    attribs = body.attributes;\n",
    "var command = \"theNotebook = \" + \"'\"+attribs['data-notebook-name'].value+\"'\";\n",
    "kernel.execute(command);\n",
    "\n",
    "filename = 'theNotebook'\n",
    "outfile = open(filename,'wb')\n",
    "pickle.dump(AGENTS,outfile)\n",
    "outfile.close()"
   ]
  },
  {
   "cell_type": "code",
   "execution_count": null,
   "metadata": {},
   "outputs": [],
   "source": []
  },
  {
   "cell_type": "code",
   "execution_count": 5,
   "metadata": {},
   "outputs": [],
   "source": [
    "AGENTS = []\n",
    "\n",
    "for agent in AGENTS:\n",
    "    print(\"agent: %s %s\" % (agent.name, agent.color))"
   ]
  },
  {
   "cell_type": "code",
   "execution_count": 6,
   "metadata": {},
   "outputs": [],
   "source": [
    "filename = 'theNotebook'\n",
    "infile = open(filename,'rb')\n",
    "AGENTS = pickle.load(infile)\n",
    "infile.close()"
   ]
  },
  {
   "cell_type": "code",
   "execution_count": 7,
   "metadata": {},
   "outputs": [
    {
     "name": "stdout",
     "output_type": "stream",
     "text": [
      "agent: Foo red\n",
      "agent: Bar green\n"
     ]
    }
   ],
   "source": [
    "for agent in AGENTS:\n",
    "    print(\"agent: %s %s\" % (agent.name, agent.color))"
   ]
  },
  {
   "cell_type": "code",
   "execution_count": null,
   "metadata": {},
   "outputs": [],
   "source": []
  }
 ],
 "metadata": {
  "kernelspec": {
   "display_name": "Python 3",
   "language": "python",
   "name": "python3"
  },
  "language_info": {
   "codemirror_mode": {
    "name": "ipython",
    "version": 3
   },
   "file_extension": ".py",
   "mimetype": "text/x-python",
   "name": "python",
   "nbconvert_exporter": "python",
   "pygments_lexer": "ipython3",
   "version": "3.6.8"
  }
 },
 "nbformat": 4,
 "nbformat_minor": 2
}
