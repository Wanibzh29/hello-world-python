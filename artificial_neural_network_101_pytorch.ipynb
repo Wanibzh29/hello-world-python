{
  "nbformat": 4,
  "nbformat_minor": 0,
  "metadata": {
    "colab": {
      "name": "Artificial_Neural_Network_101_PYTORCH.ipynb",
      "provenance": [],
      "collapsed_sections": []
    },
    "kernelspec": {
      "name": "python3",
      "display_name": "Python 3"
    }
  },
  "cells": [
    {
      "cell_type": "markdown",
      "metadata": {
        "id": "b2vwlKeSsV33",
        "colab_type": "text"
      },
      "source": [
        "# Introduction\n",
        "\n",
        "* The **goal** of this Artificial Neural Network (ANN) 101 session is twofold:\n",
        "  * To build an ANN model that will be able to predict y value according to x value. \n",
        "    * In other words, we want our ANN model  to perform a regression analysis.\n",
        "  * To observe three important KPI when dealing with ANN: \n",
        "    * The size of the network (called *trainable_params* in our code)\n",
        "    * The duration of the training step (called *training_ duration:* in our code)\n",
        "    * The efficiency of the ANN model (called *evaluated_loss* in our code)\n",
        "  \n",
        "* The data used here are exceptionally simple:\n",
        "  * X represents the interesting feature (i.e. will serve as input X for our ANN).\n",
        "    * Here, each x sample is a one-dimension single scalar value.\n",
        "  * Y represents the target (i.e. will serve as the exected output Y of our ANN).\n",
        "    * Here, each x sample is also a one-dimension single scalar value.\n",
        "\n",
        "\n",
        "* Note that in real life:\n",
        "  * You will never have such godsent clean, un-noisy and simple data. \n",
        "  * You will have more samples, i.e. bigger data (better for statiscally meaningful results).\n",
        "  * You may have more dimensions in your feature and/or target (e.g. space data, temporal data...).\n",
        "  * You may also have more multiple features and even multiple targets.\n",
        "  * Hence your ANN model will be more complex that the one studied here\n",
        "\n",
        "# Work to be done:\n",
        "For exercices A to E, the only lines of code that need to be added or modified are in the  **create_model()** Python function.\n",
        "\n",
        "## Exercice A\n",
        "* Run the whole code, Jupyter cell by Jupyter cell, without modifiying any line of code.\n",
        "* Write down the values for:\n",
        "  * *trainable_params:* \n",
        "  * *training_ duration:* \n",
        "  * *evaluated_loss:* \n",
        "* In the last Jupyter cell, what is the relationship between the predicted x samples and y samples? Try to explain it base on the ANN model? \n",
        "\n",
        "## Exercice B\n",
        "* Add a first hidden layer called \"hidden_layer_1\" containing 8 units in the model of the ANN. \n",
        "* Restart and execute everything again. \n",
        "* Write down the obtained values for:\n",
        "  * *trainable_params:* \n",
        "  * *training_ duration:* \n",
        "  * *evaluated_loss:* \n",
        "* How better is it with regard to Exercice A?\n",
        "  * Worse? Not better? Better? Strongly better?\n",
        "  \n",
        "## Exercice C\n",
        "* Modify the hidden layer called \"hidden_layer_1\" so that it  contains 128 units instead of 8.\n",
        "* Restart and execute everything again.\n",
        "* Write down the obtained values for:\n",
        "  * *trainable_params:* \n",
        "  * *training_ duration:*\n",
        "  * *evaluated_loss:* \n",
        "* How better is it with regard to Exercice B?\n",
        "  * Worse? Not better? Better? Strongly better?\n",
        "  \n",
        "## Exercice D\n",
        "* Add a second hidden layer called \"hidden_layer_2\" containing 32 units in the model of the ANN. \n",
        "* Write down the obtained values for:\n",
        "  * *trainable_params:* \n",
        "  * *training_ duration:* \n",
        "  * *evaluated_loss:* \n",
        "* How better is it with regard to Exercice C?\n",
        "  * Worse? Not better? Better? Strongly better?\n",
        "  \n",
        "## Exercice E\n",
        "* Add a third hidden layer called \"hidden_layer_3\" containing 4 units in the model of the ANN. \n",
        "* Restart and execute everything again.\n",
        "* Look at the graph in the last Jupyter cell. Is it better?\n",
        "* Write down the obtained values for:\n",
        "  * *trainable_params:* \n",
        "  * *training_ duration:* \n",
        "  * *evaluated_loss:* \n",
        "* How better is it with regard to Exercice D?\n",
        "  * Worse? Not better? Better? Strongly better?\n",
        "  \n",
        "## Exercice F\n",
        "* If you still have time, you can also play with the training epochs parameter, the number of training samples (or just exchange the training datasets with the test datasets), the type of runtime hardware (GPU orTPU), and so on...\n"
      ]
    },
    {
      "cell_type": "markdown",
      "metadata": {
        "id": "HTo0jgsCa_Oa",
        "colab_type": "text"
      },
      "source": [
        "# Python Code"
      ]
    },
    {
      "cell_type": "markdown",
      "metadata": {
        "id": "23b-DNvOa9jC",
        "colab_type": "text"
      },
      "source": [
        "## Import the tools"
      ]
    },
    {
      "cell_type": "code",
      "metadata": {
        "id": "pRu_5l-QzZ0y",
        "colab_type": "code",
        "colab": {}
      },
      "source": [
        "# library to store and manipulate neural-network input and output data\n",
        "import numpy as np\n",
        "\n",
        "# library to graphically display any data\n",
        "import matplotlib.pyplot as plt\n",
        "\n",
        "# library to manipulate neural-network models\n",
        "import torch\n",
        "import torch.nn as nn\n",
        "import torch.optim as optim"
      ],
      "execution_count": 0,
      "outputs": []
    },
    {
      "cell_type": "code",
      "metadata": {
        "id": "OQHfsGcWze-8",
        "colab_type": "code",
        "outputId": "24ebc41a-61cc-4bf4-943d-361c3c3fc5b1",
        "colab": {
          "base_uri": "https://localhost:8080/",
          "height": 35
        }
      },
      "source": [
        "# the code is compatible with Tensflow v1.4.0\n",
        "print(\"Pytorch version:\", torch.__version__)"
      ],
      "execution_count": 0,
      "outputs": [
        {
          "output_type": "stream",
          "text": [
            "Pytorch version: 1.4.0\n"
          ],
          "name": "stdout"
        }
      ]
    },
    {
      "cell_type": "code",
      "metadata": {
        "id": "hALQopq8LiIW",
        "colab_type": "code",
        "outputId": "4f226c2a-c4b2-4420-b8fb-7f317135c1b2",
        "colab": {
          "base_uri": "https://localhost:8080/",
          "height": 35
        }
      },
      "source": [
        "# To check whether you code will use a GPU or not, uncomment the following two\n",
        "# lines of code. You should either see:\n",
        "# * an \"XLA_GPU\", \n",
        "# * or better a \"K80\" GPU\n",
        "# * or even better a \"T100\" GPU\n",
        "\n",
        "if torch.cuda.is_available():\n",
        "  print('GPU support (%s)' % torch.cuda.get_device_name(0))\n",
        "else:\n",
        "  print('no GPU support')"
      ],
      "execution_count": 0,
      "outputs": [
        {
          "output_type": "stream",
          "text": [
            "no GPU support\n"
          ],
          "name": "stdout"
        }
      ]
    },
    {
      "cell_type": "code",
      "metadata": {
        "id": "m6DkCttHHu41",
        "colab_type": "code",
        "colab": {}
      },
      "source": [
        "import time\n",
        "\n",
        "# trivial \"debug\" function to display the duration between time_1 and time_2\n",
        "def get_duration(time_1, time_2):\n",
        "  duration_time = time_2 - time_1\n",
        "  m, s = divmod(duration_time, 60)\n",
        "  h, m = divmod(m, 60)\n",
        "  s,m,h = int(round(s, 0)), int(round(m, 0)), int(round(h, 0))\n",
        "  duration = \"duration: \" + \"{0:02d}:{1:02d}:{2:02d}\".format(h, m, s)\n",
        "  return duration"
      ],
      "execution_count": 0,
      "outputs": []
    },
    {
      "cell_type": "markdown",
      "metadata": {
        "id": "d_53UB62hgdW",
        "colab_type": "text"
      },
      "source": [
        "## Get the data"
      ]
    },
    {
      "cell_type": "code",
      "metadata": {
        "id": "FVJTdFgh9GFh",
        "colab_type": "code",
        "colab": {}
      },
      "source": [
        "# DO NOT MODIFY THIS CODE\n",
        "# IT HAS JUST BEEN WRITTEN TO GENERATE THE DATA\n",
        "\n",
        "# library fr generating random number\n",
        "#import random\n",
        "\n",
        "# secret relationship between X data and Y data\n",
        "#def generate_random_output_data_correlated_from_input_data(nb_samples):\n",
        "# generate nb_samples random x between 0 and 1\n",
        "#  X = np.array( [random.random() for i in range(nb_samples)] )\n",
        "# generate nb_samples y correlated with x\n",
        "#  Y = np.tan(np.sin(X) + np.cos(X))\n",
        "#  return X, Y\n",
        "\n",
        "#def get_new_X_Y(nb_samples, debug=False):\n",
        "#  X, Y = generate_random_output_data_correlated_from_input_data(nb_samples)\n",
        "#  if debug:\n",
        "#    print(\"generate %d X and Y samples:\" % nb_samples)\n",
        "#    X_Y = zip(X, Y)\n",
        "#    for i, x_y in enumerate(X_Y):\n",
        "#      print(\"data sample %d: x=%.3f, y=%.3f\" % (i, x_y[0], x_y[1]))\n",
        "#  return X, Y\n",
        "\n",
        "# Number of samples for the training dataset and the test dateset\n",
        "#nb_samples=50\n",
        "# Get some data for training the futture neural-network model\n",
        "#X_train, Y_train = get_new_X_Y(nb_samples)\n",
        "# Get some other data for evaluating the futture neural-network model\n",
        "#X_test, Y_test = get_new_X_Y(nb_samples)\n",
        "# In most cases, it will be necessary to normalize X and Y data with code like:\n",
        "# X_centered -= X.mean(axis=0)\n",
        "# X_normalized /= X_centered.std(axis=0)\n",
        "\n",
        "#def mstr(X):\n",
        "#  my_str ='['\n",
        "#  for x in X:\n",
        "#    my_str += str(float(int(x*1000)/1000)) + ','\n",
        "#  my_str += ']'\n",
        "#  return my_str\n",
        "## Call get_data to have an idead of what is returned by call data\n",
        "\n",
        "#generate_data = False\n",
        "#if generate_data:\n",
        "#  nb_samples = 50\n",
        "#  X_train, Y_train = get_new_X_Y(nb_samples)\n",
        "#  print('X_train = np.array(%s)' % mstr(X_train))\n",
        "#  print('Y_train = np.array(%s)' % mstr(Y_train)) \n",
        "#  X_test, Y_test = get_new_X_Y(nb_samples)\n",
        "#  print('X_test = np.array(%s)' % mstr(X_test))\n",
        "#  print('Y_test = np.array(%s)' % mstr(Y_test))"
      ],
      "execution_count": 0,
      "outputs": []
    },
    {
      "cell_type": "code",
      "metadata": {
        "id": "HdfJ-KKbLWkx",
        "colab_type": "code",
        "colab": {}
      },
      "source": [
        "X_train = np.array([0.765,0.838,0.329,0.277,0.45,0.833,0.44,0.634,0.351,0.784,0.589,0.816,0.352,0.591,0.04,0.38,0.816,0.732,0.32,0.597,0.908,0.146,0.691,0.75,0.568,0.866,0.705,0.027,0.607,0.793,0.864,0.057,0.877,0.164,0.729,0.291,0.324,0.745,0.158,0.098,0.113,0.794,0.452,0.765,0.983,0.001,0.474,0.773,0.155,0.875,])\n",
        "Y_train = np.array([6.322,6.254,3.224,2.87,4.177,6.267,4.088,5.737,3.379,6.334,5.381,6.306,3.389,5.4,1.704,3.602,6.306,6.254,3.157,5.446,5.918,2.147,6.088,6.298,5.204,6.147,6.153,1.653,5.527,6.332,6.156,1.766,6.098,2.236,6.244,2.96,3.183,6.287,2.205,1.934,1.996,6.331,4.188,6.322,5.368,1.561,4.383,6.33,2.192,6.108,])\n",
        "X_test = np.array([0.329,0.528,0.323,0.952,0.868,0.931,0.69,0.112,0.574,0.421,0.972,0.715,0.7,0.58,0.69,0.163,0.093,0.695,0.493,0.243,0.928,0.409,0.619,0.011,0.218,0.647,0.499,0.354,0.064,0.571,0.836,0.068,0.451,0.074,0.158,0.571,0.754,0.259,0.035,0.595,0.245,0.929,0.546,0.901,0.822,0.797,0.089,0.924,0.903,0.334,])\n",
        "Y_test = np.array([3.221,4.858,3.176,5.617,6.141,5.769,6.081,1.995,5.259,3.932,5.458,6.193,6.129,5.305,6.081,2.228,1.912,6.106,4.547,2.665,5.791,3.829,5.619,1.598,2.518,5.826,4.603,3.405,1.794,5.23,6.26,1.81,4.18,1.832,2.208,5.234,6.306,2.759,1.684,5.432,2.673,5.781,5.019,5.965,6.295,6.329,1.894,5.816,5.951,3.258,])\n"
      ],
      "execution_count": 0,
      "outputs": []
    },
    {
      "cell_type": "code",
      "metadata": {
        "id": "fyyY5acYagOB",
        "colab_type": "code",
        "outputId": "58862a0a-2000-43ce-8a70-802a5f9ac675",
        "colab": {
          "base_uri": "https://localhost:8080/",
          "height": 109
        }
      },
      "source": [
        "print('X_train contains %d samples' % X_train.shape)\n",
        "print('Y_train contains %d samples' % Y_train.shape)\n",
        "print('')\n",
        "print('X_test contains %d samples' % X_test.shape)\n",
        "print('Y_test contains %d samples' % Y_test.shape)"
      ],
      "execution_count": 0,
      "outputs": [
        {
          "output_type": "stream",
          "text": [
            "X_train contains 50 samples\n",
            "Y_train contains 50 samples\n",
            "\n",
            "X_test contains 50 samples\n",
            "Y_test contains 50 samples\n"
          ],
          "name": "stdout"
        }
      ]
    },
    {
      "cell_type": "code",
      "metadata": {
        "id": "L8itA09R9W20",
        "colab_type": "code",
        "outputId": "8a11d48f-39dd-49e9-a5d9-a4b29ce1d5fd",
        "colab": {
          "base_uri": "https://localhost:8080/",
          "height": 295
        }
      },
      "source": [
        "# Graphically display our training data\n",
        "plt.scatter(X_train, Y_train, color='green', alpha=0.5)\n",
        "plt.title('Scatter plot of the training data')\n",
        "plt.xlabel('x')\n",
        "plt.ylabel('y')\n",
        "plt.show()"
      ],
      "execution_count": 0,
      "outputs": [
        {
          "output_type": "display_data",
          "data": {
            "image/png": "[encoded data removed]",
            "text/plain": [
              "<Figure size 432x288 with 1 Axes>"
            ]
          },
          "metadata": {
            "tags": []
          }
        }
      ]
    },
    {
      "cell_type": "code",
      "metadata": {
        "id": "xoT9UQ_o6KeP",
        "colab_type": "code",
        "outputId": "7fe5fbec-1b01-41a6-c44c-3e4fca5832fc",
        "colab": {
          "base_uri": "https://localhost:8080/",
          "height": 295
        }
      },
      "source": [
        "# Graphically display our test data\n",
        "plt.scatter(X_test, Y_test, color='blue', alpha=0.5)\n",
        "plt.title('Scatter plot of the testing data')\n",
        "plt.xlabel('x')\n",
        "plt.ylabel('y')\n",
        "plt.show()"
      ],
      "execution_count": 0,
      "outputs": [
        {
          "output_type": "display_data",
          "data": {
            "image/png": "[encoded data removed]",
            "text/plain": [
              "<Figure size 432x288 with 1 Axes>"
            ]
          },
          "metadata": {
            "tags": []
          }
        }
      ]
    },
    {
      "cell_type": "markdown",
      "metadata": {
        "id": "1OpOnS6phnec",
        "colab_type": "text"
      },
      "source": [
        "## Build the artificial neural-network"
      ]
    },
    {
      "cell_type": "code",
      "metadata": {
        "id": "8Gw2GGVQOiKH",
        "colab_type": "code",
        "colab": {}
      },
      "source": [
        "# THIS IS THE ONLY CELL WHERE YOU HAVE TO ADD AND/OR MODIFY CODE "
      ],
      "execution_count": 0,
      "outputs": []
    },
    {
      "cell_type": "code",
      "metadata": {
        "id": "B6HcpfOpFbr_",
        "colab_type": "code",
        "colab": {}
      },
      "source": [
        "from collections import OrderedDict\n",
        "\n",
        "def create_model():\n",
        "  \n",
        "  # This returns a tensor\n",
        "  model = nn.Sequential(OrderedDict([\n",
        "      ('hidden_layer_1', nn.Linear(1,128)), ('hidden_layer_1_act', nn.ReLU()),\n",
        "      ('hidden_layer_2', nn.Linear(128,32)), ('hidden_layer_2_act', nn.ReLU()),\n",
        "      ('hidden_layer_3', nn.Linear(32,4)), ('hidden_layer_3_act', nn.ReLU()),\n",
        "      ('output_layer', nn.Linear(4,1))\n",
        "  ]))\n",
        "\n",
        "  # NO COMPILATION AS IN TENSORFLOW\n",
        "  #model.compile(optimizer=tf.keras.optimizers.RMSprop(0.01), \n",
        "  #              loss='mean_squared_error',\n",
        "  #              metrics=['mean_absolute_error', 'mean_squared_error'])\n",
        "\n",
        "  return model"
      ],
      "execution_count": 0,
      "outputs": []
    },
    {
      "cell_type": "code",
      "metadata": {
        "id": "-qXNDkNhCFK4",
        "colab_type": "code",
        "colab": {}
      },
      "source": [
        "ann_model = create_model()"
      ],
      "execution_count": 0,
      "outputs": []
    },
    {
      "cell_type": "code",
      "metadata": {
        "id": "3_JSjCbc_qfh",
        "colab_type": "code",
        "outputId": "fb828b09-be6b-401b-a150-4ea8907a23a5",
        "colab": {
          "base_uri": "https://localhost:8080/",
          "height": 183
        }
      },
      "source": [
        "# Display a textual summary of the newly created model\n",
        "# Pay attention to size (a.k.a. total parameters) of the network\n",
        "print(ann_model)\n"
      ],
      "execution_count": 0,
      "outputs": [
        {
          "output_type": "stream",
          "text": [
            "Sequential(\n",
            "  (hidden_layer_1): Linear(in_features=1, out_features=128, bias=True)\n",
            "  (hidden_layer_1_act): ReLU()\n",
            "  (hidden_layer_2): Linear(in_features=128, out_features=32, bias=True)\n",
            "  (hidden_layer_2_act): ReLU()\n",
            "  (hidden_layer_3): Linear(in_features=32, out_features=4, bias=True)\n",
            "  (hidden_layer_3_act): ReLU()\n",
            "  (output_layer): Linear(in_features=4, out_features=1, bias=True)\n",
            ")\n"
          ],
          "name": "stdout"
        }
      ]
    },
    {
      "cell_type": "code",
      "metadata": {
        "id": "R-vfOF-sFRLH",
        "colab_type": "code",
        "outputId": "a9065544-4452-45b3-b79a-fa07fd29e5b0",
        "colab": {
          "base_uri": "https://localhost:8080/",
          "height": 54
        }
      },
      "source": [
        "print('params:', sum(p.numel() for p in ann_model.parameters()))\n",
        "print('trainable_params:', sum(p.numel() for p in ann_model.parameters() if p.requires_grad))"
      ],
      "execution_count": 0,
      "outputs": [
        {
          "output_type": "stream",
          "text": [
            "params: 4521\n",
            "trainable_params: 4521\n"
          ],
          "name": "stdout"
        }
      ]
    },
    {
      "cell_type": "code",
      "metadata": {
        "id": "JG6BGf7r-P33",
        "colab_type": "code",
        "outputId": "4de793eb-5dbb-467f-8957-bf33a32c6b4b",
        "colab": {
          "base_uri": "https://localhost:8080/",
          "height": 246
        }
      },
      "source": [
        "%%html\n",
        "As a reminder for understanding, the following ANN unit contains <b>m + 1</b> trainable parameters:<br>\n",
        "<img src='https://www.degruyter.com/view/j/nanoph.2017.6.issue-3/nanoph-2016-0139/graphic/j_nanoph-2016-0139_fig_002.jpg' alt=\"perceptron\" width=\"400\" />"
      ],
      "execution_count": 0,
      "outputs": [
        {
          "output_type": "display_data",
          "data": {
            "text/html": [
              "As a reminder for understanding, the following ANN unit contains <b>m + 1</b> trainable parameters:<br>\n",
              "<img src='https://www.degruyter.com/view/j/nanoph.2017.6.issue-3/nanoph-2016-0139/graphic/j_nanoph-2016-0139_fig_002.jpg' alt=\"perceptron\" width=\"400\" />"
            ],
            "text/plain": [
              "<IPython.core.display.HTML object>"
            ]
          },
          "metadata": {
            "tags": []
          }
        }
      ]
    },
    {
      "cell_type": "markdown",
      "metadata": {
        "id": "Ig8cHpbqjUtm",
        "colab_type": "text"
      },
      "source": [
        "## Train the artificial neural-network model"
      ]
    },
    {
      "cell_type": "code",
      "metadata": {
        "id": "4-BOTCUiBiIu",
        "colab_type": "code",
        "colab": {}
      },
      "source": [
        "# Object for storing training results (similar to Tensorflow object)\n",
        "class Results:\n",
        "\n",
        "    history = {\n",
        "        'train_loss': [],\n",
        "        'valid_loss': []\n",
        "    }"
      ],
      "execution_count": 0,
      "outputs": []
    },
    {
      "cell_type": "code",
      "metadata": {
        "id": "JlMR_KRv-V0e",
        "colab_type": "code",
        "colab": {}
      },
      "source": [
        "# No Pytorch model.fit() function as it is the case in Tensorflow\n",
        "# but we can implement it by ourselves.\n",
        "\n",
        "# validation_split=0.2 means that 20% of the X_train samples will be used\n",
        "# for a validation test and that \"only\" 80% will be used for training\n",
        "def fit(ann_model, X, Y, verbose=False,\n",
        "        batch_size=1, epochs=500, validation_split=0.2):\n",
        "\n",
        "  n_samples = X.shape[0]\n",
        "  n_samples_test = n_samples - int(n_samples * validation_split)\n",
        "\n",
        "  X  = torch.from_numpy(X).unsqueeze(1).float()\n",
        "  Y  = torch.from_numpy(Y).unsqueeze(1).float()\n",
        "\n",
        "  X_train = X[0:n_samples_test]\n",
        "  Y_train = Y[0:n_samples_test]\n",
        "\n",
        "  X_valid = X[n_samples_test:]\n",
        "  Y_valid = Y[n_samples_test:]\n",
        "\n",
        "  loss_fn = nn.MSELoss()\n",
        "  optimizer = optim.RMSprop(ann_model.parameters(), lr=0.01)\n",
        "\n",
        "  results = Results()\n",
        "  \n",
        "  for epoch in range(0, epochs):\n",
        "\n",
        "    Ŷ_train = ann_model(X_train)\n",
        "    train_loss = loss_fn(Ŷ_train, Y_train)\n",
        "    \n",
        "    Ŷ_valid = ann_model(X_valid)\n",
        "    valid_loss = loss_fn(Ŷ_valid, Y_valid)\n",
        "\n",
        "    optimizer.zero_grad()\n",
        "    train_loss.backward()\n",
        "    optimizer.step()\n",
        "\n",
        "    results.history['train_loss'].append(float(train_loss))\n",
        "    results.history['valid_loss'].append(float(valid_loss))\n",
        "\n",
        "    if verbose:\n",
        "      if epoch % 1000 == 0:\n",
        "        print('epoch:%d, train_loss:%.3f, valid_loss:%.3f' \\\n",
        "              % (epoch, float(train_loss), float(valid_loss)))\n",
        "    \n",
        "  return results\n",
        " "
      ],
      "execution_count": 0,
      "outputs": []
    },
    {
      "cell_type": "code",
      "metadata": {
        "colab_type": "code",
        "outputId": "4b898789-05cb-4f18-cf0c-65718b86e686",
        "id": "pIODL1KXHw6V",
        "colab": {
          "base_uri": "https://localhost:8080/",
          "height": 220
        }
      },
      "source": [
        "# Train the model with the input data and the output_values\n",
        "\n",
        "# validation_split=0.2 means that 20% of the X_train samples will be used\n",
        "# for a validation test and that \"only\" 80% will be used for training\n",
        "\n",
        "t0 = time.time()\n",
        "results = fit(ann_model, X_train, Y_train, verbose=True,\n",
        "              batch_size=1, epochs=10000, validation_split=0.2)\n",
        "t1 = time.time()\n",
        "print('training_%s' % get_duration(t0, t1))"
      ],
      "execution_count": 0,
      "outputs": [
        {
          "output_type": "stream",
          "text": [
            "epoch:0, train_loss:21.798, valid_loss:20.797\n",
            "epoch:1000, train_loss:0.094, valid_loss:0.194\n",
            "epoch:2000, train_loss:0.073, valid_loss:0.129\n",
            "epoch:3000, train_loss:0.047, valid_loss:0.062\n",
            "epoch:4000, train_loss:0.036, valid_loss:0.045\n",
            "epoch:5000, train_loss:0.031, valid_loss:0.036\n",
            "epoch:6000, train_loss:0.024, valid_loss:0.030\n",
            "epoch:7000, train_loss:0.020, valid_loss:0.025\n",
            "epoch:8000, train_loss:0.018, valid_loss:0.022\n",
            "epoch:9000, train_loss:0.017, valid_loss:0.021\n",
            "training_duration: 00:00:11\n"
          ],
          "name": "stdout"
        }
      ]
    },
    {
      "cell_type": "code",
      "metadata": {
        "id": "Q_Hqk8Es-dKw",
        "colab_type": "code",
        "outputId": "6eed6797-4d3b-47dd-ff15-5f384e81db50",
        "colab": {
          "base_uri": "https://localhost:8080/",
          "height": 265
        }
      },
      "source": [
        "plt.plot(results.history['train_loss'], label = 'train_loss')\n",
        "plt.plot(results.history['valid_loss'], label = 'validation_loss')\n",
        "plt.legend()\n",
        "plt.show()"
      ],
      "execution_count": 0,
      "outputs": [
        {
          "output_type": "display_data",
          "data": {
            "image/png": "[encoded data removed]",
            "text/plain": [
              "<Figure size 432x288 with 1 Axes>"
            ]
          },
          "metadata": {
            "tags": []
          }
        }
      ]
    },
    {
      "cell_type": "code",
      "metadata": {
        "id": "kMC6wzE1hTql",
        "colab_type": "code",
        "colab": {}
      },
      "source": [
        "# If you can write a file locally (i.e. If Google Drive available on Colab environnement)\n",
        "# then, you can save your model in a file for future reuse.\n",
        "\n",
        "# Only uncomment the following file if you can write a file\n",
        "#torch.save(ann_model.state_dict(), 'ann_101.pt')\n"
      ],
      "execution_count": 0,
      "outputs": []
    },
    {
      "cell_type": "markdown",
      "metadata": {
        "id": "kpNlaI9--ieU",
        "colab_type": "text"
      },
      "source": [
        "## Evaluate the model"
      ]
    },
    {
      "cell_type": "code",
      "metadata": {
        "id": "ahPvbHaC-mTh",
        "colab_type": "code",
        "outputId": "05d67224-b78b-4065-b30d-a62203497e47",
        "colab": {
          "base_uri": "https://localhost:8080/",
          "height": 35
        }
      },
      "source": [
        "# No Pytorch model.evaluate() function as it is the case in Tensorflow\n",
        "# but we can implement it by ourselves.\n",
        "\n",
        "def evaluate(ann_model, X_, Y_, verbose=False):\n",
        "  \n",
        "  X = torch.from_numpy(X_).unsqueeze(1).float()\n",
        "  Y = torch.from_numpy(Y_).unsqueeze(1).float()\n",
        "\n",
        "  Ŷ = ann_model(X)\n",
        "\n",
        "  # let's calculate the mean square error\n",
        "  # (could also be calculated with sklearn.metrics.mean_squared_error()\n",
        "  # or we could also calculate other errors like in 5% ok\n",
        "  mean_squared_error = torch.sum((Ŷ - Y) ** 2)/Y.shape[0]\n",
        "  if verbose:\n",
        "    print(\"mean_squared_error:%.3f\" % mean_squared_error)\n",
        "  return mean_squared_error\n",
        "\n",
        "test_loss = evaluate(ann_model, X_test, Y_test, verbose=True)"
      ],
      "execution_count": 0,
      "outputs": [
        {
          "output_type": "stream",
          "text": [
            "mean_squared_error:0.011\n"
          ],
          "name": "stdout"
        }
      ]
    },
    {
      "cell_type": "markdown",
      "metadata": {
        "id": "Q7Pxkh-6-wdV",
        "colab_type": "text"
      },
      "source": [
        "## Predict new output data"
      ]
    },
    {
      "cell_type": "code",
      "metadata": {
        "id": "1N7C1yOk-zfr",
        "colab_type": "code",
        "outputId": "25a36949-f342-48d8-9854-372fd6858c3b",
        "colab": {
          "base_uri": "https://localhost:8080/",
          "height": 128
        }
      },
      "source": [
        "X_new_values = torch.Tensor([0., 0.2, 0.4, 0.6, 0.8, 1.0]).unsqueeze(1).float()\n",
        "Y_predicted_values = ann_model(X_new_values).detach().numpy() \n",
        "Y_predicted_values"
      ],
      "execution_count": 0,
      "outputs": [
        {
          "output_type": "execute_result",
          "data": {
            "text/plain": [
              "array([[1.7198057],\n",
              "       [2.4096992],\n",
              "       [3.6398063],\n",
              "       [5.3251657],\n",
              "       [6.159817 ],\n",
              "       [5.437874 ]], dtype=float32)"
            ]
          },
          "metadata": {
            "tags": []
          },
          "execution_count": 21
        }
      ]
    },
    {
      "cell_type": "code",
      "metadata": {
        "id": "N3pZz6yv_Kh8",
        "colab_type": "code",
        "outputId": "bb6dfceb-7dc3-4e60-e29b-43df964eb44e",
        "colab": {
          "base_uri": "https://localhost:8080/",
          "height": 295
        }
      },
      "source": [
        "# Display training data and predicted data graphically\n",
        "plt.title('Training data (green color) + Predicted data (red color)')\n",
        "\n",
        "# training data in green color\n",
        "plt.scatter(X_train, Y_train, color='green',  alpha=0.5)\n",
        "\n",
        "# training data in green color\n",
        "#plt.scatter(X_test, Y_test, color='blue',  alpha=0.5)\n",
        "\n",
        "# predicted data in blue color\n",
        "plt.scatter(X_new_values, Y_predicted_values, color='red',  alpha=0.5)\n",
        "\n",
        "plt.xlabel('x')\n",
        "plt.ylabel('y')\n",
        "plt.show()"
      ],
      "execution_count": 0,
      "outputs": [
        {
          "output_type": "display_data",
          "data": {
            "image/png": "[encoded data removed]",
            "text/plain": [
              "<Figure size 432x288 with 1 Axes>"
            ]
          },
          "metadata": {
            "tags": []
          }
        }
      ]
    }
  ]
}