{
 "cells": [
  {
   "cell_type": "code",
   "execution_count": 1,
   "metadata": {},
   "outputs": [],
   "source": [
    "# From https://deeplearningcourses.com/c/cutting-edge-artificial-intelligence\n",
    "import numpy as np\n",
    "import matplotlib.pyplot as plt"
   ]
  },
  {
   "cell_type": "code",
   "execution_count": 2,
   "metadata": {},
   "outputs": [],
   "source": [
    "def evolution_strategy(\n",
    "    f,\n",
    "    population_size,\n",
    "    sigma,\n",
    "    lr,\n",
    "    initial_params,\n",
    "    num_iters):\n",
    "\n",
    "  # assume initial params is a 1-D array\n",
    "  num_params = len(initial_params)\n",
    "  reward_per_iteration = np.zeros(num_iters)\n",
    "\n",
    "  params = initial_params\n",
    "  #print(params)\n",
    "  #print()\n",
    "  for t in range(num_iters):\n",
    "    N = np.random.randn(population_size, num_params)\n",
    "    #print(N)\n",
    "    R = np.zeros(population_size) # stores the reward\n",
    "\n",
    "    # loop through each \"offspring\"\n",
    "    for j in range(population_size):\n",
    "      params_try = params + sigma*N[j]\n",
    "      R[j] = f(params_try)\n",
    "\n",
    "    m = R.mean()\n",
    "    A = (R - m) / R.std()\n",
    "    #print(R)\n",
    "    #print(m)\n",
    "    #print(R.std())\n",
    "    #print(A)\n",
    "    \n",
    "    reward_per_iteration[t] = m\n",
    "    params = params + lr/(population_size*sigma) * np.dot(N.T, A)\n",
    "    #print(params)\n",
    "    #print()\n",
    "  return params, reward_per_iteration"
   ]
  },
  {
   "cell_type": "code",
   "execution_count": 3,
   "metadata": {},
   "outputs": [],
   "source": [
    "def reward_function(params):\n",
    "  x0 = params[0]\n",
    "  x1 = params[1]\n",
    "  x2 = params[2]\n",
    "  return -(x0**2 + 0.1*(x1 - 10)**2 + 0.5*(x2 + 20)**2)"
   ]
  },
  {
   "cell_type": "code",
   "execution_count": 4,
   "metadata": {},
   "outputs": [
    {
     "data": {
      "image/png": "[encoded data removed]",
      "text/plain": [
       "<Figure size 432x288 with 1 Axes>"
      ]
     },
     "metadata": {
      "needs_background": "light"
     },
     "output_type": "display_data"
    },
    {
     "name": "stdout",
     "output_type": "stream",
     "text": [
      "Final params: [ -0.0214839    9.98001188 -19.98064004]\n"
     ]
    }
   ],
   "source": [
    "if __name__ == '__main__':\n",
    "  best_params, rewards = evolution_strategy(\n",
    "    f=reward_function,\n",
    "    population_size=2,\n",
    "    sigma=0.1,\n",
    "    lr=1e-3,\n",
    "    initial_params=np.random.randn(3),\n",
    "    num_iters=10000,\n",
    "  )\n",
    "\n",
    "  # plot the rewards per iteration\n",
    "  plt.plot(rewards)\n",
    "  plt.show()\n",
    "\n",
    "  # final params\n",
    "print(\"Final params:\", best_params)"
   ]
  }
 ],
 "metadata": {
  "kernelspec": {
   "display_name": "Python 3",
   "language": "python",
   "name": "python3"
  },
  "language_info": {
   "codemirror_mode": {
    "name": "ipython",
    "version": 3
   },
   "file_extension": ".py",
   "mimetype": "text/x-python",
   "name": "python",
   "nbconvert_exporter": "python",
   "pygments_lexer": "ipython3",
   "version": "3.6.8"
  }
 },
 "nbformat": 4,
 "nbformat_minor": 2
}
