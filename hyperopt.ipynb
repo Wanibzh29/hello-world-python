{
 "cells": [
  {
   "cell_type": "code",
   "execution_count": 1,
   "metadata": {},
   "outputs": [],
   "source": [
    "# import TPE library\n",
    "from hyperopt import fmin, tpe, hp, Trials\n",
    "import numpy as np"
   ]
  },
  {
   "cell_type": "code",
   "execution_count": 2,
   "metadata": {},
   "outputs": [],
   "source": [
    "# example of f() function to be optimized\n",
    "def f(x, y):\n",
    "    return (x-5)*(x-5)+(y-1)*(y-1)"
   ]
  },
  {
   "cell_type": "code",
   "execution_count": 3,
   "metadata": {},
   "outputs": [],
   "source": [
    "#!python -m pip uninstall bson\n",
    "#!python -m pip install hyperopt"
   ]
  },
  {
   "cell_type": "code",
   "execution_count": 4,
   "metadata": {},
   "outputs": [],
   "source": [
    "# launcg the objective function on f() with x and y hyperparameters\n",
    "def objective(hyper):\n",
    "    print(hyper)\n",
    "    x = hyper['x']\n",
    "    y = hyper['y']\n",
    "    return f(x, y)"
   ]
  },
  {
   "cell_type": "code",
   "execution_count": 5,
   "metadata": {},
   "outputs": [],
   "source": [
    "X_CHOICES = [3, 4, 5, 6]\n",
    "Y_CHOICES = [1, 2, 3]"
   ]
  },
  {
   "cell_type": "code",
   "execution_count": 6,
   "metadata": {},
   "outputs": [
    {
     "name": "stdout",
     "output_type": "stream",
     "text": [
      "{'x': 6, 'y': 2}\n",
      "{'x': 6, 'y': 3}\n",
      "{'x': 4, 'y': 1}\n",
      "{'x': 3, 'y': 1}\n",
      "{'x': 5, 'y': 3}\n",
      "{'x': 5, 'y': 1}\n",
      "{'x': 4, 'y': 3}\n",
      "{'x': 3, 'y': 1}\n",
      "{'x': 4, 'y': 3}\n",
      "{'x': 4, 'y': 1}\n",
      "{'x': 3, 'y': 3}\n",
      "{'x': 4, 'y': 1}\n",
      "{'x': 4, 'y': 2}\n",
      "{'x': 6, 'y': 2}\n",
      "{'x': 5, 'y': 1}\n",
      "{'x': 5, 'y': 3}\n",
      "{'x': 3, 'y': 1}\n",
      "{'x': 5, 'y': 2}\n",
      "{'x': 5, 'y': 3}\n",
      "{'x': 3, 'y': 1}\n",
      "{'x': 2, 'y': 0}\n"
     ]
    }
   ],
   "source": [
    "# define in which sub-spaces each hyperparater should be search and how\n",
    "space = {\n",
    "    #'x': hp.randint('x', 2),    # random integer between 0 and 10     \n",
    "    #'y': hp.uniform('y', -1.0, 5.0), # random float between 0 and 10\n",
    "    'x': hp.choice('x', X_CHOICES),\n",
    "    'y': hp.choice('y', Y_CHOICES)\n",
    "}\n",
    "\n",
    "# create objects for future trials\n",
    "trials = Trials()\n",
    "\n",
    "# identify the best parameters to get the min \n",
    "# https://github.com/hyperopt/hyperopt/blob/master/hyperopt/fmin.py\n",
    "best = fmin(fn=objective,\n",
    "            space=space, \n",
    "            algo=tpe.suggest,\n",
    "            max_evals=20,\n",
    "            trials=trials,\n",
    "            show_progressbar=False)\n",
    "\n",
    "print(best)"
   ]
  },
  {
   "cell_type": "code",
   "execution_count": 7,
   "metadata": {},
   "outputs": [
    {
     "data": {
      "text/plain": [
       "{'x': 2, 'y': 0}"
      ]
     },
     "execution_count": 7,
     "metadata": {},
     "output_type": "execute_result"
    }
   ],
   "source": [
    "best"
   ]
  },
  {
   "cell_type": "code",
   "execution_count": 8,
   "metadata": {},
   "outputs": [
    {
     "data": {
      "text/plain": [
       "5"
      ]
     },
     "execution_count": 8,
     "metadata": {},
     "output_type": "execute_result"
    }
   ],
   "source": [
    "X_CHOICES[best['x']]"
   ]
  },
  {
   "cell_type": "code",
   "execution_count": 9,
   "metadata": {},
   "outputs": [
    {
     "data": {
      "text/plain": [
       "1"
      ]
     },
     "execution_count": 9,
     "metadata": {},
     "output_type": "execute_result"
    }
   ],
   "source": [
    "Y_CHOICES[best['y']]"
   ]
  }
 ],
 "metadata": {
  "kernelspec": {
   "display_name": "Python 3",
   "language": "python",
   "name": "python3"
  },
  "language_info": {
   "codemirror_mode": {
    "name": "ipython",
    "version": 3
   },
   "file_extension": ".py",
   "mimetype": "text/x-python",
   "name": "python",
   "nbconvert_exporter": "python",
   "pygments_lexer": "ipython3",
   "version": "3.7.4"
  }
 },
 "nbformat": 4,
 "nbformat_minor": 2
}
