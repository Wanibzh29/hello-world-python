{
 "cells": [
  {
   "cell_type": "code",
   "execution_count": 1,
   "metadata": {},
   "outputs": [],
   "source": [
    "# import TPE library\n",
    "from hyperopt import fmin, tpe, hp, Trials"
   ]
  },
  {
   "cell_type": "code",
   "execution_count": 2,
   "metadata": {},
   "outputs": [],
   "source": [
    "# example of f() function to be optimized\n",
    "def f(x, y):\n",
    "    return (x-5)*(x-5)+(y-1)*(y-1)"
   ]
  },
  {
   "cell_type": "code",
   "execution_count": 3,
   "metadata": {},
   "outputs": [],
   "source": [
    "# launcg the objective function on f() with x and y hyperparameters\n",
    "def objective(hyper):\n",
    "    print(hyper)\n",
    "    x = hyper['x']\n",
    "    y = hyper['y']\n",
    "    return f(x, y)"
   ]
  },
  {
   "cell_type": "code",
   "execution_count": 4,
   "metadata": {},
   "outputs": [
    {
     "name": "stdout",
     "output_type": "stream",
     "text": [
      "{'x': 8, 'y': 0.7499171611719972}\n",
      "{'x': 7, 'y': 3.5640597319962373}\n",
      "{'x': 1, 'y': 1.1948901275207753}\n",
      "{'x': 7, 'y': 3.2751152465877666}\n",
      "{'x': 4, 'y': 0.8726916851945121}\n",
      "{'x': 3, 'y': -0.39452489031000515}\n",
      "{'x': 6, 'y': 1.9202512876492106}\n",
      "{'x': 1, 'y': 3.923450319360496}\n",
      "{'x': 5, 'y': 3.72088382754644}\n",
      "{'x': 1, 'y': 0.47961929488915467}\n",
      "{'x': 9, 'y': -0.6397074648370129}\n",
      "{'x': 7, 'y': -0.33865844856146365}\n",
      "{'x': 5, 'y': 3.9621871781493843}\n",
      "{'x': 6, 'y': 2.8621959153695826}\n",
      "{'x': 1, 'y': 4.161304738909515}\n",
      "{'x': 9, 'y': 4.908611835106914}\n",
      "{'x': 6, 'y': -0.5105889118533218}\n",
      "{'x': 0, 'y': 2.0599722000875}\n",
      "{'x': 4, 'y': 3.342902832266213}\n",
      "{'x': 2, 'y': -0.8246763104351169}\n"
     ]
    }
   ],
   "source": [
    "# define in which sub-spaces each hyperparater should be search and how\n",
    "space = {\n",
    "    'x': hp.randint('x', 10),    # random integer between 0 and 10     \n",
    "    'y': hp.uniform('y', -1.0, 5.0), # random float between 0 and 10\n",
    "}\n",
    "\n",
    "# create objects for future trials\n",
    "trials = Trials()\n",
    "\n",
    "# identify the best parameters to get the min \n",
    "# https://github.com/hyperopt/hyperopt/blob/master/hyperopt/fmin.py\n",
    "best = fmin(fn=objective,\n",
    "            space=space, \n",
    "            algo=tpe.suggest,\n",
    "            max_evals=20,\n",
    "            trials=trials,\n",
    "            show_progressbar=False)"
   ]
  },
  {
   "cell_type": "code",
   "execution_count": 5,
   "metadata": {},
   "outputs": [
    {
     "name": "stdout",
     "output_type": "stream",
     "text": [
      "{'x': 4, 'y': 0.8726916851945121}\n"
     ]
    }
   ],
   "source": [
    "print(best)"
   ]
  }
 ],
 "metadata": {
  "kernelspec": {
   "display_name": "Python 3",
   "language": "python",
   "name": "python3"
  },
  "language_info": {
   "codemirror_mode": {
    "name": "ipython",
    "version": 3
   },
   "file_extension": ".py",
   "mimetype": "text/x-python",
   "name": "python",
   "nbconvert_exporter": "python",
   "pygments_lexer": "ipython3",
   "version": "3.6.8"
  }
 },
 "nbformat": 4,
 "nbformat_minor": 2
}
