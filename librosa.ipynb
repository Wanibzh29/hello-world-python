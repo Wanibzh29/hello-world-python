{
 "cells": [
  {
   "cell_type": "code",
   "execution_count": 1,
   "metadata": {},
   "outputs": [],
   "source": [
    "import librosa\n",
    "import librosa.display\n",
    "import matplotlib.pyplot as plt"
   ]
  },
  {
   "cell_type": "code",
   "execution_count": 2,
   "metadata": {},
   "outputs": [],
   "source": [
    "from scipy.io import wavfile as wav"
   ]
  },
  {
   "cell_type": "markdown",
   "metadata": {},
   "source": [
    "### Word 1"
   ]
  },
  {
   "cell_type": "code",
   "execution_count": 3,
   "metadata": {},
   "outputs": [],
   "source": [
    "!wget -q https://upload.wikimedia.org/wikipedia/commons/0/06/LL-Q150_%28fra%29-Lepticed7-anticonstitutionnellement.wav"
   ]
  },
  {
   "cell_type": "code",
   "execution_count": 4,
   "metadata": {},
   "outputs": [
    {
     "data": {
      "text/plain": [
       "<matplotlib.collections.PolyCollection at 0x7fc6c1eaaf28>"
      ]
     },
     "execution_count": 4,
     "metadata": {},
     "output_type": "execute_result"
    },
    {
     "data": {
      "image/png": "[encoded data removed]",
      "text/plain": [
       "<Figure size 432x288 with 1 Axes>"
      ]
     },
     "metadata": {
      "needs_background": "light"
     },
     "output_type": "display_data"
    }
   ],
   "source": [
    "file_a = \"LL-Q150_(fra)-Lepticed7-anticonstitutionnellement.wav\"\n",
    "y_a, sr_a = librosa.load(file_a)\n",
    "\n",
    "librosa.display.waveplot(y=y_a, sr=sr_a)"
   ]
  },
  {
   "cell_type": "code",
   "execution_count": 5,
   "metadata": {},
   "outputs": [
    {
     "data": {
      "text/plain": [
       "(40161,)"
      ]
     },
     "execution_count": 5,
     "metadata": {},
     "output_type": "execute_result"
    }
   ],
   "source": [
    "y_a.shape"
   ]
  },
  {
   "cell_type": "code",
   "execution_count": 21,
   "metadata": {},
   "outputs": [
    {
     "data": {
      "text/plain": [
       "40161"
      ]
     },
     "execution_count": 21,
     "metadata": {},
     "output_type": "execute_result"
    }
   ],
   "source": [
    "shape_max=y_a.shape[0]\n",
    "shape_max"
   ]
  },
  {
   "cell_type": "code",
   "execution_count": 6,
   "metadata": {},
   "outputs": [
    {
     "data": {
      "text/plain": [
       "1.821360544217687"
      ]
     },
     "execution_count": 6,
     "metadata": {},
     "output_type": "execute_result"
    }
   ],
   "source": [
    "time = librosa.get_duration(y=y_a, sr=sr_a)\n",
    "time"
   ]
  },
  {
   "cell_type": "code",
   "execution_count": 7,
   "metadata": {},
   "outputs": [
    {
     "data": {
      "text/plain": [
       "22050.0"
      ]
     },
     "execution_count": 7,
     "metadata": {},
     "output_type": "execute_result"
    }
   ],
   "source": [
    "nb_samples_per_sec = y_a.shape[0] / time\n",
    "nb_samples_per_sec"
   ]
  },
  {
   "cell_type": "code",
   "execution_count": 8,
   "metadata": {},
   "outputs": [],
   "source": [
    "mfccs_a = librosa.feature.mfcc(y=y_a, sr=sr_a, n_mfcc = 40)"
   ]
  },
  {
   "cell_type": "code",
   "execution_count": 9,
   "metadata": {},
   "outputs": [
    {
     "data": {
      "text/plain": [
       "(40, 79)"
      ]
     },
     "execution_count": 9,
     "metadata": {},
     "output_type": "execute_result"
    }
   ],
   "source": [
    "mfccs_a.shape"
   ]
  },
  {
   "cell_type": "code",
   "execution_count": 10,
   "metadata": {},
   "outputs": [
    {
     "data": {
      "text/plain": [
       "array([-490.62497, -490.5811 , -496.9925 , -494.447  , -499.4494 ,\n",
       "       -513.4912 , -524.57733, -527.7374 , -525.1854 , -529.70514,\n",
       "       -439.47366, -288.73346, -202.32915, -184.56198, -224.53717,\n",
       "       -323.674  , -264.9255 , -171.9149 , -133.09267, -164.0225 ,\n",
       "       -239.18756, -271.40146, -189.49455, -148.22363, -145.64919,\n",
       "       -159.92896, -182.87991, -163.53893, -208.24713, -295.7813 ,\n",
       "       -336.39062, -281.43295, -248.53336, -265.37927, -322.01123,\n",
       "       -397.54898, -340.4039 , -285.9801 , -270.33765, -258.56564,\n",
       "       -246.19423, -251.5883 , -250.9488 , -180.55307, -136.87924,\n",
       "       -136.33197, -159.70929, -211.70615, -255.86958, -180.4965 ,\n",
       "       -135.68323, -125.94328, -139.00612, -186.42151, -182.16467,\n",
       "       -170.57036, -195.8073 , -242.68121, -265.15796, -225.02882,\n",
       "       -219.4081 , -249.73997, -289.07092, -322.08475, -361.89603,\n",
       "       -402.86682, -449.55823, -489.19977, -491.76385, -489.73203,\n",
       "       -495.4993 , -506.70474, -511.7482 , -510.76596, -513.1761 ,\n",
       "       -518.30286, -527.0112 , -535.84735, -545.4879 ], dtype=float32)"
      ]
     },
     "execution_count": 10,
     "metadata": {},
     "output_type": "execute_result"
    }
   ],
   "source": [
    "mfccs_a[0]"
   ]
  },
  {
   "cell_type": "markdown",
   "metadata": {},
   "source": [
    "## Word 2"
   ]
  },
  {
   "cell_type": "code",
   "execution_count": 51,
   "metadata": {},
   "outputs": [],
   "source": [
    "!wget -q https://upload.wikimedia.org/wikipedia/commons/3/3c/LL-Q12107_%28bre%29-Marxav-Breizh.wav"
   ]
  },
  {
   "cell_type": "code",
   "execution_count": 52,
   "metadata": {},
   "outputs": [
    {
     "data": {
      "text/plain": [
       "<matplotlib.collections.PolyCollection at 0x7fc6c213d4e0>"
      ]
     },
     "execution_count": 52,
     "metadata": {},
     "output_type": "execute_result"
    },
    {
     "data": {
      "image/png": "[encoded data removed]",
      "text/plain": [
       "<Figure size 432x288 with 1 Axes>"
      ]
     },
     "metadata": {
      "needs_background": "light"
     },
     "output_type": "display_data"
    }
   ],
   "source": [
    "file_b = 'LL-Q150_(fra)-Marxav-Breizh.wav'\n",
    "y_b, sr_b = librosa.load(file_b)\n",
    "librosa.display.waveplot(y=y_b, sr=sr_b)"
   ]
  },
  {
   "cell_type": "code",
   "execution_count": 53,
   "metadata": {},
   "outputs": [
    {
     "data": {
      "text/plain": [
       "22050"
      ]
     },
     "execution_count": 53,
     "metadata": {},
     "output_type": "execute_result"
    }
   ],
   "source": [
    "sr_b"
   ]
  },
  {
   "cell_type": "code",
   "execution_count": 54,
   "metadata": {},
   "outputs": [
    {
     "data": {
      "text/plain": [
       "(21345,)"
      ]
     },
     "execution_count": 54,
     "metadata": {},
     "output_type": "execute_result"
    }
   ],
   "source": [
    "y_b.shape"
   ]
  },
  {
   "cell_type": "code",
   "execution_count": 55,
   "metadata": {},
   "outputs": [
    {
     "data": {
      "text/plain": [
       "0.9680272108843537"
      ]
     },
     "execution_count": 55,
     "metadata": {},
     "output_type": "execute_result"
    }
   ],
   "source": [
    "time = librosa.get_duration(y=y_b, sr=sr_b)\n",
    "time"
   ]
  },
  {
   "cell_type": "code",
   "execution_count": 56,
   "metadata": {},
   "outputs": [],
   "source": [
    "mfccs_b = librosa.feature.mfcc(y=y_b, sr=sr_b, n_mfcc = 40)"
   ]
  },
  {
   "cell_type": "code",
   "execution_count": 57,
   "metadata": {},
   "outputs": [
    {
     "data": {
      "text/plain": [
       "(40, 42)"
      ]
     },
     "execution_count": 57,
     "metadata": {},
     "output_type": "execute_result"
    }
   ],
   "source": [
    "mfccs_b.shape"
   ]
  },
  {
   "cell_type": "code",
   "execution_count": 58,
   "metadata": {},
   "outputs": [
    {
     "data": {
      "text/plain": [
       "43.38721011946592"
      ]
     },
     "execution_count": 58,
     "metadata": {},
     "output_type": "execute_result"
    }
   ],
   "source": [
    "mfccs_b.shape[1]/time"
   ]
  },
  {
   "cell_type": "code",
   "execution_count": 59,
   "metadata": {},
   "outputs": [],
   "source": [
    "# Adjust size of sample"
   ]
  },
  {
   "cell_type": "code",
   "execution_count": 60,
   "metadata": {},
   "outputs": [],
   "source": [
    "y_b = librosa.util.fix_length(y_b, shape_max)"
   ]
  },
  {
   "cell_type": "code",
   "execution_count": 61,
   "metadata": {},
   "outputs": [
    {
     "data": {
      "text/plain": [
       "<matplotlib.collections.PolyCollection at 0x7fc6c1f947f0>"
      ]
     },
     "execution_count": 61,
     "metadata": {},
     "output_type": "execute_result"
    },
    {
     "data": {
      "image/png": "[encoded data removed]",
      "text/plain": [
       "<Figure size 432x288 with 1 Axes>"
      ]
     },
     "metadata": {
      "needs_background": "light"
     },
     "output_type": "display_data"
    }
   ],
   "source": [
    "librosa.display.waveplot(y=y_b, sr=sr_b)"
   ]
  },
  {
   "cell_type": "code",
   "execution_count": 62,
   "metadata": {},
   "outputs": [
    {
     "data": {
      "text/plain": [
       "(40161,)"
      ]
     },
     "execution_count": 62,
     "metadata": {},
     "output_type": "execute_result"
    }
   ],
   "source": [
    "y_b.shape"
   ]
  },
  {
   "cell_type": "code",
   "execution_count": 63,
   "metadata": {},
   "outputs": [
    {
     "data": {
      "text/plain": [
       "1.821360544217687"
      ]
     },
     "execution_count": 63,
     "metadata": {},
     "output_type": "execute_result"
    }
   ],
   "source": [
    "time = librosa.get_duration(y=y_b, sr=sr_b)\n",
    "time"
   ]
  },
  {
   "cell_type": "code",
   "execution_count": 64,
   "metadata": {},
   "outputs": [],
   "source": [
    "mfccs_b = librosa.feature.mfcc(y=y_b, sr=sr_b, n_mfcc = 40)"
   ]
  },
  {
   "cell_type": "code",
   "execution_count": 65,
   "metadata": {},
   "outputs": [
    {
     "data": {
      "text/plain": [
       "(40, 79)"
      ]
     },
     "execution_count": 65,
     "metadata": {},
     "output_type": "execute_result"
    }
   ],
   "source": [
    "mfccs_b.shape"
   ]
  },
  {
   "cell_type": "code",
   "execution_count": 66,
   "metadata": {},
   "outputs": [
    {
     "data": {
      "text/plain": [
       "43.37416896989617"
      ]
     },
     "execution_count": 66,
     "metadata": {},
     "output_type": "execute_result"
    }
   ],
   "source": [
    "mfccs_b.shape[1]/time"
   ]
  },
  {
   "cell_type": "code",
   "execution_count": 67,
   "metadata": {},
   "outputs": [
    {
     "data": {
      "text/plain": [
       "array([-509.8938  , -504.18115 , -506.21826 , -504.48883 , -508.73315 ,\n",
       "       -515.2821  , -518.1788  , -509.86462 , -500.31036 , -498.8031  ,\n",
       "       -506.07178 , -480.49615 , -434.02502 , -355.61908 , -240.29095 ,\n",
       "       -166.98112 , -120.812775,  -98.20008 ,  -99.680435,  -99.66283 ,\n",
       "       -110.25293 , -145.38957 , -185.9795  , -200.24232 , -195.83694 ,\n",
       "       -195.63773 , -206.75304 , -223.95633 , -264.49207 , -342.6547  ,\n",
       "       -407.81512 , -448.75174 , -466.725   , -470.93698 , -480.41223 ,\n",
       "       -481.2668  , -481.77362 , -488.7678  , -493.07715 , -487.06674 ,\n",
       "       -480.1562  , -479.83652 , -523.1014  , -610.9713  , -631.50507 ,\n",
       "       -631.50507 , -631.50507 , -631.50507 , -631.50507 , -631.50507 ,\n",
       "       -631.50507 , -631.50507 , -631.50507 , -631.50507 , -631.50507 ,\n",
       "       -631.50507 , -631.50507 , -631.50507 , -631.50507 , -631.50507 ,\n",
       "       -631.50507 , -631.50507 , -631.50507 , -631.50507 , -631.50507 ,\n",
       "       -631.50507 , -631.50507 , -631.50507 , -631.50507 , -631.50507 ,\n",
       "       -631.50507 , -631.50507 , -631.50507 , -631.50507 , -631.50507 ,\n",
       "       -631.50507 , -631.50507 , -631.50507 , -631.50507 ], dtype=float32)"
      ]
     },
     "execution_count": 67,
     "metadata": {},
     "output_type": "execute_result"
    }
   ],
   "source": [
    "mfccs_b[0]"
   ]
  },
  {
   "cell_type": "code",
   "execution_count": 68,
   "metadata": {},
   "outputs": [
    {
     "data": {
      "text/plain": [
       "<matplotlib.axes._subplots.AxesSubplot at 0x7fc6c0541048>"
      ]
     },
     "execution_count": 68,
     "metadata": {},
     "output_type": "execute_result"
    },
    {
     "data": {
      "image/png": "[encoded data removed]",
      "text/plain": [
       "<Figure size 576x576 with 1 Axes>"
      ]
     },
     "metadata": {
      "needs_background": "light"
     },
     "output_type": "display_data"
    }
   ],
   "source": [
    "plt.figure(figsize=(8,8))\n",
    "librosa.display.specshow(mfccs_b, sr=sr_b, x_axis='time')\n",
    "#plt.savefig('MFCCs.png')\n",
    "#experiment.log_image('MFCCs.png')"
   ]
  }
 ],
 "metadata": {
  "kernelspec": {
   "display_name": "Python 3",
   "language": "python",
   "name": "python3"
  },
  "language_info": {
   "codemirror_mode": {
    "name": "ipython",
    "version": 3
   },
   "file_extension": ".py",
   "mimetype": "text/x-python",
   "name": "python",
   "nbconvert_exporter": "python",
   "pygments_lexer": "ipython3",
   "version": "3.6.9"
  }
 },
 "nbformat": 4,
 "nbformat_minor": 2
}
